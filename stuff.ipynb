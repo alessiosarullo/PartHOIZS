{
 "cells": [
  {
   "cell_type": "code",
   "execution_count": 5,
   "metadata": {
    "pycharm": {
     "is_executing": false,
     "name": "#%% Random stuff\n"
    }
   },
   "outputs": [
    {
     "name": "stdout",
     "output_type": "stream",
     "text": [
      "[5, 4] ['1212', '23', '1234'] None\n",
      "[5, 4] ['1212', '23', '1234'] None\n"
     ]
    }
   ],
   "source": [
    "from collections import namedtuple\n",
    "\n",
    "def f():\n",
    "    mb = namedtuple('Minibatch', ['img_attrs', 'person_attrs', 'obj_attrs'])\n",
    "    return mb(img_attrs=[5, 4], person_attrs=['1212', '23', '1234'], obj_attrs=None)\n",
    "\n",
    "a = f()\n",
    "b, c, d = a\n",
    "print(b, c, d)\n",
    "print(a.img_attrs, a.person_attrs, a.obj_attrs)\n",
    "\n",
    "# import numpy as np\n",
    "# from matplotlib import pyplot as plt\n",
    "# \n",
    "# n = 50\n",
    "# x = np.arange(n + 1)\n",
    "# y = 1 - 1/np.maximum(1, x)\n",
    "# \n",
    "# plt.plot(x, y)\n",
    "# plt.grid()\n",
    "# plt.show()"
   ]
  },
  {
   "cell_type": "code",
   "execution_count": 1,
   "metadata": {
    "pycharm": {
     "is_executing": false,
     "name": "#%% HAKE\n"
    }
   },
   "outputs": [],
   "source": [
    "import json\n",
    "\n",
    "with open('data/HICO/HAKE/Part_State_76.txt', 'r') as f:\n",
    "    lines = f.readlines()\n",
    "part_labels = [l.strip() for l in lines]\n",
    "part_action_pairs = []\n",
    "part_action_dict = {}\n",
    "for l in lines:\n",
    "    pa_pair = [x.strip() for x in l.split(':')]\n",
    "    part, action = pa_pair\n",
    "    part_action_pairs.append(pa_pair)\n",
    "    part_action_dict.setdefault(part, []).append(action)\n",
    "actions = sorted({v for vs in part_action_dict.values() for v in vs})\n",
    "parts = sorted(part_action_dict.keys())\n",
    "\n",
    "hico_parts_train = json.load(open('data/HICO/HAKE/train.json', 'r'))\n"
   ]
  },
  {
   "cell_type": "code",
   "execution_count": 1,
   "metadata": {
    "pycharm": {
     "is_executing": false,
     "name": "#%% Embedding similarity\n"
    }
   },
   "outputs": [
    {
     "name": "stdout",
     "output_type": "stream",
     "text": [
      "[[ 55 108]\n",
      " [ 57  71]\n",
      " [ 66  67]\n",
      " [ 67  66]\n",
      " [ 71  57]\n",
      " [ 86  87]\n",
      " [ 86  93]\n",
      " [ 86  97]\n",
      " [ 87  86]\n",
      " [ 87  93]\n",
      " [ 87  94]\n",
      " [ 87 101]\n",
      " [ 87 103]\n",
      " [ 87 109]\n",
      " [ 93  86]\n",
      " [ 93  87]\n",
      " [ 93  94]\n",
      " [ 93 101]\n",
      " [ 93 103]\n",
      " [ 93 109]\n",
      " [ 94  87]\n",
      " [ 94  93]\n",
      " [ 97  86]\n",
      " [101  87]\n",
      " [101  93]\n",
      " [101 103]\n",
      " [101 109]\n",
      " [103  87]\n",
      " [103  93]\n",
      " [103 101]\n",
      " [103 109]\n",
      " [108  55]\n",
      " [109  87]\n",
      " [109  93]\n",
      " [109 101]\n",
      " [109 103]]\n"
     ]
    }
   ],
   "source": [
    "import numpy as np\n",
    "import pickle\n",
    "\n",
    "embs = pickle.load(open('cache/glove_300_act_norm-avg.pkl', 'rb'))\n",
    "sim = embs @ embs.T\n",
    "out = np.array([7, 17, 21, 25, 38, 50])\n",
    "\n",
    "x, y = np.where(sim - np.eye(sim.shape[0]) >= 0.6)\n",
    "\n",
    "inds = sorted({i for i, n in enumerate(x) if n not in out} &\n",
    "              {i for i, n in enumerate(y) if n not in out})\n",
    "x = x[inds]\n",
    "y = y[inds]\n",
    "print(np.stack([x, y], axis=1))\n",
    "        "
   ]
  },
  {
   "cell_type": "code",
   "execution_count": 17,
   "metadata": {
    "pycharm": {
     "is_executing": false,
     "name": "#%% Pytorch 0 loss\n"
    }
   },
   "outputs": [
    {
     "name": "stdout",
     "output_type": "stream",
     "text": [
      "tensor([[0., 1.],\n",
      "        [2., 3.],\n",
      "        [4., 5.]], requires_grad=True)\n",
      "tensor([[ 0.,  1.],\n",
      "        [ 4.,  9.],\n",
      "        [16., 25.]], grad_fn=<PowBackward0>)\n",
      "tensor([[ 0.,  2.],\n",
      "        [ 4.,  6.],\n",
      "        [ 8., 10.]])\n",
      "\n",
      "tensor([[0., 1.],\n",
      "        [2., 3.],\n",
      "        [4., 5.]], requires_grad=True)\n",
      "tensor([[   0.,    1.],\n",
      "        [   4., 2342.],\n",
      "        [  16.,   25.]], grad_fn=<CopySlices>)\n",
      "tensor([[ 0.,  2.],\n",
      "        [ 4.,  0.],\n",
      "        [ 8., 10.]])\n",
      "\n",
      "tensor([[0., 1.],\n",
      "        [2., 3.],\n",
      "        [4., 5.]], requires_grad=True)\n",
      "tensor([[ 0.,  1.],\n",
      "        [ 4.,  0.],\n",
      "        [16., 25.]], grad_fn=<CopySlices>)\n",
      "tensor([[ 0.,  2.],\n",
      "        [ 4.,  6.],\n",
      "        [ 8., 10.]])\n"
     ]
    }
   ],
   "source": [
    "import numpy as np\n",
    "import torch\n",
    "x = torch.tensor(torch.from_numpy(np.arange(6).reshape(3, 2)).float(),requires_grad=True)\n",
    "y = x**2\n",
    "z = y.sum()\n",
    "z.backward()\n",
    "print(x) \n",
    "print(y) \n",
    "print(x.grad)\n",
    "\n",
    "print()\n",
    "x = torch.tensor(torch.from_numpy(np.arange(6).reshape(3, 2)).float(),requires_grad=True)\n",
    "y = x**2\n",
    "y[1, 1] = 2342\n",
    "z = y.sum()\n",
    "z.backward()\n",
    "print(x) \n",
    "print(y) \n",
    "print(x.grad) \n",
    "\n",
    "print()\n",
    "x = torch.tensor(torch.from_numpy(np.arange(6).reshape(3, 2)).float(),requires_grad=True)\n",
    "y = x**2\n",
    "y[1, 1] -= 9\n",
    "z = y.sum()\n",
    "z.backward()\n",
    "print(x) \n",
    "print(y) \n",
    "print(x.grad) "
   ]
  },
  {
   "cell_type": "code",
   "execution_count": 10,
   "metadata": {
    "pycharm": {
     "is_executing": false,
     "name": "#%% Pytorch grad of concatenation of grad-requiring tensor with detached one\n"
    }
   },
   "outputs": [
    {
     "name": "stdout",
     "output_type": "stream",
     "text": [
      "tensor(1, dtype=torch.uint8)\n",
      "False True True\n",
      "tensor([[0., 1.],\n",
      "        [2., 3.],\n",
      "        [4., 5.],\n",
      "        [6., 7.],\n",
      "        [8., 9.]], requires_grad=True)\n",
      "tensor([[0., 1.],\n",
      "        [2., 3.],\n",
      "        [4., 5.],\n",
      "        [6., 7.],\n",
      "        [8., 9.]], grad_fn=<TakeBackward>)\n",
      "tensor([[ 0.,  1.],\n",
      "        [ 4.,  9.],\n",
      "        [16., 25.],\n",
      "        [36., 49.],\n",
      "        [64., 81.]], grad_fn=<PowBackward0>)\n",
      "None\n",
      "None\n",
      "None\n",
      "None\n",
      "tensor([[ 0.,  0.],\n",
      "        [ 4.,  6.],\n",
      "        [ 8., 10.],\n",
      "        [ 0.,  0.],\n",
      "        [ 0.,  0.]])\n"
     ]
    }
   ],
   "source": [
    "import numpy as np\n",
    "import torch\n",
    "n = 5\n",
    "x0 = torch.tensor(torch.from_numpy(np.arange(n*2).reshape(n, 2)).float(),requires_grad=True)\n",
    "a_inds = torch.from_numpy(np.array([0, 3, 4]))\n",
    "b_inds = torch.from_numpy(np.array([i for i in range(n) if i not in a_inds]))\n",
    "a = x0[a_inds, :].detach()\n",
    "b = x0[b_inds, :]\n",
    "x = torch.cat([a, b], dim=0)[torch.sort(torch.cat([a_inds, b_inds]))[1]]\n",
    "print((x0 == x).all())\n",
    "y = x**2\n",
    "z = y.sum()\n",
    "z.backward()\n",
    "print(a.requires_grad, b.requires_grad, x.requires_grad)\n",
    "print(x0) \n",
    "print(x) \n",
    "print(y) \n",
    "print(y.grad)\n",
    "print(x.grad)\n",
    "print(a.grad)\n",
    "print(b.grad)\n",
    "print(x0.grad)"
   ]
  },
  {
   "cell_type": "code",
   "execution_count": 21,
   "metadata": {
    "collapsed": true,
    "pycharm": {
     "is_executing": false,
     "name": "#%% LIS\n"
    }
   },
   "outputs": [
    {
     "data": {
      "image/png": "[encoded data removed]",
      "text/plain": [
       "<Figure size 432x288 with 1 Axes>"
      ]
     },
     "metadata": {
      "needs_background": "light"
     },
     "output_type": "display_data"
    }
   ],
   "source": [
    "import numpy as np\n",
    "from matplotlib import pyplot as plt\n",
    "\n",
    "n = 100\n",
    "x = np.arange(n + 1) / n\n",
    "\n",
    "w, k = 96, 10\n",
    "T = 1 + np.exp(k - w).item()\n",
    "y = T / (1 + np.exp(-(w * x - k)))\n",
    "\n",
    "plt.plot(x, y)\n",
    "plt.gca().set_xticks(np.arange(11) / 10)\n",
    "plt.grid()\n",
    "plt.show()\n"
   ]
  },
  {
   "cell_type": "code",
   "execution_count": 1,
   "metadata": {
    "pycharm": {
     "is_executing": false,
     "name": "#%% Imagenet vs COCO classes\n"
    }
   },
   "outputs": [
    {
     "name": "stdout",
     "output_type": "stream",
     "text": [
      "['tench', 'Tinca tinca']\n",
      "['goldfish', 'Carassius auratus']\n",
      "['ear', 'spike', 'capitulum']\n",
      "['toilet tissue', 'toilet paper', 'bathroom tissue']\n",
      "{0: '__background__', 1: 'person', 2: 'bicycle', 3: 'car', 4: 'motorcycle', 5: 'airplane', 6: 'bus', 7: 'train', 8: 'truck', 9: 'boat', 10: 'traffic light', 11: 'fire hydrant', 12: 'stop sign', 13: 'parking meter', 14: 'bench', 15: 'bird', 16: 'cat', 17: 'dog', 18: 'horse', 19: 'sheep', 20: 'cow', 21: 'elephant', 22: 'bear', 23: 'zebra', 24: 'giraffe', 25: 'backpack', 26: 'umbrella', 27: 'handbag', 28: 'tie', 29: 'suitcase', 30: 'frisbee', 31: 'skis', 32: 'snowboard', 33: 'sports ball', 34: 'kite', 35: 'baseball bat', 36: 'baseball glove', 37: 'skateboard', 38: 'surfboard', 39: 'tennis racket', 40: 'bottle', 41: 'wine glass', 42: 'cup', 43: 'fork', 44: 'knife', 45: 'spoon', 46: 'bowl', 47: 'banana', 48: 'apple', 49: 'sandwich', 50: 'orange', 51: 'broccoli', 52: 'carrot', 53: 'hot dog', 54: 'pizza', 55: 'donut', 56: 'cake', 57: 'chair', 58: 'couch', 59: 'potted plant', 60: 'bed', 61: 'dining table', 62: 'toilet', 63: 'tv', 64: 'laptop', 65: 'mouse', 66: 'remote', 67: 'keyboard', 68: 'cell phone', 69: 'microwave', 70: 'oven', 71: 'toaster', 72: 'sink', 73: 'refrigerator', 74: 'book', 75: 'clock', 76: 'vase', 77: 'scissors', 78: 'teddy bear', 79: 'hair drier', 80: 'toothbrush'}\n",
      "22\n"
     ]
    }
   ],
   "source": [
    "with open('imagenet1000classes.txt', 'r') as f:\n",
    "    inet_categories = [' '.join(l.strip('{}, \\n').split()[1:]).strip(\"'\").split(', ') \n",
    "               for l in f.readlines()]\n",
    "print(inet_categories[0])\n",
    "print(inet_categories[1])\n",
    "print(inet_categories[-2])\n",
    "print(inet_categories[-1])\n",
    "\n",
    "from lib.detection.wrappers import COCO_CLASSES\n",
    "print(COCO_CLASSES)\n",
    "\n",
    "common = set(COCO_CLASSES.values()) & {c for cat in inet_categories for c in cat}\n",
    "print(len(common))   \n"
   ]
  },
  {
   "cell_type": "code",
   "execution_count": null,
   "metadata": {
    "pycharm": {
     "name": "#%% Seen file #2 (inter only)\n"
    }
   },
   "outputs": [],
   "source": [
    "import pickle\n",
    "import numpy as np\n",
    "to_filter = [19, 25, 117, 144, 151, 152, 154, 163, 167, \n",
    "             190, 245, 258, 307, 326, 347, 366, 400, \n",
    "             433, 434, 466, 471, 476, 479, 523, 598]\n",
    "keep = set(range(600)) - set(to_filter)\n",
    "d = {'train': {'inter': np.array(sorted(keep))\n",
    "               }\n",
    "     }\n",
    "with open('zero-shot_inds/seen_inds_2.pkl.push', 'wb') as f:\n",
    "    pickle.dump(d, f)\n",
    "    "
   ]
  },
  {
   "cell_type": "code",
   "execution_count": 14,
   "metadata": {
    "pycharm": {
     "is_executing": false,
     "name": "#%% Seen file #3-5 (80%/50%/33%, no overlap with part actions)\n"
    }
   },
   "outputs": [
    {
     "name": "stdout",
     "output_type": "stream",
     "text": [
      "Num seen: 94\n",
      "Num seen: 59\n",
      "Num seen: 39\n"
     ]
    }
   ],
   "source": [
    "import pickle\n",
    "import numpy as np\n",
    "from lib.dataset.hicodet_hake import HicoDetHake\n",
    "\n",
    "hh = HicoHake()\n",
    "pacts = {a for p, a in hh.part_actions_pairs}\n",
    "acts = {a.replace('_', ' ') for a in hh.actions[1:]} | {hh.null_action}\n",
    "common = sorted((acts & pacts) - {hh.null_action})\n",
    "pacts_ex = sorted(pacts - acts)\n",
    "acts_ex = sorted(acts - pacts)\n",
    "\n",
    "words_in_pacts = {w for a in pacts for w in a.split()}\n",
    "possible_unseen_acts_inds = np.array([i for i, a in enumerate(hh.actions) \n",
    "                                      if a != hh.null_action and a.split('_')[0] not in words_in_pacts])\n",
    "possible_unseen_acts = [hh.actions[i] for i in possible_unseen_acts_inds]\n",
    "\n",
    "for i, perc_seen in enumerate([80, 50, 33]):\n",
    "    num_unseen = min(len(possible_unseen_acts_inds), \n",
    "                     (hh.num_actions * (100 - perc_seen)) // 100)\n",
    "    unseen_acts = np.random.choice(possible_unseen_acts_inds, \n",
    "                                   size=num_unseen,\n",
    "                                   replace=False)\n",
    "    seen_acts = np.setdiff1d(np.arange(hh.num_actions), unseen_acts)\n",
    "    print(f'Num seen: {seen_acts.size}')\n",
    "    d = {'train': {'obj': np.arange(hh.num_objects), \n",
    "                   'act': seen_acts\n",
    "                   }}\n",
    "    with open(f'zero-shot_inds/seen_inds_{3 + i}.pkl.push', 'wb') as f:\n",
    "        pickle.dump(d, f)"
   ]
  },
  {
   "cell_type": "code",
   "execution_count": 3,
   "metadata": {
    "pycharm": {
     "is_executing": false,
     "name": "#%% Seen file #6 (fake)\n"
    }
   },
   "outputs": [],
   "source": [
    "import pickle\n",
    "import numpy as np\n",
    "from lib.dataset.hico import Hico\n",
    "\n",
    "hico = Hico()\n",
    "d = {'train': {'obj': np.arange(hico.num_objects), 'act': np.arange(hico.num_actions)}}\n",
    "with open('zero-shot_inds/seen_inds_6.pkl.push', 'wb') as f:\n",
    "    pickle.dump(d, f)\n"
   ]
  },
  {
   "cell_type": "code",
   "execution_count": 18,
   "metadata": {
    "pycharm": {
     "is_executing": false,
     "name": "#%% Number seen (obj/pred)\n"
    }
   },
   "outputs": [
    {
     "name": "stdout",
     "output_type": "stream",
     "text": [
      "59 / 117 = 0.5042735042735043\n",
      "0.7447047770881968\n",
      "80 / 80\n"
     ]
    }
   ],
   "source": [
    "import pickle\n",
    "from lib.dataset.hico import Hico\n",
    "import numpy as np\n",
    "\n",
    "hico = Hico()\n",
    "split = 'train'\n",
    "\n",
    "fnum = 4\n",
    "d = pickle.load(open(f'zero-shot_inds/seen_inds_{fnum}.pkl.push', 'rb'))\n",
    "ainds = d['train']['act']\n",
    "oinds = d['train']['obj']\n",
    "\n",
    "labels = hico.split_annotations[split]\n",
    "act_labels = np.minimum(1, labels @ hico.interaction_to_action_mat)\n",
    "print(f'{len(set(ainds.tolist()))} / {hico.num_actions} = '\n",
    "      f'{len(set(ainds.tolist())) / hico.num_actions}')\n",
    "print(f'{act_labels[:, ainds].sum() / act_labels.sum()}')\n",
    "print(f'{len(set(oinds.tolist()))} / {hico.num_objects}')\n",
    "\n"
   ]
  },
  {
   "cell_type": "code",
   "execution_count": 5,
   "metadata": {
    "pycharm": {
     "is_executing": false,
     "name": "#%% VideoCaptions dataset captions\n"
    }
   },
   "outputs": [
    {
     "name": "stdout",
     "output_type": "stream",
     "text": [
      "A young woman is seen standing in a room and leads into her dancing.\n",
      "[1.86528073 1.86528073]\n"
     ]
    }
   ],
   "source": [
    "import json\n",
    "d = json.load(open('data/VideoCaptions/train.json', 'r'))\n",
    "captions = [s for v in d.values() for s in v['sentences']]\n",
    "print(captions[0])\n",
    " "
   ]
  },
  {
   "cell_type": "code",
   "execution_count": 9,
   "metadata": {
    "pycharm": {
     "is_executing": false,
     "name": "#%%\n"
    }
   },
   "outputs": [
    {
     "name": "stdout",
     "output_type": "stream",
     "text": [
      "10799\n",
      "4251\n",
      "15050\n"
     ]
    }
   ],
   "source": [
    "with open('data/VG/Kato/VG_train_1A2B.csv', 'r') as f:\n",
    "    tr_fns = {l.strip().split(',')[0] for l in f.readlines() if l.strip()}\n",
    "\n",
    "with open('data/VG/Kato/VG_test.csv', 'r') as f:\n",
    "    te_fns = {l.strip().split(',')[0] for l in f.readlines() if l.strip()}\n",
    "\n",
    "print(len(tr_fns))\n",
    "print(len(te_fns))\n",
    "print(len(tr_fns | te_fns))"
   ]
  },
  {
   "cell_type": "code",
   "execution_count": 5,
   "metadata": {
    "pycharm": {
     "is_executing": false,
     "name": "#%% mAP of random guesses on HICO using seen file 1\n"
    }
   },
   "outputs": [
    {
     "name": "stdout",
     "output_type": "stream",
     "text": [
      "Train objects (80): [0, 1, 2, 3, 4, 5, 6, 7, 8, 9, 10, 11, 12, 13, 14, 15, 16, 17, 18, 19, 20, 21, 22, 23, 24, 25, 26, 27, 28, 29, 30, 31, 32, 33, 34, 35, 36, 37, 38, 39, 40, 41, 42, 43, 44, 45, 46, 47, 48, 49, 50, 51, 52, 53, 54, 55, 56, 57, 58, 59, 60, 61, 62, 63, 64, 65, 66, 67, 68, 69, 70, 71, 72, 73, 74, 75, 76, 77, 78, 79]\n",
      "Train actions (93): [0, 1, 2, 3, 4, 5, 6, 7, 8, 10, 11, 12, 13, 14, 15, 16, 17, 18, 19, 20, 21, 22, 24, 26, 27, 29, 30, 32, 33, 34, 36, 37, 38, 40, 42, 43, 44, 46, 47, 49, 50, 51, 52, 53, 54, 55, 56, 58, 60, 61, 63, 65, 66, 67, 68, 69, 70, 71, 73, 74, 75, 76, 77, 78, 80, 81, 82, 83, 85, 86, 88, 91, 92, 93, 94, 95, 97, 98, 99, 100, 101, 102, 103, 104, 105, 106, 107, 108, 109, 110, 113, 114, 115]\n",
      "Train interactions (474): [0, 1, 2, 4, 5, 6, 9, 11, 12, 13, 14, 16, 17, 18, 20, 21, 23, 24, 25, 26, 27, 28, 30, 31, 32, 33, 34, 35, 37, 38, 39, 42, 43, 45, 47, 48, 49, 50, 51, 52, 53, 54, 55, 56, 57, 58, 59, 60, 63, 64, 65, 66, 67, 69, 70, 71, 73, 75, 77, 78, 79, 80, 81, 82, 84, 85, 87, 88, 90, 91, 93, 95, 96, 98, 99, 100, 101, 102, 103, 104, 105, 106, 107, 109, 110, 113, 114, 115, 117, 118, 119, 120, 121, 122, 123, 124, 125, 127, 128, 129, 130, 131, 132, 133, 134, 135, 136, 137, 139, 140, 141, 142, 143, 145, 146, 147, 148, 149, 151, 153, 155, 156, 157, 159, 161, 162, 163, 164, 165, 166, 167, 168, 169, 171, 173, 175, 177, 178, 179, 180, 181, 182, 183, 185, 186, 187, 188, 189, 190, 193, 194, 195, 197, 198, 199, 200, 201, 202, 204, 207, 209, 210, 211, 212, 213, 214, 216, 217, 218, 219, 221, 223, 224, 226, 228, 229, 230, 231, 232, 233, 234, 235, 238, 239, 240, 242, 243, 244, 246, 248, 249, 250, 251, 252, 255, 256, 257, 258, 259, 263, 264, 266, 267, 268, 269, 270, 271, 272, 274, 275, 276, 277, 282, 284, 285, 286, 287, 288, 289, 290, 291, 292, 293, 294, 296, 297, 298, 299, 300, 304, 305, 307, 308, 309, 310, 312, 313, 314, 316, 317, 318, 319, 320, 321, 324, 325, 326, 327, 328, 329, 330, 331, 332, 333, 335, 336, 337, 338, 340, 341, 342, 343, 344, 345, 347, 348, 350, 351, 353, 354, 355, 357, 358, 359, 360, 361, 362, 364, 365, 366, 367, 368, 371, 372, 374, 375, 376, 377, 378, 380, 381, 382, 383, 384, 385, 386, 387, 388, 389, 390, 392, 393, 394, 395, 396, 397, 398, 399, 400, 401, 403, 404, 406, 407, 408, 409, 410, 411, 413, 414, 415, 416, 417, 418, 420, 421, 422, 423, 424, 425, 426, 428, 429, 430, 432, 433, 434, 435, 436, 437, 439, 440, 441, 442, 443, 444, 445, 446, 447, 448, 449, 450, 452, 454, 455, 456, 457, 458, 459, 461, 462, 463, 465, 466, 467, 468, 469, 470, 471, 472, 473, 474, 476, 477, 478, 479, 480, 481, 482, 483, 484, 486, 487, 488, 490, 491, 492, 493, 494, 496, 497, 500, 501, 502, 503, 504, 505, 507, 508, 509, 510, 511, 512, 513, 515, 517, 518, 519, 520, 521, 522, 523, 524, 527, 529, 530, 531, 532, 534, 535, 536, 537, 538, 539, 540, 541, 542, 543, 544, 545, 546, 548, 549, 550, 551, 552, 553, 555, 557, 558, 559, 561, 562, 563, 564, 565, 566, 567, 568, 569, 570, 571, 572, 575, 577, 578, 579, 580, 581, 582, 583, 584, 585, 586, 587, 589, 590, 591, 592, 594, 595, 596, 597, 599]\n",
      "0.004247032904002478\n",
      "0.003439865626653782\n"
     ]
    }
   ],
   "source": [
    "import pickle\n",
    "from lib.dataset.hico_hake import HicoHakeSplit\n",
    "from sklearn.metrics import average_precision_score\n",
    "import numpy as np\n",
    "\n",
    "\n",
    "with open('zero-shot_inds/seen_inds_1.pkl.push', 'rb') as f:\n",
    "    d = pickle.load(f)\n",
    "    \n",
    "ainds = d['train']['act']\n",
    "oinds = d['train']['obj']\n",
    "\n",
    "s = HicoHakeSplit.get_splits(act_inds=ainds, obj_inds=oinds)\n",
    "ds = s['test']\n",
    "\n",
    "inds = np.setdiff1d(np.arange(ds.full_dataset.num_interactions), s['train'].active_interactions)\n",
    "gt_scores = ds.full_dataset.split_annotations[ds._data_split]\n",
    "gt_scores[gt_scores < 0] = 0\n",
    "\n",
    "predict_hoi_scores = np.random.rand(*gt_scores.shape)\n",
    "map = average_precision_score(gt_scores, predict_hoi_scores, average=None)\n",
    "print(map[inds].mean())\n",
    "\n",
    "predict_hoi_scores = np.zeros_like(gt_scores)\n",
    "map = average_precision_score(gt_scores, predict_hoi_scores, average=None)\n",
    "print(map[inds].mean())\n"
   ]
  },
  {
   "cell_type": "code",
   "execution_count": 38,
   "metadata": {
    "pycharm": {
     "is_executing": false,
     "name": "#%% NumPy indexing\n"
    }
   },
   "outputs": [
    {
     "name": "stdout",
     "output_type": "stream",
     "text": [
      "[[[15  0 13 15]\n",
      "  [10  4  4 15]\n",
      "  [ 3  2 14 19]]\n",
      "\n",
      " [[ 0 10 16 12]\n",
      "  [14  6 18 14]\n",
      "  [11  3  7 13]]]\n",
      "[[0 0 1]\n",
      " [1 1 1]]\n",
      "\n",
      "[[15 15 14]\n",
      " [16 18  7]]\n",
      "[[ True  True False]\n",
      " [False  True False]]\n",
      "\n",
      "[[15  0 13 15]\n",
      " [10  4  4 15]\n",
      " [14  6 18 14]]\n",
      "[0 0 1]\n",
      "[15 15 18]\n",
      "\n",
      "[[[15  0 13 -1]\n",
      "  [10  4  4 -1]\n",
      "  [ 3  2 14 19]]\n",
      "\n",
      " [[ 0 10 16 12]\n",
      "  [14  6 -1 14]\n",
      "  [11  3  7 13]]]\n",
      "3\n"
     ]
    }
   ],
   "source": [
    "import numpy as np\n",
    "np.random.seed(10)\n",
    "\n",
    "a = np.round(np.random.rand(2, 3, 4) * 20).astype(np.int)\n",
    "# b = (np.random.rand(2, 3) > 0.5)\n",
    "k = np.round(np.random.rand(2, 3)).astype(np.int)\n",
    "print(a)\n",
    "print(k)\n",
    "print()\n",
    "\n",
    "all_rows, all_cols = np.mgrid[:a.shape[0], :a.shape[1]]\n",
    "print(a[all_rows, all_cols, 3 - k])\n",
    "b = (a[all_rows, all_cols, 3 - k] % 3 == 0)\n",
    "print(b)\n",
    "print()\n",
    "\n",
    "rows, cols = np.where(b)\n",
    "print(a[rows, cols])\n",
    "print(k[b])\n",
    "print(a[rows, cols, 3 - k[b]])\n",
    "print()\n",
    "\n",
    "a[rows, cols, 3 - k[b]] = -1\n",
    "print(a)\n",
    "print(a.ndim)"
   ]
  },
  {
   "cell_type": "code",
   "execution_count": 52,
   "metadata": {
    "pycharm": {
     "is_executing": false,
     "name": "#%% Creating box masks\n"
    }
   },
   "outputs": [
    {
     "name": "stdout",
     "output_type": "stream",
     "text": [
      "[[3 3 5 9]\n",
      " [0 0 8 7]\n",
      " [1 0 9 6]\n",
      " [0 4 8 6]\n",
      " [4 1 6 7]]\n",
      "[[0 0 0 1 1 0 0 0 0 0]\n",
      " [1 1 1 1 1 1 1 1 0 0]\n",
      " [0 1 1 1 1 1 1 1 1 0]\n",
      " [1 1 1 1 1 1 1 1 0 0]\n",
      " [0 0 0 0 1 1 0 0 0 0]]\n",
      "\n",
      "[[0 0 0 1 1 1 1 1 1 0]\n",
      " [1 1 1 1 1 1 1 0 0 0]\n",
      " [1 1 1 1 1 1 0 0 0 0]\n",
      " [0 0 0 0 1 1 0 0 0 0]\n",
      " [0 1 1 1 1 1 1 0 0 0]]\n",
      "\n",
      "[[[0 0 0 0 0 0 0 0 0 0]\n",
      "  [0 0 0 0 0 0 0 0 0 0]\n",
      "  [0 0 0 0 0 0 0 0 0 0]\n",
      "  [0 0 0 1 1 0 0 0 0 0]\n",
      "  [0 0 0 1 1 0 0 0 0 0]\n",
      "  [0 0 0 1 1 0 0 0 0 0]\n",
      "  [0 0 0 1 1 0 0 0 0 0]\n",
      "  [0 0 0 1 1 0 0 0 0 0]\n",
      "  [0 0 0 1 1 0 0 0 0 0]\n",
      "  [0 0 0 0 0 0 0 0 0 0]]\n",
      "\n",
      " [[1 1 1 1 1 1 1 1 0 0]\n",
      "  [1 0 0 0 0 0 0 1 0 0]\n",
      "  [1 0 0 0 0 0 0 1 0 0]\n",
      "  [1 0 0 0 0 0 0 1 0 0]\n",
      "  [1 0 0 0 0 0 0 1 0 0]\n",
      "  [1 0 0 0 0 0 0 1 0 0]\n",
      "  [1 1 1 1 1 1 1 1 0 0]\n",
      "  [0 0 0 0 0 0 0 0 0 0]\n",
      "  [0 0 0 0 0 0 0 0 0 0]\n",
      "  [0 0 0 0 0 0 0 0 0 0]]\n",
      "\n",
      " [[0 1 1 1 1 1 1 1 1 0]\n",
      "  [0 1 0 0 0 0 0 0 1 0]\n",
      "  [0 1 0 0 0 0 0 0 1 0]\n",
      "  [0 1 0 0 0 0 0 0 1 0]\n",
      "  [0 1 0 0 0 0 0 0 1 0]\n",
      "  [0 1 1 1 1 1 1 1 1 0]\n",
      "  [0 0 0 0 0 0 0 0 0 0]\n",
      "  [0 0 0 0 0 0 0 0 0 0]\n",
      "  [0 0 0 0 0 0 0 0 0 0]\n",
      "  [0 0 0 0 0 0 0 0 0 0]]\n",
      "\n",
      " [[0 0 0 0 0 0 0 0 0 0]\n",
      "  [0 0 0 0 0 0 0 0 0 0]\n",
      "  [0 0 0 0 0 0 0 0 0 0]\n",
      "  [0 0 0 0 0 0 0 0 0 0]\n",
      "  [1 1 1 1 1 1 1 1 0 0]\n",
      "  [1 1 1 1 1 1 1 1 0 0]\n",
      "  [0 0 0 0 0 0 0 0 0 0]\n",
      "  [0 0 0 0 0 0 0 0 0 0]\n",
      "  [0 0 0 0 0 0 0 0 0 0]\n",
      "  [0 0 0 0 0 0 0 0 0 0]]\n",
      "\n",
      " [[0 0 0 0 0 0 0 0 0 0]\n",
      "  [0 0 0 0 1 1 0 0 0 0]\n",
      "  [0 0 0 0 1 1 0 0 0 0]\n",
      "  [0 0 0 0 1 1 0 0 0 0]\n",
      "  [0 0 0 0 1 1 0 0 0 0]\n",
      "  [0 0 0 0 1 1 0 0 0 0]\n",
      "  [0 0 0 0 1 1 0 0 0 0]\n",
      "  [0 0 0 0 0 0 0 0 0 0]\n",
      "  [0 0 0 0 0 0 0 0 0 0]\n",
      "  [0 0 0 0 0 0 0 0 0 0]]]\n"
     ]
    }
   ],
   "source": [
    "import numpy as np\n",
    "\n",
    "np.random.seed(5)\n",
    "\n",
    "n = 5\n",
    "size = 10\n",
    "h=size \n",
    "w=size\n",
    "boxes = np.stack([np.random.randint(0, w//2, n),\n",
    "                  np.random.randint(0, h//2, n),\n",
    "                  np.random.randint(w//2, w, n),\n",
    "                  np.random.randint(h//2, h, n)], axis=1)\n",
    "print(boxes)\n",
    "range_v = np.arange(size).reshape((1, -1))\n",
    "\n",
    "mask_col = (boxes[:, 0, None] <= range_v) & (range_v < boxes[:, 2, None])\n",
    "print(mask_col.astype(np.int))\n",
    "print()\n",
    "\n",
    "mask_row = (boxes[:, 1, None] <= range_v) & (range_v < boxes[:, 3, None])\n",
    "print(mask_row.astype(np.int))\n",
    "print()\n",
    "\n",
    "mask = mask_col[:, None, :] & mask_row[:, :, None]\n",
    "\n",
    "if True:\n",
    "    mask_col = (boxes[:, 0, None] + 1 <= range_v) & (range_v < boxes[:, 2, None] - 1)\n",
    "    mask_row = (boxes[:, 1, None] + 1 <= range_v) & (range_v < boxes[:, 3, None] - 1)\n",
    "    mask = mask & ~(mask_col[:, None, :] & mask_row[:, :, None])\n",
    "patterns = mask.astype(np.int)\n",
    "print(patterns)"
   ]
  },
  {
   "cell_type": "code",
   "execution_count": 1,
   "metadata": {
    "pycharm": {
     "is_executing": false,
     "name": "#%% Matrix multiplication through broadcasting\n"
    }
   },
   "outputs": [
    {
     "name": "stdout",
     "output_type": "stream",
     "text": [
      "True\n",
      "True\n",
      "True\n",
      "True\n",
      "True\n",
      "True\n",
      "True\n",
      "True\n"
     ]
    }
   ],
   "source": [
    "import numpy as np\n",
    "\n",
    "a = np.random.rand(5, 4)\n",
    "b = np.random.rand(4, 3)\n",
    "mm0 = a @ b\n",
    "mm1 = np.matmul(a, b)\n",
    "mm2 = (a[:, :, None] * b[None, :, :]).sum(axis=1)\n",
    "mm3 = (a[..., None] * b[..., None, :, :]).sum(axis=-2)\n",
    "print(np.allclose(mm0, mm1))\n",
    "print(np.allclose(mm0, mm2))\n",
    "print(np.allclose(mm0, mm3))\n",
    "\n",
    "# Partial\n",
    "a = np.random.rand(10, 11, 12, 5, 4)\n",
    "b = np.random.rand(10, 11, 12, 4, 3)\n",
    "mm0 = a @ b\n",
    "mm1 = np.matmul(a, b)\n",
    "mm3 = (a[..., None] * b[..., None, :, :]).sum(axis=-2)\n",
    "print(np.allclose(mm0, mm1))\n",
    "print(np.allclose(mm0, mm3))\n",
    "\n",
    "# Torch\n",
    "import torch\n",
    "a = torch.from_numpy(a)\n",
    "b = torch.from_numpy(b)\n",
    "mm0 = a @ b\n",
    "mm1 = torch.matmul(a, b)\n",
    "mm3 = (a[..., None] * b[..., None, :, :]).sum(dim=-2)\n",
    "mm4 = torch.bmm(a.view(-1, a.shape[-2], a.shape[-1]),\n",
    "                b.view(-1, b.shape[-2], b.shape[-1])\n",
    "                ).view(a.shape[0], a.shape[1], a.shape[2], a.shape[3],\n",
    "                       b.shape[-1])\n",
    "print(np.allclose(mm0.cpu().numpy(), mm1.cpu().numpy()))\n",
    "print(np.allclose(mm0.cpu().numpy(), mm3.cpu().numpy()))\n",
    "print(np.allclose(mm0.cpu().numpy(), mm4.cpu().numpy()))"
   ]
  },
  {
   "cell_type": "code",
   "execution_count": 5,
   "metadata": {},
   "outputs": [
    {
     "data": {
      "text/plain": [
       "['A young woman is seen standing in a room and leads into her dancing',\n",
       " 'The girl dances around the room while the camera captures her movements',\n",
       " 'She continues dancing around the room and ends by laying on the floor',\n",
       " 'The video starts with a title logo sequence',\n",
       " 'A man and woman are in a living room demonstrating exercises',\n",
       " 'The woman lays on the ground',\n",
       " \"The man starts pointing to different areas of the woman's body as she does an exercise\",\n",
       " 'The woman begins to do small sit ups',\n",
       " 'The woman ends with a final title logo sequence',\n",
       " 'Two people are seen moving around a kitchen quickly performing various tasks and sitting down']"
      ]
     },
     "execution_count": 5,
     "metadata": {},
     "output_type": "execute_result"
    }
   ],
   "source": [
    "import os\n",
    "import json\n",
    "\n",
    "d = json.load(open(os.path.join('data', 'VideoCaptions', 'train.json'), 'r'))\n",
    "captions = [s.strip(' .') for v in d.values() for s in v['sentences']]\n",
    "captions[0:10]"
   ]
  },
  {
   "cell_type": "code",
   "execution_count": 1,
   "metadata": {},
   "outputs": [],
   "source": [
    "###############################\n",
    "# Mapping from COCO-A to Hico #\n",
    "###############################\n",
    "\n",
    "from lib.dataset.cocoa import Cocoa\n",
    "from lib.dataset.hicodet_hake import HicoDetHake\n",
    "from lib.dataset.word_embeddings import WordEmbeddings\n",
    "import numpy as np\n",
    "from analysis.utils import plot_mat\n",
    "\n",
    "def print_by_highest_sim(sim,  labels_i, maxn=5, exclude_first=True):\n",
    "    for j, caa in enumerate(ca.actions):\n",
    "        if j == 0:\n",
    "            continue\n",
    "        if exclude_first:\n",
    "            inds = np.argsort(sim[1:, j])[-maxn:][::-1] + 1\n",
    "        else:\n",
    "            inds = np.argsort(sim[:, j])[-maxn:][::-1]\n",
    "        print(f'{j:3d} {caa:20s}', ', '.join([f'{labels_i[i]} ({sim[i, j] * 100:.1f})' for i in inds]))"
   ]
  },
  {
   "cell_type": "code",
   "execution_count": 2,
   "metadata": {},
   "outputs": [
    {
     "name": "stdout",
     "output_type": "stream",
     "text": [
      "Loading cached glove embeddings.\n"
     ]
    }
   ],
   "source": [
    "ca = Cocoa()\n",
    "hh = HicoDetHake()\n",
    "we = WordEmbeddings()"
   ]
  },
  {
   "cell_type": "code",
   "execution_count": 3,
   "metadata": {},
   "outputs": [
    {
     "name": "stdout",
     "output_type": "stream",
     "text": [
      "Default embedding will be used for __no_interaction__.\n",
      "Default embedding will be used for __no_interaction__.\n",
      "Similarity by word embeddings.\n",
      "  1 call                 talk_on (54.4), make (49.5), stop_at (48.4), text_on (45.9), stand_on (45.6)\n",
      "  2 shout                hug (41.0), kiss (33.9), greet (32.6), throw (31.1), walk (26.7)\n",
      "  3 signal               light (41.7), sign (37.7), turn (37.2), move (35.9), wave (34.5)\n",
      "  4 talk                 talk_on (84.7), sit_on (53.2), stand_on (48.0), make (46.4), drink_with (43.9)\n",
      "  5 whistle              kick (31.5), blow (31.2), stop_at (24.0), break (23.8), train (23.5)\n",
      "  6 wink                 hug (36.2), kiss (31.7), sip (28.4), lick (23.9), stab (17.6)\n",
      "  7 avoid                stop_at (45.5), make (43.3), lose (41.4), break (40.6), move (40.3)\n",
      "  8 bite                 eat (48.1), scratch (37.8), lick (37.4), eat_at (36.9), stab (36.4)\n",
      "  9 bump                 grind (46.0), drag (32.5), jump (32.5), pick_up (31.7), hug (30.0)\n",
      " 10 caress               hug (40.1), kiss (31.1), lick (24.8), sip (22.7), dribble (21.1)\n",
      " 11 hit                  hit (100.0), run (45.6), break (41.8), throw (40.8), cut_with (40.5)\n",
      " 12 hold                 hold (100.0), sit_on (55.4), sit_at (54.6), make (53.2), push (52.7)\n",
      " 13 hug                  hug (100.0), kiss (54.2), greet (46.7), walk (30.0), ride (28.2)\n",
      " 14 kick                 kick (100.0), throw (44.8), break (43.0), drive (39.9), catch (35.3)\n",
      " 15 kiss                 kiss (100.0), hug (54.2), greet (32.7), ride (26.2), drink_with (25.6)\n",
      " 16 lick                 lick (100.0), wash (33.0), smell (30.6), scratch (30.0), eat (27.1)\n",
      " 17 lift                 lift (100.0), pull (49.1), push (49.1), move (41.3), cut (39.2)\n",
      " 18 massage              pet (22.5), wash (21.9), sip (21.9), lick (20.3), drink_with (19.9)\n",
      " 19 pet                  pet (100.0), eat (36.0), feed (34.0), milk (33.4), eat_at (29.0)\n",
      " 20 pinch                hit (42.4), squeeze (41.0), run (35.7), walk (32.8), throw (31.2)\n",
      " 21 poke                 stick (36.2), stab (32.7), scratch (31.6), lick (30.5), hug (28.1)\n",
      " 22 pull                 pull (100.0), push (60.0), pick_up (53.2), move (49.1), lift (49.1)\n",
      " 23 punch                throw (39.8), blow (38.6), pack (35.6), kick (34.7), stick (32.4)\n",
      " 24 push                 push (100.0), move (65.6), pull (60.0), make (54.4), drive (53.3)\n",
      " 25 reach                make (47.3), push (47.1), pick_up (43.1), move (42.0), break (41.9)\n",
      " 26 slap                 stick (39.5), kick (36.4), lift (34.9), blow (32.0), throw (31.2)\n",
      " 27 squeeze              squeeze (100.0), push (43.4), cut (40.2), pull (35.7), turn (34.4)\n",
      " 28 tickle               hug (23.8), lick (20.4), sip (20.3), scratch (19.3), smell (17.7)\n",
      " 29 chew                 eat (37.4), smell (27.1), grind (26.5), wash (24.5), lick (24.4)\n",
      " 30 cook                 cook (100.0), stir (50.7), peel (35.9), eat (35.0), serve (34.6)\n",
      " 31 devour               eat (44.6), feed (30.8), assemble (25.7), grind (22.2), eat_at (21.8)\n",
      " 32 drink                drink_with (76.9), eat (61.2), milk (52.5), eat_at (48.9), sip (46.5)\n",
      " 33 eat                  eat (100.0), eat_at (76.7), feed (55.6), drink_with (52.3), make (42.2)\n",
      " 34 prepare              make (51.0), assemble (47.0), serve (43.7), launch (42.9), teach (42.0)\n",
      " 35 spread               cut_with (37.4), brush_with (37.1), turn (34.4), type_on (33.1), control (33.0)\n",
      " 36 bend_object          turn (39.3), point (38.3), stick (34.2), move (33.0), type_on (31.5)\n",
      " 37 break                break (100.0), set (58.2), make (50.6), push (50.0), hold (49.5)\n",
      " 38 brush                brush_with (77.9), dry (47.5), paint (44.8), wash (44.4), stick (33.4)\n",
      " 39 build                make (54.5), operate (47.7), install (47.5), buy (45.6), push (45.4)\n",
      " 40 carry                carry (100.0), operate (47.4), make (46.8), pick_up (46.1), hold (45.7)\n",
      " 41 catch                catch (100.0), throw (50.4), break (44.8), fly (44.6), pick_up (42.2)\n",
      " 42 clear                make (56.5), turn (51.8), stand_under (50.2), move (48.6), stand_on (48.5)\n",
      " 43 cut                  cut (100.0), cut_with (82.4), make (48.8), move (46.5), pay (46.2)\n",
      " 44 disassemble          assemble (45.6), inspect (25.5), install (23.7), dribble (22.9), grind (21.6)\n",
      " 45 drive                drive (100.0), push (53.3), turn (50.2), run (47.2), move (43.2)\n",
      " 46 drop                 jump (53.7), slide (52.3), cut (49.3), cut_with (46.9), turn (46.4)\n",
      " 47 exchange             talk_on (39.2), type_on (36.6), cut_with (36.5), text_on (34.8), stop_at (34.7)\n",
      " 48 fill                 fill (100.0), pick_up (42.8), make (39.9), serve (38.4), pick (37.2)\n",
      " 49 get                  pick_up (70.5), make (69.7), turn (59.5), lose (59.4), talk_on (56.1)\n",
      " 50 lay                  lie_on (49.2), sit_on (42.3), stand_on (37.7), stand_under (36.3), sit_at (36.2)\n",
      " 51 light                light (100.0), type_on (41.1), turn (40.2), drink_with (37.0), stand_under (36.1)\n",
      " 52 mix                  stir (50.6), drink_with (43.5), pour (38.5), dry (38.4), brush_with (35.6)\n",
      " 53 pour                 pour (100.0), stir (56.0), toast (35.3), milk (34.8), fill (32.6)\n",
      " 54 put                  pick_up (66.7), stand_on (62.8), make (61.9), turn (61.0), stand_under (60.4)\n",
      " 55 read                 read (100.0), text_on (56.9), watch (45.7), sit_on (43.9), sit_at (42.0)\n",
      " 56 remove               stir (43.6), install (43.0), cut (42.7), lift (40.9), turn (40.8)\n",
      " 57 repair               repair (100.0), inspect (41.1), install (38.4), clean (32.7), operate (30.9)\n",
      " 58 ride                 ride (100.0), walk (50.0), train (47.5), race (41.2), drive (38.6)\n",
      " 59 row                  row (100.0), sit_on (37.5), stand_on (37.3), sit_at (34.1), pick_up (32.5)\n",
      " 60 sail                 sail (100.0), fly (42.6), ride (31.4), set (29.2), operate (28.6)\n",
      " 61 separate             hold (45.8), type_on (44.7), text_on (42.7), set (41.2), operate (40.6)\n",
      " 62 show                 talk_on (59.8), stand_on (50.6), hop_on (47.0), sit_on (45.3), type_on (44.8)\n",
      " 63 spill                clean (29.1), paint (28.7), repair (27.1), wash (25.8), inspect (23.7)\n",
      " 64 spray                paint (53.7), brush_with (41.7), wash (38.5), dry (35.8), hose (34.6)\n",
      " 65 steal                throw (49.8), catch (41.3), buy (39.9), pick_up (38.3), turn (36.2)\n",
      " 66 throw                throw (100.0), catch (50.4), pick_up (48.1), jump (48.0), pull (47.7)\n",
      " 67 use                  make (59.5), type_on (58.7), text_on (49.8), drink_with (48.7), cut_with (48.6)\n",
      " 68 wash                 wash (100.0), dry (43.0), clean (42.1), paint (41.0), brush_with (35.6)\n",
      " 69 wear                 wear (100.0), watch (36.9), drink_with (35.4), lose (33.8), tie (33.7)\n",
      " 70 listen               watch (51.2), read (51.0), talk_on (49.4), sit_on (46.9), teach (44.0)\n",
      " 71 look                 make (64.7), turn (54.7), pick_up (54.5), sit_on (51.4), watch (51.2)\n",
      " 72 sniff                smell (47.8), scratch (40.8), lick (29.5), sip (28.5), check (27.7)\n",
      " 73 taste                smell (58.6), stir (46.5), drink_with (44.2), eat (42.9), cook (40.2)\n",
      " 74 touch                turn (43.2), talk_on (40.0), brush_with (38.4), sit_on (38.3), make (38.1)\n",
      " 75 balance              adjust (42.9), lose (41.6), cut_with (38.8), push (37.5), control (37.1)\n",
      " 76 bend                 lick (32.7), turn (30.2), pull (27.2), point (26.6), park (25.9)\n",
      " 77 bow                  wear (35.4), tie (33.7), pull (29.3), stick (27.8), turn (26.5)\n",
      " 78 climb                jump (50.1), ride (46.6), slide (43.6), walk (38.6), lift (36.7)\n",
      " 79 crouch               kick (24.7), dribble (17.6), throw (15.8), pick_up (10.3), hunt (10.2)\n",
      " 80 fall                 slide (48.1), turn (47.7), pick_up (45.2), cut (45.0), cut_with (44.8)\n",
      " 81 float                ride (34.9), sail (32.0), slide (31.2), drag (29.9), fly (29.0)\n",
      " 82 fly                  fly (100.0), catch (44.6), walk (43.8), sail (42.6), operate (39.2)\n",
      " 83 hang                 sit_on (36.5), pick_up (35.7), sit_at (33.2), paint (31.2), pull (30.6)\n",
      " 84 jump                 jump (100.0), throw (48.0), push (39.0), pick_up (38.6), pull (37.8)\n",
      " 85 kneel                hug (32.6), greet (30.6), sit_at (27.1), sit_on (25.3), kiss (25.2)\n",
      " 86 lean                 eat (31.6), swing (29.0), dry (28.3), lose (24.9), adjust (24.7)\n",
      " 87 lie                  lie_on (79.7), sit_on (42.9), stand_under (37.7), stand_on (37.0), sit_at (36.4)\n",
      " 88 perch                catch (30.5), feed (26.3), eat (23.4), sit_on (19.5), herd (18.8)\n",
      " 89 recline              eat (15.1), flip (15.0), sip (14.7), zip (11.6), adjust (11.0)\n",
      " 90 roll                 hop_on (37.8), pick_up (36.8), slide (36.2), turn (35.3), cut_with (35.3)\n",
      " 91 run                  run (100.0), walk (47.5), drive (47.2), break (46.0), hit (45.6)\n",
      " 92 sit                  sit_on (81.9), sit_at (79.1), stand_on (54.7), watch (52.1), walk (51.9)\n",
      " 93 squat                walk (22.1), sip (21.5), block (20.9), sit_at (20.1), eat (20.1)\n",
      " 94 stand                stand_on (84.0), stand_under (82.2), sit_on (60.5), sit_at (58.0), make (48.9)\n",
      " 95 straddle             straddle (100.0), wield (18.4), dribble (14.5), operate (12.3), fill (12.2)\n",
      " 96 swim                 walk (39.5), catch (36.6), ride (36.3), jump (35.1), sail (34.8)\n",
      " 97 walk                 walk (100.0), ride (50.0), sit_on (48.9), run (47.5), sit_at (46.3)\n",
      " 98 accompany            greet (34.9), release (25.1), carry (24.2), text_on (24.1), drink_with (24.0)\n",
      " 99 be_with              cut_with (79.5), drink_with (70.3), brush_with (65.4), make (62.5), stand_on (60.7)\n",
      "100 chase                chase (100.0), hunt (49.0), catch (36.7), ride (31.6), buy (31.1)\n",
      "101 dance                hop_on (48.9), teach (35.3), drink_with (33.7), swing (33.0), walk (33.0)\n",
      "102 dine                 eat (43.4), eat_at (35.6), greet (32.3), sit_at (30.9), toast (30.0)\n",
      "103 dress                wear (70.4), tie (36.9), groom (32.7), drink_with (30.4), cut_with (28.0)\n",
      "104 feed                 feed (100.0), eat (55.6), eat_at (43.1), milk (40.6), pick_up (34.3)\n",
      "105 fight                stand_on (44.8), push (44.1), stop_at (43.8), lose (43.3), stand_under (42.0)\n",
      "106 follow               make (55.2), turn (51.3), move (49.3), set (45.8), push (44.9)\n",
      "107 give                 make (71.2), turn (60.0), pick_up (58.5), hold (57.4), lose (57.0)\n",
      "108 groom                groom (100.0), greet (30.5), hug (26.1), kiss (23.7), wear (21.8)\n",
      "109 help                 make (63.9), push (58.1), pick_up (54.6), turn (53.4), cut_with (50.9)\n",
      "110 hunt                 hunt (100.0), chase (49.0), catch (33.6), drive (28.6), herd (28.4)\n",
      "111 kill                 hunt (39.3), carry (39.0), blow (38.4), eat (37.9), turn (36.3)\n",
      "112 meet                 set (51.8), hold (49.1), talk_on (46.8), make (46.6), cut_with (44.7)\n",
      "113 pay                  pay (100.0), make (52.4), buy (52.2), lose (47.6), cut (46.2)\n",
      "114 play_baseball        talk_on (47.2), pick_up (45.1), make (44.8), sit_on (43.2), sit_at (41.7)\n",
      "115 play_basketball      pick_up (44.1), talk_on (43.1), make (40.8), sit_at (40.2), sit_on (39.8)\n",
      "116 play_frisbee         throw (36.8), stick (32.9), kick (30.7), talk_on (30.5), catch (30.1)\n",
      "117 play_soccer          talk_on (43.4), pick_up (42.0), make (41.9), sit_on (40.6), sit_at (39.5)\n",
      "118 play_tennis          open (55.3), sit_at (40.7), talk_on (40.0), sit_on (39.9), set (39.5)\n",
      "119 precede              greet (21.5), push (17.4), hold (16.5), move (15.2), inspect (13.6)\n",
      "120 shake_hands          stick (47.0), hold (46.2), sit_at (46.1), stand_under (45.9), sit_on (45.2)\n",
      "121 teach                teach (100.0), read (37.3), eat (35.0), eat_at (34.6), make (34.4)\n",
      "122 blow                 blow (100.0), pull (39.1), hit (38.8), break (37.7), push (36.8)\n",
      "123 clap                 hug (32.5), kiss (31.1), stick (29.8), greet (27.0), lick (25.9)\n",
      "124 cry                  hug (39.1), kiss (34.9), walk (32.7), eat (31.6), eat_at (31.2)\n",
      "125 draw                 tie (50.6), make (41.0), lose (40.1), move (40.0), break (40.0)\n",
      "126 groan                hug (20.8), dribble (20.0), sip (19.3), stab (18.4), greet (17.6)\n",
      "127 laugh                hug (43.3), eat_at (37.9), eat (37.7), sit_at (36.5), make (36.1)\n",
      "128 paint                paint (100.0), brush_with (44.3), wash (41.0), wear (31.8), smell (31.5)\n",
      "129 photograph           read (36.4), text_on (33.5), paint (30.8), sign (29.8), type_on (25.4)\n",
      "130 play                 talk_on (49.6), sit_on (48.7), make (48.5), pick_up (48.4), stand_on (45.7)\n",
      "131 play_baseball_solo   talk_on (47.2), hop_on (45.6), make (44.8), run (44.2), pick_up (44.2)\n",
      "132 play_basketball_solo hop_on (44.9), talk_on (44.9), pick_up (44.3), make (42.5), sit_on (40.8)\n",
      "133 play_frisbee_solo    hop_on (38.6), fly (36.6), throw (35.6), talk_on (34.2), kick (33.4)\n",
      "134 play_instrument      type_on (51.4), make (44.8), text_on (44.2), pick_up (41.0), sit_on (40.8)\n",
      "135 play_soccer_solo     hop_on (45.8), talk_on (45.2), make (43.4), pick_up (42.7), sit_on (41.6)\n",
      "136 play_tennis_solo     open (50.2), hop_on (44.0), break (43.1), talk_on (42.1), set (41.4)\n",
      "137 pose                 carry (30.9), blow (28.4), make (27.3), drag (26.4), wear (25.9)\n",
      "138 sing                 teach (34.2), read (32.7), eat_at (31.7), sit_at (31.4), eat (31.2)\n",
      "139 skate                stick (32.6), jump (31.2), kick (28.3), walk (27.0), ride (26.0)\n",
      "140 ski                  jump (38.5), ride (35.3), lift (32.5), wear (31.1), race (27.7)\n",
      "141 sleep                eat (47.1), eat_at (45.1), walk (39.9), sit_at (39.8), sit_on (36.9)\n",
      "142 smile                hug (45.7), kiss (39.8), walk (32.3), greet (31.5), brush_with (29.7)\n",
      "143 snowboard            jump (20.3), ride (19.4), wear (18.4), kick (17.3), park (16.2)\n",
      "144 surf                 ride (29.1), wave (28.5), watch (27.4), sail (25.7), kick (23.3)\n",
      "145 write                read (62.9), make (44.8), teach (44.8), text_on (40.8), turn (40.1)\n"
     ]
    }
   ],
   "source": [
    "hhe = we.get_embeddings(hh.actions)\n",
    "cae = we.get_embeddings(ca.actions)\n",
    "\n",
    "sims = hhe @ cae.T\n",
    "sims.shape\n",
    "print('Similarity by word embeddings.')\n",
    "# plot_mat(sims, xticklabels=ca.actions, yticklabels=hh.actions, vrange=(0,1), plot=True)\n",
    "print_by_highest_sim(sims, labels_i=hh.actions)"
   ]
  },
  {
   "cell_type": "code",
   "execution_count": 4,
   "metadata": {},
   "outputs": [
    {
     "name": "stdout",
     "output_type": "stream",
     "text": [
      "Similarity by synset's word embeddings.\n",
      "  1 call                 text_on (51.0), talk_on (48.0), hold (45.1), pick_up (43.5), turn (42.5)\n",
      "  2 shout                throw (31.1), sit_on (27.9), sit_at (27.9), talk_on (27.4), walk (26.7)\n",
      "  3 signal               text_on (47.2), turn (37.2), operate (28.8), control (28.8), push (28.2)\n",
      "  4 talk                 talk_on (78.0), sit_at (45.9), sit_on (45.9), turn (42.9), hold (42.3)\n",
      "  5 whistle              kick (31.5), blow (31.2), break (23.8), train (23.5), sip (21.4)\n",
      "  6 wink                 sip (28.4), hug (18.7), scratch (17.2), kiss (16.4), flip (16.1)\n",
      "  7 avoid                stop_at (43.2), lose (41.4), exit (41.1), break (40.6), turn (39.9)\n",
      "  8 bite                 eat_at (48.1), eat (48.1), stab (38.9), squeeze (34.5), stick (33.3)\n",
      "  9 bump                 drag (32.5), pick_up (31.7), jump (28.8), hit (28.6), throw (28.1)\n",
      " 10 caress               sip (22.7), spin (21.5), hug (21.5), kiss (20.2), wash (17.5)\n",
      " 11 hit                  hit (100.0), run (45.6), break (41.8), throw (40.8), pick_up (39.5)\n",
      " 12 hold                 hold (95.3), catch (51.4), sit_on (50.0), sit_at (50.0), set (49.8)\n",
      " 13 hug                  hug (45.7), walk (30.0), ride (28.0), sip (26.8), sit_on (25.7)\n",
      " 14 kick                 kick (100.0), throw (44.8), break (43.0), drive (39.9), pick_up (34.4)\n",
      " 15 kiss                 kiss (37.1), hug (27.6), walk (25.0), throw (23.0), talk_on (22.4)\n",
      " 16 lick                 lick (52.0), smell (30.6), scratch (30.4), brush_with (27.2), eat (27.1)\n",
      " 17 lift                 pull (49.1), lift (48.7), cut (39.2), cut_with (39.2), hold (38.5)\n",
      " 18 massage              pet (22.5), sip (21.9), eat_at (19.8), eat (19.8), scratch (19.3)\n",
      " 19 pet                  pet (100.0), eat (36.0), eat_at (36.0), milk (33.4), feed (25.5)\n",
      " 20 pinch                hit (42.4), squeeze (41.0), run (35.7), walk (32.8), throw (31.2)\n",
      " 21 poke                 stick (36.2), stab (27.3), scratch (26.1), brush_with (26.0), throw (24.5)\n",
      " 22 pull                 pull (100.0), pick_up (53.2), push (49.5), turn (48.8), hold (48.5)\n",
      " 23 punch                throw (39.8), blow (38.6), pack (35.6), kick (34.7), stick (32.4)\n",
      " 24 push                 push (69.8), pull (60.0), hold (55.5), drive (53.3), turn (53.2)\n",
      " 25 reach                open (43.4), pick_up (43.1), break (41.9), hold (41.8), lose (40.9)\n",
      " 26 slap                 stick (39.5), kick (36.4), blow (32.0), throw (31.2), hit (27.7)\n",
      " 27 squeeze              squeeze (100.0), cut (40.2), cut_with (40.2), pull (35.7), turn (34.4)\n",
      " 28 tickle               sip (20.3), scratch (20.3), flip (19.0), smell (17.7), hug (14.5)\n",
      " 29 chew                 eat (37.4), eat_at (37.4), smell (27.1), brush_with (26.0), walk (23.6)\n",
      " 30 cook                 cook (100.0), stir (50.7), eat (35.0), eat_at (35.0), serve (34.6)\n",
      " 31 devour               eat (44.6), eat_at (44.6), move (20.9), smell (20.4), pack (20.3)\n",
      " 32 drink                drink_with (61.6), eat (61.2), eat_at (61.2), milk (52.5), sip (46.5)\n",
      " 33 eat                  eat_at (100.0), eat (100.0), feed (46.3), sit_at (45.4), sit_on (45.4)\n",
      " 34 prepare              hold (47.4), fill (45.0), serve (43.7), launch (42.9), make (41.5)\n",
      " 35 spread               turn (34.4), dry (32.1), cut_with (30.2), cut (30.2), stir (28.9)\n",
      " 36 bend_object          turn (39.3), stick (34.2), pull (30.6), hold (29.1), type_on (28.5)\n",
      " 37 break                break (100.0), set (53.5), hold (53.3), serve (48.8), pick_up (47.6)\n",
      " 38 brush                brush_with (100.0), dry (45.4), paint (44.8), stick (33.4), stir (31.7)\n",
      " 39 build                make (54.8), fill (45.3), clean (45.2), stand_on (43.0), stand_under (43.0)\n",
      " 40 carry                carry (67.9), dribble (52.2), hold (50.0), pick_up (46.1), fill (42.7)\n",
      " 41 catch                catch (63.5), throw (50.4), break (44.8), pick_up (42.2), pull (40.9)\n",
      " 42 clear                turn (51.8), clean (49.0), stand_on (48.2), stand_under (48.2), set (48.2)\n",
      " 43 cut                  cut (100.0), cut_with (100.0), pay (46.2), pick_up (46.1), turn (46.0)\n",
      " 44 disassemble          inspect (25.5), adjust (20.3), teach (19.6), flush (17.4), spin (17.1)\n",
      " 45 drive                drive (100.0), turn (50.2), run (47.2), pick_up (42.7), push (42.4)\n",
      " 46 drop                 slide (52.3), cut_with (49.3), cut (49.3), turn (46.4), pick_up (46.1)\n",
      " 47 exchange             open (37.0), board (34.9), hold (33.2), pick_up (30.9), pay (30.2)\n",
      " 48 fill                 fill (75.3), pick_up (42.8), serve (38.4), sit_on (38.0), sit_at (38.0)\n",
      " 49 get                  pick_up (70.5), exit (61.6), turn (59.5), lose (59.4), fill (58.1)\n",
      " 50 lay                  lie_on (48.3), set (42.7), sit_at (41.0), sit_on (41.0), stand_under (34.4)\n",
      " 51 light                light (55.0), turn (40.2), dry (33.3), make (33.1), pick_up (32.7)\n",
      " 52 mix                  stir (50.6), dry (38.9), milk (35.5), make (34.9), turn (33.8)\n",
      " 53 pour                 pour (64.3), stir (56.0), milk (34.8), dry (31.0), cook (30.1)\n",
      " 54 put                  pick_up (66.7), set (64.6), hold (61.8), turn (61.0), stand_on (59.6)\n",
      " 55 read                 read (100.0), text_on (51.1), watch (45.7), talk_on (42.6), sit_at (40.3)\n",
      " 56 remove               stir (43.6), clean (43.0), cut (42.7), cut_with (42.7), turn (40.8)\n",
      " 57 repair               inspect (41.1), clean (34.3), repair (34.3), pay (27.6), fill (27.6)\n",
      " 58 ride                 ride (65.3), walk (50.0), train (47.5), drive (38.6), park (38.0)\n",
      " 59 row                  row (100.0), stand_on (34.7), stand_under (34.7), sit_on (34.4), sit_at (34.4)\n",
      " 60 sail                 sail (100.0), fly (33.7), inspect (27.6), set (26.1), pick_up (26.0)\n",
      " 61 separate             hold (44.8), set (41.0), operate (37.7), control (37.7), make (37.3)\n",
      " 62 show                 turn (40.6), stand_on (40.5), stand_under (40.5), watch (39.6), pick_up (39.3)\n",
      " 63 spill                paint (28.7), brush_with (27.9), clean (27.3), inspect (23.7), dry (23.1)\n",
      " 64 spray                paint (53.7), brush_with (45.3), dry (34.5), smell (34.0), hose (32.4)\n",
      " 65 steal                throw (49.8), catch (42.0), pick_up (38.3), turn (36.2), break (35.9)\n",
      " 66 throw                throw (100.0), pick_up (48.1), catch (47.7), pull (47.7), walk (46.1)\n",
      " 67 use                  make (50.0), type_on (49.5), turn (46.8), hold (46.2), clean (46.1)\n",
      " 68 wash                 wash (46.7), brush_with (44.4), dry (41.3), paint (41.0), clean (40.2)\n",
      " 69 wear                 wear (59.7), watch (36.9), lose (33.8), walk (32.3), sit_on (32.0)\n",
      " 70 listen               talk_on (59.8), watch (51.2), sit_at (51.1), sit_on (51.1), read (51.0)\n",
      " 71 look                 turn (54.7), pick_up (54.5), watch (51.2), clean (50.5), fill (50.2)\n",
      " 72 sniff                smell (47.8), scratch (31.2), sip (28.5), pet (24.9), inspect (24.5)\n",
      " 73 taste                smell (58.6), stir (46.5), eat_at (42.9), eat (42.9), cook (40.2)\n",
      " 74 touch                turn (43.2), stick (37.4), lose (36.8), pick_up (36.6), sit_on (36.3)\n",
      " 75 balance              adjust (42.9), lose (41.6), clean (38.5), turn (36.9), swing (36.0)\n",
      " 76 bend                 turn (30.2), pull (27.2), park (25.9), swing (25.3), drive (24.5)\n",
      " 77 bow                  wear (30.5), pull (29.3), hose (28.5), stick (27.8), turn (26.5)\n",
      " 78 climb                jump (45.0), slide (43.6), walk (38.6), hop_on (37.7), ride (36.4)\n",
      " 79 crouch               kick (24.7), throw (15.8), pick_up (10.3), walk (9.9), sit_on (9.1)\n",
      " 80 fall                 slide (48.1), turn (47.7), pick_up (45.2), cut_with (45.0), cut (45.0)\n",
      " 81 float                sail (32.0), slide (31.2), drag (29.9), ride (27.9), walk (27.2)\n",
      " 82 fly                  fly (72.7), walk (43.8), sail (42.6), hit (38.4), run (38.2)\n",
      " 83 hang                 sit_at (41.7), sit_on (41.7), pick_up (35.7), hose (33.4), stand_on (31.3)\n",
      " 84 jump                 jump (80.7), throw (48.0), pick_up (38.6), pull (37.8), catch (37.6)\n",
      " 85 kneel                sit_at (38.3), sit_on (38.3), stand_on (23.5), stand_under (23.5), lie_on (23.0)\n",
      " 86 lean                 eat_at (31.6), eat (31.6), swing (29.0), dry (27.9), sit_at (26.6)\n",
      " 87 lie                  lie_on (100.0), sit_on (41.9), sit_at (41.9), stand_under (35.7), stand_on (35.7)\n",
      " 88 perch                eat_at (23.4), eat (23.4), catch (22.0), sit_at (18.7), sit_on (18.7)\n",
      " 89 recline              spin (20.7), flip (17.6), eat (15.1), eat_at (15.1), ride (14.8)\n",
      " 90 roll                 pick_up (36.8), slide (36.2), turn (35.3), stick (34.3), hold (34.1)\n",
      " 91 run                  run (100.0), race (71.4), hunt (51.1), walk (47.5), drive (47.2)\n",
      " 92 sit                  sit_at (91.6), sit_on (91.6), ride (65.3), stand_on (57.6), stand_under (57.6)\n",
      " 93 squat                sit_on (29.5), sit_at (29.5), walk (22.1), sip (21.5), eat (20.1)\n",
      " 94 stand                stand_under (93.0), stand_on (93.0), sit_on (58.0), sit_at (58.0), hold (47.6)\n",
      " 95 straddle             straddle (100.0), wield (13.5), lasso (12.1), jump (10.3), dribble (10.1)\n",
      " 96 swim                 walk (39.5), sail (34.8), eat_at (31.9), eat (31.9), ride (30.5)\n",
      " 97 walk                 walk (100.0), sit_on (53.5), sit_at (53.5), ride (51.0), run (47.5)\n",
      " 98 accompany            inspect (22.7), eat (22.7), eat_at (22.7), watch (22.4), release (21.4)\n",
      " 99 be_with              set (58.5), hold (56.1), pick_up (55.2), stand_under (54.3), stand_on (54.3)\n",
      "100 chase                chase (43.4), hunt (40.7), drive (29.9), race (29.3), run (28.7)\n",
      "101 dance                swing (33.0), walk (33.0), drag (27.1), watch (26.6), ride (26.4)\n",
      "102 dine                 eat_at (43.4), eat (43.4), sit_at (30.8), sit_on (30.8), walk (25.2)\n",
      "103 dress                groom (46.4), wear (42.3), watch (27.3), sit_at (26.6), sit_on (26.6)\n",
      "104 feed                 feed (64.7), eat_at (55.6), eat (55.6), milk (40.6), pick_up (34.3)\n",
      "105 fight                stand_on (44.8), stand_under (44.8), lose (43.3), hold (42.1), stop_at (41.6)\n",
      "106 follow               turn (51.3), hold (49.7), set (46.1), exit (45.4), pick_up (43.6)\n",
      "107 give                 hold (65.7), feed (64.7), turn (60.0), pick_up (58.5), lose (57.0)\n",
      "108 groom                groom (48.0), wear (18.5), walk (17.1), sit_on (16.9), sit_at (16.9)\n",
      "109 help                 pick_up (54.6), make (53.7), turn (53.4), feed (52.7), hold (52.6)\n",
      "110 hunt                 hunt (55.6), chase (29.5), drive (28.6), pick_up (26.6), watch (24.7)\n",
      "111 kill                 blow (38.4), eat_at (37.9), eat (37.9), turn (36.3), feed (34.2)\n",
      "112 meet                 hold (51.1), set (43.6), board (38.6), pay (37.1), talk_on (35.7)\n",
      "113 pay                  pay (100.0), buy (49.5), lose (47.6), cut_with (46.2), cut (46.2)\n",
      "114 play_baseball        pick_up (45.1), watch (41.6), lose (40.5), open (40.3), break (39.9)\n",
      "115 play_basketball      pick_up (44.1), open (40.8), lose (38.4), watch (35.7), throw (35.5)\n",
      "116 play_frisbee         throw (36.8), stick (32.9), kick (30.7), open (29.2), catch (27.4)\n",
      "117 play_soccer          pick_up (42.0), open (40.3), watch (38.1), kick (37.7), lose (37.2)\n",
      "118 play_tennis          open (54.8), break (39.0), pick_up (38.9), lose (37.0), set (36.9)\n",
      "119 precede              hold (17.3), greet (16.6), stop_at (16.4), inspect (13.6), move (12.3)\n",
      "120 shake_hands          sit_on (50.8), sit_at (50.8), stand_under (47.8), stand_on (47.8), hold (47.8)\n",
      "121 teach                teach (76.5), talk_on (40.7), read (37.3), eat_at (35.0), eat (35.0)\n",
      "122 blow                 blow (100.0), pull (39.1), hit (38.8), break (37.7), lose (36.6)\n",
      "123 clap                 stick (29.8), spin (23.9), flip (20.9), grind (20.0), lick (19.5)\n",
      "124 cry                  talk_on (36.9), walk (32.7), sit_on (31.9), sit_at (31.9), stand_on (31.7)\n",
      "125 draw                 hold (42.6), lose (40.1), break (40.0), pull (38.3), open (37.8)\n",
      "126 groan                sip (19.3), smell (16.6), spin (14.0), scratch (13.4), sit_on (13.4)\n",
      "127 laugh                talk_on (39.9), eat_at (37.7), eat (37.7), sit_at (35.0), sit_on (35.0)\n",
      "128 paint                paint (100.0), brush_with (44.8), clean (32.8), smell (31.5), dry (31.3)\n",
      "129 photograph           read (36.4), paint (30.8), text_on (26.3), watch (22.3), wear (22.2)\n",
      "130 play                 pick_up (48.4), open (46.2), break (43.6), lose (43.2), set (41.2)\n",
      "131 play_baseball_solo   run (44.2), pick_up (44.2), break (43.4), hit (43.1), walk (41.9)\n",
      "132 play_basketball_solo pick_up (44.3), open (40.4), break (40.2), run (39.5), hit (38.3)\n",
      "133 play_frisbee_solo    throw (35.6), kick (33.4), walk (33.3), break (32.0), swing (31.5)\n",
      "134 play_instrument      pick_up (41.0), type_on (39.6), turn (39.0), open (37.8), set (37.6)\n",
      "135 play_soccer_solo     pick_up (42.7), break (40.4), open (40.0), kick (39.7), run (38.8)\n",
      "136 play_tennis_solo     open (51.1), break (43.1), pick_up (39.8), run (38.9), hit (38.5)\n",
      "137 pose                 blow (28.4), hold (27.1), drag (26.4), make (26.4), lie_on (26.4)\n",
      "138 sing                 talk_on (33.4), read (32.7), sit_at (31.7), sit_on (31.7), eat (31.2)\n",
      "139 skate                stick (32.6), kick (28.3), walk (27.0), throw (25.4), ride (22.2)\n",
      "140 ski                  jump (27.3), park (26.5), wear (24.8), open (24.0), drag (23.6)\n",
      "141 sleep                eat_at (47.1), eat (47.1), walk (39.9), sit_at (39.6), sit_on (39.6)\n",
      "142 smile                walk (32.3), talk_on (30.0), sit_on (29.7), sit_at (29.7), turn (26.4)\n",
      "143 snowboard            kick (17.3), park (16.2), drag (15.9), jump (13.4), slide (12.2)\n",
      "144 surf                 watch (27.4), sail (25.7), kick (23.3), drag (23.0), wave (22.2)\n",
      "145 write                read (62.9), talk_on (43.5), turn (40.1), teach (40.0), fill (37.8)\n"
     ]
    }
   ],
   "source": [
    "wndict = hh.driver.wn_action_dict\n",
    "\n",
    "adict = hh.driver.action_dict\n",
    "\n",
    "hhsynsets = [sorted({s.replace('_', ' ') for wnid in adict[a]['wn_ids'] for s in wndict[wnid]['syn']}) \n",
    "             for a in hh.actions]\n",
    "\n",
    "# for i in range(hh.num_actions):\n",
    "#     print(i, hhsynsets[i], we.get_embeddings(hhsynsets[i], del_on_miss=True).shape)\n",
    "\n",
    "synsims = np.array([[np.mean(we.get_embeddings(hhsynsets[i], del_on_miss=True, verbose=False) @ cae[j, :]) \n",
    "                     if i > 0 else 0\n",
    "                     for i in range(hh.num_actions)] for j in range(ca.num_actions)]\n",
    "                  ).T\n",
    "\n",
    "print('Similarity by synset\\'s word embeddings.')\n",
    "print_by_highest_sim(synsims, labels_i=hh.actions)"
   ]
  },
  {
   "cell_type": "code",
   "execution_count": 5,
   "metadata": {},
   "outputs": [],
   "source": [
    "# from lib.dataset.utils import get_obj_mapping\n",
    "\n",
    "# v_to_h = get_obj_mapping(hh.objects, v_to_h=True)\n",
    "# hhopera = {j: np.flatnonzero(hh.oa_to_interaction[:, j] >= 0) for j in range(hh.num_actions)}\n",
    "# caopera = {j: v_to_h[np.flatnonzero(ca.oa_to_interaction[:, j] >= 0)] for j in range(ca.num_actions)}\n",
    "\n",
    "# jaccard = np.array([[np.intersect1d(hhopera[i], caopera[j]).size / np.union1d(hhopera[i], caopera[j]).size\n",
    "#                      for j in range(ca.num_actions)] for i in range(hh.num_actions)]\n",
    "#                   )\n",
    "\n",
    "# # plot_mat(jaccard, xticklabels=ca.actions, yticklabels=hh.actions, vrange=(0,1), plot=True)\n",
    "# print('Similarity by Jaccard index over affordable objects.')\n",
    "# print_by_highest_sim(jaccard, labels_i=hh.actions)"
   ]
  },
  {
   "cell_type": "code",
   "execution_count": 6,
   "metadata": {},
   "outputs": [],
   "source": [
    "# for j, caa in enumerate(ca.actions):\n",
    "#     if j == 0:\n",
    "#         continue\n",
    "#     print(f'{j:3d} {caa:20s}', ', '.join([f'{hh.objects[i]}' for i in caopera[j]]))"
   ]
  },
  {
   "cell_type": "code",
   "execution_count": 7,
   "metadata": {},
   "outputs": [],
   "source": [
    "# pe = we.get_embeddings(hh.symparts)\n",
    "# psims = pe @ cae.T\n",
    "#\n",
    "# # Useless\n",
    "# print_by_highest_sim(psims,labels_i=hh.symparts, maxn=hh.num_symparts)"
   ]
  },
  {
   "cell_type": "code",
   "execution_count": 8,
   "metadata": {},
   "outputs": [],
   "source": [
    "# print_by_highest_sim(jaccard * sims, labels_i=hh.actions)"
   ]
  },
  {
   "cell_type": "code",
   "execution_count": 16,
   "metadata": {},
   "outputs": [
    {
     "name": "stdout",
     "output_type": "stream",
     "text": [
      "  1 call                 x 0.51  talk_on (51.2), text_on (48.4), stop_at (45.2), stand_on (44.0), pick_up (43.5)\n",
      "  2 shout                  0.69  throw (31.1), hug (29.5), walk (26.7), read (25.6), sit_at (25.4)\n",
      "  3 signal                 1.04  text_on (38.8), turn (37.2), light (33.8), sign (30.6), control (30.2)\n",
      "  4 talk                 x 2.10  talk_on (81.3), sit_on (49.6), sit_at (44.5), stand_on (44.4), turn (42.9)\n",
      "  5 whistle                1.44  kick (31.5), blow (31.2), break (23.8), train (23.5), stop_at (22.6)\n",
      "  6 wink                   4.06  sip (28.4), hug (27.5), kiss (24.1), lick (17.8), scratch (15.8)\n",
      "  7 avoid                x 0.26  stop_at (44.3), lose (41.4), break (40.6), make (40.0), turn (39.9)\n",
      "  8 bite                 x 1.21  eat (48.1), eat_at (42.5), stab (37.6), scratch (35.2), squeeze (34.5)\n",
      "  9 bump                   0.90  grind (35.9), drag (32.5), pick_up (31.7), jump (30.6), hit (28.6)\n",
      " 10 caress                 3.72  hug (30.8), kiss (25.7), sip (22.7), lick (19.5), wash (16.3)\n",
      " 11 hit was assigned hit.\n",
      " 12 hold was assigned hold.\n",
      " 13 hug was assigned hug.\n",
      " 14 kick was assigned kick.\n",
      " 15 kiss was assigned kiss.\n",
      " 16 lick was assigned lick.\n",
      " 17 lift was assigned lift.\n",
      " 18 massage                0.78  pet (22.5), sip (21.9), eat (19.8), eat_at (18.5), lick (18.4)\n",
      " 19 pet was assigned pet.\n",
      " 20 pinch                x 1.42  hit (42.4), squeeze (41.0), run (35.7), walk (32.8), throw (31.2)\n",
      " 21 poke                   1.31  stick (36.2), stab (30.0), scratch (28.9), lick (26.1), catch (25.3)\n",
      " 22 pull was assigned pull.\n",
      " 23 punch                  0.93  throw (39.8), blow (38.6), pack (35.6), kick (34.7), stick (32.4)\n",
      " 24 push was assigned push.\n",
      " 25 reach                x 0.18  make (43.2), pick_up (43.1), push (42.0), break (41.9), open (41.3)\n",
      " 26 slap                   1.70  stick (39.5), kick (36.4), blow (32.0), throw (31.2), hit (27.7)\n",
      " 27 squeeze was assigned squeeze.\n",
      " 28 tickle                 0.65  sip (20.3), scratch (19.8), hug (19.2), smell (17.7), lick (17.4)\n",
      " 29 chew                   2.32  eat (37.4), eat_at (30.2), smell (27.1), walk (23.6), grind (22.2)\n",
      " 30 cook was assigned cook.\n",
      " 31 devour               x 3.99  eat (44.6), eat_at (33.2), feed (25.2), grind (20.6), smell (20.4)\n",
      " 32 drink                x 1.86  drink_with (69.3), eat (61.2), eat_at (55.1), milk (52.5), sip (46.5)\n",
      " 33 eat was assigned eat.\n",
      " 34 prepare              x 0.40  make (46.2), hold (44.5), serve (43.7), launch (42.9), teach (41.6)\n",
      " 35 spread                 0.64  turn (34.4), cut_with (33.8), brush_with (31.8), cut (30.2), stop_at (29.5)\n",
      " 36 bend_object            0.85  turn (39.3), stick (34.2), point (32.0), pull (30.6), type_on (30.0)\n",
      " 37 break was assigned break.\n",
      " 38 brush                x 5.04  brush_with (89.0), dry (46.5), paint (44.8), wash (34.8), stick (33.4)\n",
      " 39 build                x 0.71  make (54.6), operate (43.9), buy (43.6), pick_up (41.3), push (41.3)\n",
      " 40 carry was assigned carry.\n",
      " 41 catch was assigned catch.\n",
      " 42 clear                x 0.56  turn (51.8), make (49.4), stand_under (49.2), stand_on (48.3), text_on (45.5)\n",
      " 43 cut was assigned cut.\n",
      " 44 disassemble            1.86  assemble (27.5), inspect (25.5), adjust (20.3), grind (18.4), dribble (18.0)\n",
      " 45 drive was assigned drive.\n",
      " 46 drop                 x 0.38  slide (52.3), cut (49.3), cut_with (48.1), jump (47.9), turn (46.4)\n",
      " 47 exchange               0.47  open (34.9), board (34.1), hold (33.1), stop_at (31.1), pick_up (30.9)\n",
      " 48 fill was assigned fill.\n",
      " 49 get                  x 0.82  pick_up (70.5), make (59.9), turn (59.5), lose (59.4), pay (55.1)\n",
      " 50 lay                  x 1.09  lie_on (48.7), sit_on (41.7), sit_at (38.6), stand_on (36.1), stand_under (35.3)\n",
      " 51 light was assigned light.\n",
      " 52 mix                  x 1.22  stir (50.6), dry (38.7), milk (35.5), make (34.7), turn (33.8)\n",
      " 53 pour was assigned pour.\n",
      " 54 put                  x 0.26  pick_up (66.7), set (61.5), stand_on (61.2), turn (61.0), stand_under (60.0)\n",
      " 55 read was assigned read.\n",
      " 56 remove               x 0.27  stir (43.6), cut (42.7), clean (41.4), turn (40.8), cut_with (40.3)\n",
      " 57 repair was assigned repair.\n",
      " 58 ride was assigned ride.\n",
      " 59 row was assigned row.\n",
      " 60 sail was assigned sail.\n",
      " 61 separate             x 0.58  hold (45.3), set (41.1), operate (39.1), type_on (38.4), make (37.4)\n",
      " 62 show                 x 0.68  talk_on (49.0), stand_on (45.5), turn (40.6), watch (39.6), hop_on (39.4)\n",
      " 63 spill                  1.53  paint (28.7), clean (28.2), brush_with (25.4), inspect (23.7), dry (21.5)\n",
      " 64 spray                x 1.67  paint (53.7), brush_with (43.5), dry (35.1), smell (34.0), hose (33.5)\n",
      " 65 steal                x 1.03  throw (49.8), catch (41.7), pick_up (38.3), turn (36.2), break (35.9)\n",
      " 66 throw was assigned throw.\n",
      " 67 use                  x 0.83  make (54.7), type_on (54.1), turn (46.8), control (45.9), operate (44.5)\n",
      " 68 wash was assigned wash.\n",
      " 69 wear was assigned wear.\n",
      " 70 listen               x 0.52  talk_on (54.6), watch (51.2), read (51.0), sit_on (49.0), sit_at (47.4)\n",
      " 71 look                 x 0.52  make (56.4), turn (54.7), pick_up (54.5), watch (51.2), sit_on (49.9)\n",
      " 72 sniff                x 2.95  smell (47.8), scratch (36.0), sip (28.5), pet (24.9), inspect (24.5)\n",
      " 73 taste                x 1.39  smell (58.6), stir (46.5), eat (42.9), cook (40.2), eat_at (38.9)\n",
      " 74 touch                x 0.36  turn (43.2), talk_on (38.1), stick (37.4), sit_on (37.3), lose (36.8)\n",
      " 75 balance              x 0.53  adjust (42.9), lose (41.6), cut_with (37.0), turn (36.9), make (36.5)\n",
      " 76 bend                   0.65  turn (30.2), lick (28.5), pull (27.2), park (25.9), swing (25.3)\n",
      " 77 bow                    0.71  wear (33.0), pull (29.3), stick (27.8), tie (27.8), turn (26.5)\n",
      " 78 climb                x 1.88  jump (47.5), slide (43.6), ride (41.5), walk (38.6), lift (33.3)\n",
      " 79 crouch                 4.80  kick (24.7), throw (15.8), dribble (11.9), pick_up (10.3), walk (9.9)\n",
      " 80 fall                 x 0.21  slide (48.1), turn (47.7), pick_up (45.2), cut (45.0), cut_with (44.9)\n",
      " 81 float                  0.90  sail (32.0), ride (31.4), slide (31.2), drag (29.9), walk (27.2)\n",
      " 82 fly was assigned fly.\n",
      " 83 hang                   1.07  sit_on (39.1), sit_at (37.4), pick_up (35.7), paint (31.2), stand_on (30.7)\n",
      " 84 jump was assigned jump.\n",
      " 85 kneel                  1.66  sit_at (32.7), sit_on (31.8), hug (25.5), greet (24.5), walk (22.9)\n",
      " 86 lean                   1.06  eat (31.6), swing (29.0), dry (28.1), eat_at (27.7), lose (24.9)\n",
      " 87 lie                  x 3.61  lie_on (89.8), sit_on (42.4), sit_at (39.1), stand_under (36.7), stand_on (36.4)\n",
      " 88 perch                  1.16  catch (26.2), eat (23.4), eat_at (20.4), feed (19.9), sit_on (19.1)\n",
      " 89 recline                1.43  flip (16.3), eat (15.1), spin (15.0), sip (14.7), sit_on (12.5)\n",
      " 90 roll                   0.24  pick_up (36.8), slide (36.2), turn (35.3), cut_with (34.3), stick (34.3)\n",
      " 91 run was assigned run.\n",
      " 92 sit                  x 2.56  sit_on (86.7), sit_at (85.3), stand_on (56.2), stand_under (54.1), watch (52.1)\n",
      " 93 squat                  0.99  sit_at (24.8), sit_on (24.6), walk (22.1), sip (21.5), eat (20.1)\n",
      " 94 stand                x 4.43  stand_on (88.5), stand_under (87.6), sit_on (59.2), sit_at (58.0), pick_up (46.2)\n",
      " 95 straddle was assigned straddle.\n",
      " 96 swim                   0.79  walk (39.5), sail (34.8), ride (33.4), eat (31.9), jump (31.0)\n",
      " 97 walk was assigned walk.\n",
      " 98 accompany              0.20  greet (25.0), release (23.2), inspect (22.7), text_on (22.7), eat (22.7)\n",
      " 99 be_with              x 0.31  cut_with (63.2), stand_on (57.5), set (57.5), stand_under (56.8), make (55.9)\n",
      "100 chase was assigned chase.\n",
      "101 dance                  1.35  hop_on (35.3), swing (33.0), walk (33.0), teach (30.2), jump (27.1)\n",
      "102 dine                 x 3.04  eat (43.4), eat_at (39.5), sit_at (30.8), sit_on (30.1), walk (25.2)\n",
      "103 dress                x 3.59  wear (56.3), groom (39.6), tie (30.9), watch (27.3), eat (26.2)\n",
      "104 feed was assigned feed.\n",
      "105 fight                x 0.28  stand_on (44.8), stand_under (43.4), lose (43.3), stop_at (42.7), push (41.6)\n",
      "106 follow               x 0.57  turn (51.3), make (47.3), hold (46.2), set (45.9), pick_up (43.6)\n",
      "107 give                 x 0.40  make (63.3), hold (61.6), turn (60.0), pick_up (58.5), lose (57.0)\n",
      "108 groom was assigned groom.\n",
      "109 help                 x 0.78  make (58.8), pick_up (54.6), push (53.5), turn (53.4), pull (48.9)\n",
      "110 hunt was assigned hunt.\n",
      "111 kill                   0.21  blow (38.4), eat (37.9), turn (36.3), hunt (36.0), eat_at (35.9)\n",
      "112 meet                 x 1.06  hold (50.1), set (47.7), talk_on (41.2), make (40.6), cut_with (38.5)\n",
      "113 pay was assigned pay.\n",
      "114 play_baseball        x 0.33  pick_up (45.1), watch (41.6), talk_on (41.2), lose (40.5), break (39.9)\n",
      "115 play_basketball      x 0.54  pick_up (44.1), open (39.3), lose (38.4), talk_on (37.4), sit_at (36.6)\n",
      "116 play_frisbee           0.86  throw (36.8), stick (32.9), kick (30.7), catch (28.7), open (28.4)\n",
      "117 play_soccer          x 0.29  pick_up (42.0), open (38.1), watch (38.1), kick (37.7), lose (37.2)\n",
      "118 play_tennis          x 1.06  open (55.0), break (39.0), pick_up (38.9), set (38.2), lose (37.0)\n",
      "119 precede                1.09  greet (19.0), hold (16.9), push (13.9), move (13.8), inspect (13.6)\n",
      "120 shake_hands          x 0.09  sit_at (48.4), sit_on (48.0), stick (47.0), hold (47.0), stand_under (46.9)\n",
      "121 teach was assigned teach.\n",
      "122 blow was assigned blow.\n",
      "123 clap                   1.07  stick (29.8), hug (24.8), kiss (22.7), lick (22.7), grind (21.4)\n",
      "124 cry                    0.14  walk (32.7), talk_on (32.1), eat (31.6), eat_at (31.4), sit_at (31.2)\n",
      "125 draw                 x 0.37  tie (41.5), hold (41.1), lose (40.1), break (40.0), pull (38.3)\n",
      "126 groan                  1.42  sip (19.3), smell (16.6), hug (16.1), grind (13.6), dribble (13.5)\n",
      "127 laugh                  0.38  eat_at (37.8), eat (37.7), sit_at (35.8), talk_on (35.0), walk (34.4)\n",
      "128 paint was assigned paint.\n",
      "129 photograph             2.27  read (36.4), paint (30.8), text_on (29.9), sign (23.9), wear (22.8)\n",
      "130 play                 x 0.25  pick_up (48.4), open (44.2), sit_on (43.9), break (43.6), lose (43.2)\n",
      "131 play_baseball_solo   x 0.25  run (44.2), pick_up (44.2), break (43.4), hit (43.1), walk (41.9)\n",
      "132 play_basketball_solo x 0.37  pick_up (44.3), break (40.2), run (39.5), open (38.5), hit (38.3)\n",
      "133 play_frisbee_solo      0.31  throw (35.6), kick (33.4), walk (33.3), fly (32.4), break (32.0)\n",
      "134 play_instrument      x 0.50  type_on (45.5), pick_up (41.0), make (40.5), turn (39.0), set (38.4)\n",
      "135 play_soccer_solo     x 0.27  pick_up (42.7), break (40.4), kick (39.7), run (38.8), hit (38.7)\n",
      "136 play_tennis_solo     x 0.73  open (50.7), break (43.1), set (39.9), pick_up (39.8), run (38.9)\n",
      "137 pose                   0.32  blow (28.4), make (26.9), drag (26.4), carry (26.3), wear (25.6)\n",
      "138 sing                   0.13  read (32.7), teach (31.8), sit_at (31.5), eat_at (31.4), eat (31.2)\n",
      "139 skate                  1.07  stick (32.6), kick (28.3), walk (27.0), throw (25.4), jump (24.3)\n",
      "140 ski                    0.87  jump (32.9), ride (28.9), wear (28.0), park (26.5), race (25.5)\n",
      "141 sleep                x 0.82  eat (47.1), eat_at (46.1), walk (39.9), sit_at (39.7), sit_on (38.2)\n",
      "142 smile                  0.77  hug (34.9), walk (32.3), sit_at (28.5), talk_on (28.5), sit_on (27.7)\n",
      "143 snowboard              0.81  kick (17.3), jump (16.9), park (16.2), drag (15.9), ride (14.6)\n",
      "144 surf                   0.63  watch (27.4), sail (25.7), wave (25.4), ride (24.1), kick (23.3)\n",
      "145 write                x 1.16  read (62.9), teach (42.4), talk_on (41.0), make (40.5), turn (40.1)\n"
     ]
    }
   ],
   "source": [
    "assignment = {}\n",
    "for j in range(1, ca.num_actions):\n",
    "    caa = ca.actions[j]\n",
    "    \n",
    "    wem_s = sims[:, j]\n",
    "    syn_s = synsims[:, j]\n",
    "#     jac_s = jaccard[:, j]\n",
    "    \n",
    "    wem_best = np.argmax(wem_s[1:]) + 1\n",
    "    if hh.actions[wem_best] == caa:  # same action\n",
    "        assignment[j] = wem_best\n",
    "        print(f'{j:3d} {caa} was assigned {hh.actions[wem_best]}.')\n",
    "        continue\n",
    "    \n",
    "    sem_s = (wem_s + syn_s) / 2\n",
    "    sem_rank = np.argsort(sem_s[1:])[-5:][::-1] + 1\n",
    "    best_sem_s = sem_s[sem_rank]\n",
    "    r = best_sem_s / best_sem_s.min()  # ratio\n",
    "    neg_entropy = np.sum(r * np.log2(r))\n",
    "    assigned = (best_sem_s[0] >= 0.4)\n",
    "    print(f'{j:3d} {caa:20s} {\"x\" if assigned else \"\":1s} {neg_entropy:.2f} ', \n",
    "          ', '.join([f'{hh.actions[i]} ({sem_s[i] * 100:.1f})' for i in sem_rank]))"
   ]
  },
  {
   "cell_type": "code",
   "execution_count": 10,
   "metadata": {},
   "outputs": [
    {
     "name": "stderr",
     "output_type": "stream",
     "text": [
      "[INFO 05-21 12:54:29] ax.service.ax_client: Starting optimization with verbose logging. To disable logging, set the `verbose_logging` argument to `False`. Note that float values in the logs are rounded to 2 decimal points.\n",
      "[INFO 05-21 12:54:29] ax.modelbridge.dispatch_utils: Using Bayesian Optimization generation strategy: GenerationStrategy(name='Sobol+GPEI', steps=[Sobol for 5 trials, GPEI for subsequent trials]). Iterations after 5 will take longer to generate due to  model-fitting.\n",
      "[INFO 05-21 12:54:29] ax.service.ax_client: Generated new trial 0 with parameters {'x1': -1.82, 'x2': 4.77}.\n",
      "[INFO 05-21 12:54:29] ax.service.ax_client: Completed trial 0 with data: {'obj': (-0.81, None)}.\n",
      "[INFO 05-21 12:54:29] ax.service.ax_client: Generated new trial 1 with parameters {'x1': 2.8, 'x2': 4.18}.\n",
      "[INFO 05-21 12:54:29] ax.service.ax_client: Completed trial 1 with data: {'obj': (-1.76, None)}.\n",
      "[INFO 05-21 12:54:29] ax.service.ax_client: Generated new trial 2 with parameters {'x1': 6.33, 'x2': 9.18}.\n",
      "[INFO 05-21 12:54:29] ax.service.ax_client: Completed trial 2 with data: {'obj': (-0.16, None)}.\n",
      "[INFO 05-21 12:54:29] ax.service.ax_client: Generated new trial 3 with parameters {'x1': -4.59, 'x2': 7.21}.\n",
      "[INFO 05-21 12:54:29] ax.service.ax_client: Completed trial 3 with data: {'obj': (-0.16, None)}.\n",
      "[INFO 05-21 12:54:29] ax.service.ax_client: Generated new trial 4 with parameters {'x1': 6.89, 'x2': 0.59}.\n",
      "[INFO 05-21 12:54:29] ax.service.ax_client: Completed trial 4 with data: {'obj': (4.02, None)}.\n"
     ]
    },
    {
     "name": "stdout",
     "output_type": "stream",
     "text": [
      "  -1.820    4.765    0.444    0   -0.808\n",
      "   2.805    4.181    0.346   -1   -1.763\n",
      "   6.327    9.178    0.582   -1   -0.157\n",
      "  -4.591    7.210    0.036    0   -0.164\n",
      "   6.887    0.587    0.617   -1    4.024\n"
     ]
    },
    {
     "name": "stderr",
     "output_type": "stream",
     "text": [
      "[INFO 05-21 12:54:29] ax.service.ax_client: Generated new trial 5 with parameters {'x1': 2.95, 'x2': 6.04}.\n",
      "[INFO 05-21 12:54:29] ax.service.ax_client: Completed trial 5 with data: {'obj': (5.8, None)}.\n"
     ]
    },
    {
     "name": "stdout",
     "output_type": "stream",
     "text": [
      "   2.952    6.036    0.077    1    5.800\n"
     ]
    },
    {
     "name": "stderr",
     "output_type": "stream",
     "text": [
      "[INFO 05-21 12:54:30] ax.service.ax_client: Generated new trial 6 with parameters {'x1': -4.73, 'x2': 2.33}.\n",
      "[INFO 05-21 12:54:30] ax.service.ax_client: Completed trial 6 with data: {'obj': (-3.41, None)}.\n"
     ]
    },
    {
     "name": "stdout",
     "output_type": "stream",
     "text": [
      "  -4.731    2.329    0.721    0   -3.410\n"
     ]
    },
    {
     "name": "stderr",
     "output_type": "stream",
     "text": [
      "[INFO 05-21 12:54:30] ax.service.ax_client: Generated new trial 7 with parameters {'x1': -0.93, 'x2': 2.82}.\n",
      "[INFO 05-21 12:54:30] ax.service.ax_client: Completed trial 7 with data: {'obj': (-0.29, None)}.\n"
     ]
    },
    {
     "name": "stdout",
     "output_type": "stream",
     "text": [
      "  -0.931    2.815    0.310    0   -0.288\n"
     ]
    },
    {
     "name": "stderr",
     "output_type": "stream",
     "text": [
      "[INFO 05-21 12:54:31] ax.service.ax_client: Generated new trial 8 with parameters {'x1': -5.0, 'x2': 0.0}.\n",
      "[INFO 05-21 12:54:31] ax.service.ax_client: Completed trial 8 with data: {'obj': (-2.36, None)}.\n"
     ]
    },
    {
     "name": "stdout",
     "output_type": "stream",
     "text": [
      "  -5.000    0.000    0.472   -1   -2.360\n"
     ]
    },
    {
     "name": "stderr",
     "output_type": "stream",
     "text": [
      "[INFO 05-21 12:54:31] ax.service.ax_client: Generated new trial 9 with parameters {'x1': -1.41, 'x2': 0.0}.\n",
      "[INFO 05-21 12:54:31] ax.service.ax_client: Completed trial 9 with data: {'obj': (-0.14, None)}.\n"
     ]
    },
    {
     "name": "stdout",
     "output_type": "stream",
     "text": [
      "  -1.413    0.000    0.101   -1   -0.142\n"
     ]
    },
    {
     "name": "stderr",
     "output_type": "stream",
     "text": [
      "[INFO 05-21 12:54:32] ax.service.ax_client: Generated new trial 10 with parameters {'x1': -5.0, 'x2': 4.13}.\n",
      "[INFO 05-21 12:54:32] ax.service.ax_client: Completed trial 10 with data: {'obj': (-2.96, None)}.\n"
     ]
    },
    {
     "name": "stdout",
     "output_type": "stream",
     "text": [
      "  -5.000    4.127    0.592    0   -2.959\n"
     ]
    },
    {
     "name": "stderr",
     "output_type": "stream",
     "text": [
      "[INFO 05-21 12:54:32] ax.service.ax_client: Generated new trial 11 with parameters {'x1': 10.0, 'x2': 10.0}.\n",
      "[INFO 05-21 12:54:32] ax.service.ax_client: Completed trial 11 with data: {'obj': (3.75, None)}.\n"
     ]
    },
    {
     "name": "stdout",
     "output_type": "stream",
     "text": [
      "  10.000   10.000    0.375    0    3.749\n"
     ]
    },
    {
     "name": "stderr",
     "output_type": "stream",
     "text": [
      "[INFO 05-21 12:54:33] ax.service.ax_client: Generated new trial 12 with parameters {'x1': -5.0, 'x2': 10.0}.\n",
      "[INFO 05-21 12:54:33] ax.service.ax_client: Completed trial 12 with data: {'obj': (-0.49, None)}.\n"
     ]
    },
    {
     "name": "stdout",
     "output_type": "stream",
     "text": [
      "  -5.000   10.000    0.098    0   -0.492\n"
     ]
    },
    {
     "name": "stderr",
     "output_type": "stream",
     "text": [
      "[INFO 05-21 12:54:34] ax.service.ax_client: Generated new trial 13 with parameters {'x1': -5.0, 'x2': 1.5}.\n",
      "[INFO 05-21 12:54:34] ax.service.ax_client: Completed trial 13 with data: {'obj': (-1.61, None)}.\n"
     ]
    },
    {
     "name": "stdout",
     "output_type": "stream",
     "text": [
      "  -5.000    1.497    0.323    0   -1.614\n"
     ]
    },
    {
     "name": "stderr",
     "output_type": "stream",
     "text": [
      "[INFO 05-21 12:54:34] ax.service.ax_client: Generated new trial 14 with parameters {'x1': -3.19, 'x2': 1.85}.\n",
      "[INFO 05-21 12:54:34] ax.service.ax_client: Completed trial 14 with data: {'obj': (-1.35, None)}.\n"
     ]
    },
    {
     "name": "stdout",
     "output_type": "stream",
     "text": [
      "  -3.190    1.852    0.422    0   -1.347\n",
      "{'x1': -4.731228103753359, 'x2': 2.3290876227256465}\n",
      "({'obj': -2.030394736512454}, {'obj': {'obj': 0.9745157913529622}})\n"
     ]
    }
   ],
   "source": [
    "from ax.service.ax_client import AxClient\n",
    "import numpy as np\n",
    "\n",
    "ax_client = AxClient()\n",
    "ax_client.create_experiment(\n",
    "    name=\"test_experiment\",\n",
    "    parameters=[\n",
    "        {\n",
    "            \"name\": \"x1\",\n",
    "            \"type\": \"range\",\n",
    "            \"bounds\": [-5.0, 10.0],\n",
    "            \"value_type\": \"float\",\n",
    "        },\n",
    "        {\n",
    "            \"name\": \"x2\",\n",
    "            \"type\": \"range\",\n",
    "            \"bounds\": [0.0, 10.0],\n",
    "        },\n",
    "    ],\n",
    "    objective_name=\"obj\",\n",
    "    minimize=True,\n",
    ")\n",
    "\n",
    "def f(hyperparameters):\n",
    "    x1 = hyperparameters['x1']\n",
    "    x2 = hyperparameters['x2']\n",
    "    a = np.random.rand()\n",
    "    b = np.random.randint(-1, 2)\n",
    "    v = a * x1 + (1-a) * b * x2\n",
    "    print(f'{x1:8.3f} {x2:8.3f} {a:8.3f} {b:4d} {v:8.3f}')\n",
    "    return v\n",
    "    \n",
    "for _ in range(15):\n",
    "    parameters, trial_index = ax_client.get_next_trial()\n",
    "    v = f(parameters)\n",
    "    ax_client.complete_trial(trial_index=trial_index, raw_data=v)\n",
    "\n",
    "best_parameters, metrics = ax_client.get_best_parameters()\n",
    "print(best_parameters)\n",
    "print(metrics)"
   ]
  }
 ],
 "metadata": {
  "kernelspec": {
   "display_name": "Python 3",
   "language": "python",
   "name": "python3"
  },
  "language_info": {
   "codemirror_mode": {
    "name": "ipython",
    "version": 3
   },
   "file_extension": ".py",
   "mimetype": "text/x-python",
   "name": "python",
   "nbconvert_exporter": "python",
   "pygments_lexer": "ipython3",
   "version": "3.7.4"
  }
 },
 "nbformat": 4,
 "nbformat_minor": 1
}
