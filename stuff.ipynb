{
 "cells": [
  {
   "cell_type": "code",
   "execution_count": 18,
   "outputs": [
    {
     "data": {
      "text/plain": "[<matplotlib.lines.Line2D at 0x7fa22f011ba8>]"
     },
     "metadata": {},
     "output_type": "execute_result",
     "execution_count": 18
    },
    {
     "data": {
      "text/plain": "<Figure size 432x288 with 1 Axes>",
      "image/png": "[encoded data removed]"
     },
     "metadata": {
      "needs_background": "light"
     },
     "output_type": "display_data"
    }
   ],
   "source": [],
   "metadata": {
    "collapsed": false,
    "pycharm": {
     "name": "#%% Random stuff\n",
     "is_executing": false
    }
   }
  },
  {
   "cell_type": "code",
   "execution_count": 1,
   "outputs": [],
   "source": [
    "import numpy as np\n",
    "import json\n",
    "\n",
    "with open('data/HICO/HAKE/Part_State_76.txt', 'r') as f:\n",
    "    lines = f.readlines()\n",
    "part_labels = [l.strip() for l in lines]\n",
    "part_action_pairs = []\n",
    "part_action_dict = {}\n",
    "for l in lines:\n",
    "    pa_pair = [x.strip() for x in l.split(':')]\n",
    "    part, action = pa_pair\n",
    "    part_action_pairs.append(pa_pair)\n",
    "    part_action_dict.setdefault(part, []).append(action)\n",
    "actions = sorted({v for vs in part_action_dict.values() for v in vs})\n",
    "parts = sorted(part_action_dict.keys())\n",
    "\n",
    "hico_parts_train = json.load(open('data/HICO/HAKE/train.json', 'r'))\n"
   ],
   "metadata": {
    "collapsed": false,
    "pycharm": {
     "name": "#%% HAKE\n",
     "is_executing": false
    }
   }
  },
  {
   "cell_type": "code",
   "execution_count": 1,
   "outputs": [
    {
     "name": "stdout",
     "text": [
      "[[ 55 108]\n [ 57  71]\n [ 66  67]\n [ 67  66]\n [ 71  57]\n [ 86  87]\n [ 86  93]\n [ 86  97]\n [ 87  86]\n [ 87  93]\n [ 87  94]\n [ 87 101]\n [ 87 103]\n [ 87 109]\n [ 93  86]\n [ 93  87]\n [ 93  94]\n [ 93 101]\n [ 93 103]\n [ 93 109]\n [ 94  87]\n [ 94  93]\n [ 97  86]\n [101  87]\n [101  93]\n [101 103]\n [101 109]\n [103  87]\n [103  93]\n [103 101]\n [103 109]\n [108  55]\n [109  87]\n [109  93]\n [109 101]\n [109 103]]\n"
     ],
     "output_type": "stream"
    }
   ],
   "source": [
    "import numpy as np\n",
    "import pickle\n",
    "\n",
    "embs = pickle.load(open('cache/glove_300_act_norm-avg.pkl', 'rb'))\n",
    "sim = embs @ embs.T\n",
    "out = np.array([7, 17, 21, 25, 38, 50])\n",
    "\n",
    "x, y = np.where(sim - np.eye(sim.shape[0]) >= 0.6)\n",
    "\n",
    "inds = sorted({i for i, n in enumerate(x) if n not in out} &\n",
    "              {i for i, n in enumerate(y) if n not in out})\n",
    "x = x[inds]\n",
    "y = y[inds]\n",
    "print(np.stack([x, y], axis=1))\n",
    "        "
   ],
   "metadata": {
    "collapsed": false,
    "pycharm": {
     "name": "#%% Embedding similarity\n",
     "is_executing": false
    }
   }
  },
  {
   "cell_type": "code",
   "execution_count": 17,
   "outputs": [
    {
     "name": "stdout",
     "text": [
      "tensor([[0., 1.],\n        [2., 3.],\n        [4., 5.]], requires_grad=True)\ntensor([[ 0.,  1.],\n        [ 4.,  9.],\n        [16., 25.]], grad_fn=<PowBackward0>)\ntensor([[ 0.,  2.],\n        [ 4.,  6.],\n        [ 8., 10.]])\n\ntensor([[0., 1.],\n        [2., 3.],\n        [4., 5.]], requires_grad=True)\ntensor([[   0.,    1.],\n        [   4., 2342.],\n        [  16.,   25.]], grad_fn=<CopySlices>)\ntensor([[ 0.,  2.],\n        [ 4.,  0.],\n        [ 8., 10.]])\n\ntensor([[0., 1.],\n        [2., 3.],\n        [4., 5.]], requires_grad=True)\ntensor([[ 0.,  1.],\n        [ 4.,  0.],\n        [16., 25.]], grad_fn=<CopySlices>)\ntensor([[ 0.,  2.],\n        [ 4.,  6.],\n        [ 8., 10.]])\n"
     ],
     "output_type": "stream"
    }
   ],
   "source": [
    "import numpy as np\n",
    "import torch\n",
    "x = torch.tensor(torch.from_numpy(np.arange(6).reshape(3, 2)).float(),requires_grad=True)\n",
    "y = x**2\n",
    "z = y.sum()\n",
    "z.backward()\n",
    "print(x) \n",
    "print(y) \n",
    "print(x.grad)\n",
    "\n",
    "print()\n",
    "x = torch.tensor(torch.from_numpy(np.arange(6).reshape(3, 2)).float(),requires_grad=True)\n",
    "y = x**2\n",
    "y[1, 1] = 2342\n",
    "z = y.sum()\n",
    "z.backward()\n",
    "print(x) \n",
    "print(y) \n",
    "print(x.grad) \n",
    "\n",
    "print()\n",
    "x = torch.tensor(torch.from_numpy(np.arange(6).reshape(3, 2)).float(),requires_grad=True)\n",
    "y = x**2\n",
    "y[1, 1] -= 9\n",
    "z = y.sum()\n",
    "z.backward()\n",
    "print(x) \n",
    "print(y) \n",
    "print(x.grad) "
   ],
   "metadata": {
    "collapsed": false,
    "pycharm": {
     "name": "#%% Pytorch 0 loss\n",
     "is_executing": false
    }
   }
  },
  {
   "cell_type": "code",
   "execution_count": 16,
   "outputs": [
    {
     "name": "stdout",
     "text": [
      "tensor(1, dtype=torch.uint8)\nFalse True True\ntensor([[0., 1.],\n        [2., 3.],\n        [4., 5.],\n        [6., 7.],\n        [8., 9.]], requires_grad=True)\ntensor([[0., 1.],\n        [2., 3.],\n        [4., 5.],\n        [6., 7.],\n        [8., 9.]], grad_fn=<TakeBackward>)\ntensor([[ 0.,  1.],\n        [ 4.,  9.],\n        [16., 25.],\n        [36., 49.],\n        [64., 81.]], grad_fn=<PowBackward0>)\nNone\nNone\nNone\nNone\ntensor([[ 0.,  0.],\n        [ 4.,  6.],\n        [ 8., 10.],\n        [ 0.,  0.],\n        [ 0.,  0.]])\n"
     ],
     "output_type": "stream"
    }
   ],
   "source": [
    "import numpy as np\n",
    "import torch\n",
    "n = 5\n",
    "x0 = torch.tensor(torch.from_numpy(np.arange(n*2).reshape(n, 2)).float(),requires_grad=True)\n",
    "a_inds = torch.from_numpy(np.array([0, 3, 4]))\n",
    "b_inds = torch.from_numpy(np.array([i for i in range(n) if i not in a_inds]))\n",
    "a = x0[a_inds, :].detach()\n",
    "b = x0[b_inds, :]\n",
    "x = torch.cat([a, b], dim=0)[torch.sort(torch.cat([a_inds, b_inds]))[1]]\n",
    "print((x0 == x).all())\n",
    "y = x**2\n",
    "z = y.sum()\n",
    "z.backward()\n",
    "print(a.requires_grad, b.requires_grad, x.requires_grad)\n",
    "print(x0) \n",
    "print(x) \n",
    "print(y) \n",
    "print(y.grad)\n",
    "print(x.grad)\n",
    "print(a.grad)\n",
    "print(b.grad)\n",
    "print(x0.grad)"
   ],
   "metadata": {
    "collapsed": false,
    "pycharm": {
     "name": "#%% Pytorch grad of concatenation of grad-requiring tensor with detached one\n",
     "is_executing": false
    }
   }
  },
  {
   "cell_type": "code",
   "execution_count": 32,
   "metadata": {
    "collapsed": true,
    "pycharm": {
     "is_executing": false,
     "name": "#%% LIS\n"
    }
   },
   "outputs": [
    {
     "data": {
      "text/plain": "<Figure size 432x288 with 1 Axes>",
      "image/png": "[encoded data removed]"
     },
     "metadata": {
      "needs_background": "light"
     },
     "output_type": "display_data"
    }
   ],
   "source": [
    "import numpy as np\n",
    "from matplotlib import pyplot as plt\n",
    "\n",
    "n = 100\n",
    "x = np.arange(n + 1) / n\n",
    "\n",
    "w, k = 30, 18\n",
    "T = 1 + np.exp(k - w).item()\n",
    "y = T / (1 + np.exp(-(w * x - k)))\n",
    "\n",
    "plt.plot(x, y)\n",
    "plt.grid()\n",
    "plt.show()\n"
   ]
  },
  {
   "cell_type": "code",
   "execution_count": 1,
   "outputs": [
    {
     "name": "stdout",
     "text": [
      "['tench', 'Tinca tinca']\n['goldfish', 'Carassius auratus']\n['ear', 'spike', 'capitulum']\n['toilet tissue', 'toilet paper', 'bathroom tissue']\n",
      "{0: '__background__', 1: 'person', 2: 'bicycle', 3: 'car', 4: 'motorcycle', 5: 'airplane', 6: 'bus', 7: 'train', 8: 'truck', 9: 'boat', 10: 'traffic light', 11: 'fire hydrant', 12: 'stop sign', 13: 'parking meter', 14: 'bench', 15: 'bird', 16: 'cat', 17: 'dog', 18: 'horse', 19: 'sheep', 20: 'cow', 21: 'elephant', 22: 'bear', 23: 'zebra', 24: 'giraffe', 25: 'backpack', 26: 'umbrella', 27: 'handbag', 28: 'tie', 29: 'suitcase', 30: 'frisbee', 31: 'skis', 32: 'snowboard', 33: 'sports ball', 34: 'kite', 35: 'baseball bat', 36: 'baseball glove', 37: 'skateboard', 38: 'surfboard', 39: 'tennis racket', 40: 'bottle', 41: 'wine glass', 42: 'cup', 43: 'fork', 44: 'knife', 45: 'spoon', 46: 'bowl', 47: 'banana', 48: 'apple', 49: 'sandwich', 50: 'orange', 51: 'broccoli', 52: 'carrot', 53: 'hot dog', 54: 'pizza', 55: 'donut', 56: 'cake', 57: 'chair', 58: 'couch', 59: 'potted plant', 60: 'bed', 61: 'dining table', 62: 'toilet', 63: 'tv', 64: 'laptop', 65: 'mouse', 66: 'remote', 67: 'keyboard', 68: 'cell phone', 69: 'microwave', 70: 'oven', 71: 'toaster', 72: 'sink', 73: 'refrigerator', 74: 'book', 75: 'clock', 76: 'vase', 77: 'scissors', 78: 'teddy bear', 79: 'hair drier', 80: 'toothbrush'}\n22\n"
     ],
     "output_type": "stream"
    }
   ],
   "source": [
    "with open('imagenet1000classes.txt', 'r') as f:\n",
    "    inet_categories = [' '.join(l.strip('{}, \\n').split()[1:]).strip(\"'\").split(', ') \n",
    "               for l in f.readlines()]\n",
    "print(inet_categories[0])\n",
    "print(inet_categories[1])\n",
    "print(inet_categories[-2])\n",
    "print(inet_categories[-1])\n",
    "\n",
    "from lib.detection.wrappers import COCO_CLASSES\n",
    "print(COCO_CLASSES)\n",
    "\n",
    "common = set(COCO_CLASSES.values()) & {c for cat in inet_categories for c in cat}\n",
    "print(len(common))   \n"
   ],
   "metadata": {
    "collapsed": false,
    "pycharm": {
     "name": "#%% Imagenet vs COCO classes\n",
     "is_executing": false
    }
   }
  },
  {
   "cell_type": "code",
   "execution_count": null,
   "outputs": [],
   "source": [
    "import pickle\n",
    "import numpy as np\n",
    "to_filter = [19, 25, 117, 144, 151, 152, 154, 163, 167, \n",
    "             190, 245, 258, 307, 326, 347, 366, 400, \n",
    "             433, 434, 466, 471, 476, 479, 523, 598]\n",
    "keep = set(range(600)) - set(to_filter)\n",
    "d = {'train': {'inter': np.array(sorted(keep))\n",
    "               }\n",
    "     }\n",
    "with open('zero-shot_inds/seen_inds_2.pkl.push', 'wb') as f:\n",
    "    pickle.dump(d, f)\n",
    "    \n",
    "    "
   ],
   "metadata": {
    "collapsed": false,
    "pycharm": {
     "name": "#%% Seen file #2 (inter only)\n"
    }
   }
  },
  {
   "cell_type": "code",
   "execution_count": 7,
   "outputs": [
    {
     "name": "stdout",
     "text": [
      "22\n"
     ],
     "output_type": "stream"
    }
   ],
   "source": [
    "import pickle\n",
    "import numpy as np\n",
    "from lib.dataset.hico.hico import Hico\n",
    "\n",
    "hico = Hico()\n",
    "num_seen_obj = 40 \n",
    "num_seen_act = 59 \n",
    "\n",
    "with open('imagenet1000classes.txt', 'r') as f:\n",
    "    inet_categories = [' '.join(l.strip('{}, \\n').split()[1:]).strip(\"'\").split(', ') \n",
    "                       for l in f.readlines()]\n",
    "    inet_classes = {c for cat in inet_categories for c in cat}\n",
    "\n",
    "hico_objects = [obj.replace('_', ' ') for obj in hico.objects]\n",
    "common_str = set(hico_objects) & inet_classes\n",
    "common = {i for i, n in enumerate(hico_objects) if n in common_str}\n",
    "print(len(common))\n",
    "hico_only = set(range(hico.num_object_classes)) - common - {hico.human_class}\n",
    "\n",
    "all_num_inters = []\n",
    "all_data = []\n",
    "for i in range(10**5):\n",
    "    np.random.seed(i)\n",
    "    seen_obj = np.random.choice(np.array(list(hico_only)), \n",
    "                                size=num_seen_obj - len(common) - 1, replace=False)\n",
    "    seen_obj = np.sort(np.concatenate([seen_obj, np.array([hico.human_class]), np.array(list(common))]))\n",
    "    assert hico.human_class in seen_obj\n",
    "    \n",
    "    seen_act = np.random.choice(np.arange(1, hico.num_predicates), size=num_seen_act - 1, replace=False)\n",
    "    seen_act = np.sort(np.concatenate([np.array([0]), seen_act]))\n",
    "    \n",
    "    num_inters = (hico.op_pair_to_interaction[seen_obj, :][:, seen_act] >= 0).sum()\n",
    "    all_num_inters.append(num_inters)\n",
    "    all_data.append([seen_obj, seen_act])\n",
    "\n",
    "m = np.argmax(np.array(all_num_inters))\n",
    "num_inters = all_num_inters[m]\n",
    "seen_obj, seen_act = all_data[m]\n",
    "u_seen_obj = np.unique(seen_obj)\n",
    "u_seen_act = np.unique(seen_act)\n",
    "assert seen_obj.size == num_seen_obj and seen_act.size == num_seen_act\n",
    "assert u_seen_obj.size == num_seen_obj and u_seen_act.size == num_seen_act\n",
    "d = {'train': {'obj': seen_obj, 'pred':seen_act}}\n",
    "with open('zero-shot_inds/seen_inds_3.pkl.push', 'wb') as f:\n",
    "    pickle.dump(d, f)\n"
   ],
   "metadata": {
    "collapsed": false,
    "pycharm": {
     "name": "#%% Seen file #3 (obj/pred)\n",
     "is_executing": false
    }
   }
  },
  {
   "cell_type": "code",
   "execution_count": 33,
   "outputs": [
    {
     "name": "stdout",
     "text": [
      "22\n"
     ],
     "output_type": "stream"
    }
   ],
   "source": [
    "import pickle\n",
    "import numpy as np\n",
    "from lib.dataset.hico.hico import Hico\n",
    "\n",
    "hico = Hico()\n",
    "num_seen_obj = 40 \n",
    "num_seen_act = 59 \n",
    "\n",
    "with open('imagenet1000classes.txt', 'r') as f:\n",
    "    inet_categories = [' '.join(l.strip('{}, \\n').split()[1:]).strip(\"'\").split(', ') \n",
    "                       for l in f.readlines()]\n",
    "    inet_classes = {c for cat in inet_categories for c in cat}\n",
    "\n",
    "hico_objects = [obj.replace('_', ' ') for obj in hico.objects]\n",
    "common_str = set(hico_objects) & inet_classes\n",
    "common = {i for i, n in enumerate(hico_objects) if n in common_str}\n",
    "print(len(common))\n",
    "hico_only = set(range(hico.num_object_classes)) - common - {hico.human_class}\n",
    "\n",
    "np.random.seed(42)\n",
    "seen_obj = np.random.choice(np.array(list(hico_only)), \n",
    "                            size=num_seen_obj - len(common) - 1, replace=False)\n",
    "seen_obj = np.sort(np.concatenate([seen_obj, np.array([hico.human_class]), np.array(list(common))]))\n",
    "assert hico.human_class in seen_obj\n",
    "\n",
    "seen_act = np.random.choice(np.arange(1, hico.num_predicates), size=num_seen_act - 1, replace=False)\n",
    "seen_act = np.sort(np.concatenate([np.array([0]), seen_act]))\n",
    "\n",
    "u_seen_obj = np.unique(seen_obj)\n",
    "u_seen_act = np.unique(seen_act)\n",
    "assert seen_obj.size == num_seen_obj and seen_act.size == num_seen_act\n",
    "assert u_seen_obj.size == num_seen_obj and u_seen_act.size == num_seen_act\n",
    "d = {'train': {'obj': seen_obj, 'pred':seen_act}}\n",
    "with open('zero-shot_inds/seen_inds_4.pkl.push', 'wb') as f:\n",
    "    pickle.dump(d, f)\n"
   ],
   "metadata": {
    "collapsed": false,
    "pycharm": {
     "name": "#%% Seen file #4 (obj/pred)\n",
     "is_executing": false
    }
   }
  },
  {
   "cell_type": "code",
   "execution_count": 35,
   "outputs": [
    {
     "name": "stdout",
     "text": [
      "22\n"
     ],
     "output_type": "stream"
    }
   ],
   "source": [
    "import pickle\n",
    "import numpy as np\n",
    "from lib.dataset.hico.hico import Hico\n",
    "\n",
    "hico = Hico()\n",
    "num_seen_obj = 40 \n",
    "num_seen_act = 59 \n",
    "\n",
    "with open('imagenet1000classes.txt', 'r') as f:\n",
    "    inet_categories = [' '.join(l.strip('{}, \\n').split()[1:]).strip(\"'\").split(', ') \n",
    "                       for l in f.readlines()]\n",
    "    inet_classes = {c for cat in inet_categories for c in cat}\n",
    "\n",
    "hico_objects = [obj.replace('_', ' ') for obj in hico.objects]\n",
    "common_str = set(hico_objects) & inet_classes\n",
    "common = {i for i, n in enumerate(hico_objects) if n in common_str}\n",
    "print(len(common))\n",
    "hico_only = set(range(hico.num_object_classes)) - common - {hico.human_class}\n",
    "\n",
    "all_num_inters = []\n",
    "all_data = []\n",
    "for i in range(10**5):\n",
    "    np.random.seed(i)\n",
    "    seen_obj = np.random.choice(np.array(list(hico_only)), \n",
    "                                size=num_seen_obj - len(common) - 1, replace=False)\n",
    "    seen_obj = np.sort(np.concatenate([seen_obj, np.array([hico.human_class]), np.array(list(common))]))\n",
    "    assert hico.human_class in seen_obj\n",
    "    \n",
    "    seen_act = np.random.choice(np.arange(1, hico.num_predicates), size=num_seen_act - 1, replace=False)\n",
    "    seen_act = np.sort(np.concatenate([np.array([0]), seen_act]))\n",
    "    \n",
    "    num_inters = (hico.op_pair_to_interaction[seen_obj, :][:, seen_act] >= 0).sum()\n",
    "    all_num_inters.append(num_inters)\n",
    "    all_data.append([seen_obj, seen_act])\n",
    "\n",
    "m = np.argmin(np.array(all_num_inters))\n",
    "num_inters = all_num_inters[m]\n",
    "seen_obj, seen_act = all_data[m]\n",
    "u_seen_obj = np.unique(seen_obj)\n",
    "u_seen_act = np.unique(seen_act)\n",
    "assert seen_obj.size == num_seen_obj and seen_act.size == num_seen_act\n",
    "assert u_seen_obj.size == num_seen_obj and u_seen_act.size == num_seen_act\n",
    "d = {'train': {'obj': seen_obj, 'pred':seen_act}}\n",
    "with open('zero-shot_inds/seen_inds_5.pkl.push', 'wb') as f:\n",
    "    pickle.dump(d, f)"
   ],
   "metadata": {
    "collapsed": false,
    "pycharm": {
     "name": "#%% Seen file #5 (obj/pred)\n",
     "is_executing": false
    }
   }
  },
  {
   "cell_type": "code",
   "execution_count": 7,
   "outputs": [
    {
     "name": "stdout",
     "text": [
      "49 54 205\n80 520 205 156\n232.828125\n",
      "198.9375\n"
     ],
     "output_type": "stream"
    }
   ],
   "source": [
    "import pickle\n",
    "from lib.dataset.hico import Hico\n",
    "from lib.dataset.utils import Splits\n",
    "import numpy as np\n",
    "\n",
    "fnum = 0\n",
    "d = pickle.load(open(f'zero-shot_inds/seen_inds_{fnum}.pkl.push', 'rb'))\n",
    "pinds = d['train']['act']\n",
    "oinds = d['train']['obj']\n",
    "\n",
    "hd = Hico()\n",
    "print(len(oinds), len(pinds), \n",
    "      (hd.op_pair_to_interaction[oinds, :][:, pinds] >= 0).sum())\n",
    "\n",
    "null_interactions = np.array(sorted(set(\n",
    "    np.unique((hd.op_pair_to_interaction[:, 0])).tolist()) - {-1}))\n",
    "non_null_interactions = np.array(sorted(set(\n",
    "    np.unique((hd.op_pair_to_interaction[:, 1:])).tolist()) - {-1}))\n",
    "tr_interactions = np.array(sorted(set(\n",
    "    np.unique((hd.op_pair_to_interaction[oinds, :][:, pinds])).tolist()) - {-1}))\n",
    "tr_non_null_interactions = np.intersect1d(non_null_interactions, tr_interactions)\n",
    "\n",
    "print(null_interactions.size, non_null_interactions.size, tr_interactions.size, tr_non_null_interactions.size)\n",
    "\n",
    "print(np.sum(np.any(hd.split_annotations[Splits.TRAIN][:, tr_interactions], axis=1)) / 64)\n",
    "print(np.sum(np.any(hd.split_annotations[Splits.TRAIN][:, tr_non_null_interactions], axis=1)) / 64)\n"
   ],
   "metadata": {
    "collapsed": false,
    "pycharm": {
     "name": "#%% Number seen (obj/pred)\n",
     "is_executing": false
    }
   }
  },
  {
   "cell_type": "code",
   "execution_count": 5,
   "outputs": [
    {
     "name": "stdout",
     "text": [
      "A young woman is seen standing in a room and leads into her dancing.\n[1.86528073 1.86528073]\n"
     ],
     "output_type": "stream"
    }
   ],
   "source": [
    "import json\n",
    "d = json.load(open('data/VideoCaptions/train.json', 'r'))\n",
    "captions = [s for v in d.values() for s in v['sentences']]\n",
    "print(captions[0])\n",
    " "
   ],
   "metadata": {
    "collapsed": false,
    "pycharm": {
     "name": "#%% VideoCaptions dataset captions\n",
     "is_executing": false
    }
   }
  },
  {
   "cell_type": "code",
   "execution_count": 9,
   "outputs": [
    {
     "name": "stdout",
     "text": [
      "10799\n4251\n15050\n"
     ],
     "output_type": "stream"
    }
   ],
   "source": [
    "with open('data/VG/Kato/VG_train_1A2B.csv', 'r') as f:\n",
    "    tr_fns = {l.strip().split(',')[0] for l in f.readlines() if l.strip()}\n",
    "\n",
    "with open('data/VG/Kato/VG_test.csv', 'r') as f:\n",
    "    te_fns = {l.strip().split(',')[0] for l in f.readlines() if l.strip()}\n",
    "\n",
    "print(len(tr_fns))\n",
    "print(len(te_fns))\n",
    "print(len(tr_fns | te_fns))"
   ],
   "metadata": {
    "collapsed": false,
    "pycharm": {
     "name": "#%%\n",
     "is_executing": false
    }
   }
  }
 ],
 "metadata": {
  "language_info": {
   "codemirror_mode": {
    "name": "ipython",
    "version": 2
   },
   "file_extension": ".py",
   "mimetype": "text/x-python",
   "name": "python",
   "nbconvert_exporter": "python",
   "pygments_lexer": "ipython2",
   "version": "2.7.6"
  },
  "kernelspec": {
   "name": "python3",
   "language": "python",
   "display_name": "Python 3"
  },
  "pycharm": {
   "stem_cell": {
    "cell_type": "raw",
    "source": [],
    "metadata": {
     "collapsed": false
    }
   }
  }
 },
 "nbformat": 4,
 "nbformat_minor": 0
}