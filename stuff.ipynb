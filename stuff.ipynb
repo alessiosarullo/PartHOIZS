{
 "cells": [
  {
   "cell_type": "code",
   "execution_count": 5,
   "outputs": [
    {
     "name": "stdout",
     "text": [
      "[5, 4] ['1212', '23', '1234'] None\n[5, 4] ['1212', '23', '1234'] None\n"
     ],
     "output_type": "stream"
    }
   ],
   "source": [
    "from collections import namedtuple\n",
    "\n",
    "def f():\n",
    "    mb = namedtuple('Minibatch', ['img_attrs', 'person_attrs', 'obj_attrs'])\n",
    "    return mb(img_attrs=[5, 4], person_attrs=['1212', '23', '1234'], obj_attrs=None)\n",
    "\n",
    "a = f()\n",
    "b, c, d = a\n",
    "print(b, c, d)\n",
    "print(a.img_attrs, a.person_attrs, a.obj_attrs)\n",
    "\n",
    "# import numpy as np\n",
    "# from matplotlib import pyplot as plt\n",
    "# \n",
    "# n = 50\n",
    "# x = np.arange(n + 1)\n",
    "# y = 1 - 1/np.maximum(1, x)\n",
    "# \n",
    "# plt.plot(x, y)\n",
    "# plt.grid()\n",
    "# plt.show()"
   ],
   "metadata": {
    "collapsed": false,
    "pycharm": {
     "name": "#%% Random stuff\n",
     "is_executing": false
    }
   }
  },
  {
   "cell_type": "code",
   "execution_count": 1,
   "outputs": [],
   "source": [
    "import json\n",
    "\n",
    "with open('data/HICO/HAKE/Part_State_76.txt', 'r') as f:\n",
    "    lines = f.readlines()\n",
    "part_labels = [l.strip() for l in lines]\n",
    "part_action_pairs = []\n",
    "part_action_dict = {}\n",
    "for l in lines:\n",
    "    pa_pair = [x.strip() for x in l.split(':')]\n",
    "    part, action = pa_pair\n",
    "    part_action_pairs.append(pa_pair)\n",
    "    part_action_dict.setdefault(part, []).append(action)\n",
    "actions = sorted({v for vs in part_action_dict.values() for v in vs})\n",
    "parts = sorted(part_action_dict.keys())\n",
    "\n",
    "hico_parts_train = json.load(open('data/HICO/HAKE/train.json', 'r'))\n"
   ],
   "metadata": {
    "collapsed": false,
    "pycharm": {
     "name": "#%% HAKE\n",
     "is_executing": false
    }
   }
  },
  {
   "cell_type": "code",
   "execution_count": 1,
   "outputs": [
    {
     "name": "stdout",
     "text": [
      "[[ 55 108]\n [ 57  71]\n [ 66  67]\n [ 67  66]\n [ 71  57]\n [ 86  87]\n [ 86  93]\n [ 86  97]\n [ 87  86]\n [ 87  93]\n [ 87  94]\n [ 87 101]\n [ 87 103]\n [ 87 109]\n [ 93  86]\n [ 93  87]\n [ 93  94]\n [ 93 101]\n [ 93 103]\n [ 93 109]\n [ 94  87]\n [ 94  93]\n [ 97  86]\n [101  87]\n [101  93]\n [101 103]\n [101 109]\n [103  87]\n [103  93]\n [103 101]\n [103 109]\n [108  55]\n [109  87]\n [109  93]\n [109 101]\n [109 103]]\n"
     ],
     "output_type": "stream"
    }
   ],
   "source": [
    "import numpy as np\n",
    "import pickle\n",
    "\n",
    "embs = pickle.load(open('cache/glove_300_act_norm-avg.pkl', 'rb'))\n",
    "sim = embs @ embs.T\n",
    "out = np.array([7, 17, 21, 25, 38, 50])\n",
    "\n",
    "x, y = np.where(sim - np.eye(sim.shape[0]) >= 0.6)\n",
    "\n",
    "inds = sorted({i for i, n in enumerate(x) if n not in out} &\n",
    "              {i for i, n in enumerate(y) if n not in out})\n",
    "x = x[inds]\n",
    "y = y[inds]\n",
    "print(np.stack([x, y], axis=1))\n",
    "        "
   ],
   "metadata": {
    "collapsed": false,
    "pycharm": {
     "name": "#%% Embedding similarity\n",
     "is_executing": false
    }
   }
  },
  {
   "cell_type": "code",
   "execution_count": 17,
   "outputs": [
    {
     "name": "stdout",
     "text": [
      "tensor([[0., 1.],\n        [2., 3.],\n        [4., 5.]], requires_grad=True)\ntensor([[ 0.,  1.],\n        [ 4.,  9.],\n        [16., 25.]], grad_fn=<PowBackward0>)\ntensor([[ 0.,  2.],\n        [ 4.,  6.],\n        [ 8., 10.]])\n\ntensor([[0., 1.],\n        [2., 3.],\n        [4., 5.]], requires_grad=True)\ntensor([[   0.,    1.],\n        [   4., 2342.],\n        [  16.,   25.]], grad_fn=<CopySlices>)\ntensor([[ 0.,  2.],\n        [ 4.,  0.],\n        [ 8., 10.]])\n\ntensor([[0., 1.],\n        [2., 3.],\n        [4., 5.]], requires_grad=True)\ntensor([[ 0.,  1.],\n        [ 4.,  0.],\n        [16., 25.]], grad_fn=<CopySlices>)\ntensor([[ 0.,  2.],\n        [ 4.,  6.],\n        [ 8., 10.]])\n"
     ],
     "output_type": "stream"
    }
   ],
   "source": [
    "import numpy as np\n",
    "import torch\n",
    "x = torch.tensor(torch.from_numpy(np.arange(6).reshape(3, 2)).float(),requires_grad=True)\n",
    "y = x**2\n",
    "z = y.sum()\n",
    "z.backward()\n",
    "print(x) \n",
    "print(y) \n",
    "print(x.grad)\n",
    "\n",
    "print()\n",
    "x = torch.tensor(torch.from_numpy(np.arange(6).reshape(3, 2)).float(),requires_grad=True)\n",
    "y = x**2\n",
    "y[1, 1] = 2342\n",
    "z = y.sum()\n",
    "z.backward()\n",
    "print(x) \n",
    "print(y) \n",
    "print(x.grad) \n",
    "\n",
    "print()\n",
    "x = torch.tensor(torch.from_numpy(np.arange(6).reshape(3, 2)).float(),requires_grad=True)\n",
    "y = x**2\n",
    "y[1, 1] -= 9\n",
    "z = y.sum()\n",
    "z.backward()\n",
    "print(x) \n",
    "print(y) \n",
    "print(x.grad) "
   ],
   "metadata": {
    "collapsed": false,
    "pycharm": {
     "name": "#%% Pytorch 0 loss\n",
     "is_executing": false
    }
   }
  },
  {
   "cell_type": "code",
   "execution_count": 10,
   "outputs": [
    {
     "name": "stdout",
     "text": [
      "tensor(1, dtype=torch.uint8)\n",
      "False True True\n",
      "tensor([[0., 1.],\n",
      "        [2., 3.],\n",
      "        [4., 5.],\n",
      "        [6., 7.],\n",
      "        [8., 9.]], requires_grad=True)\n",
      "tensor([[0., 1.],\n",
      "        [2., 3.],\n",
      "        [4., 5.],\n",
      "        [6., 7.],\n",
      "        [8., 9.]], grad_fn=<TakeBackward>)\n",
      "tensor([[ 0.,  1.],\n",
      "        [ 4.,  9.],\n",
      "        [16., 25.],\n",
      "        [36., 49.],\n",
      "        [64., 81.]], grad_fn=<PowBackward0>)\n",
      "None\n",
      "None\n",
      "None\n",
      "None\n",
      "tensor([[ 0.,  0.],\n",
      "        [ 4.,  6.],\n",
      "        [ 8., 10.],\n",
      "        [ 0.,  0.],\n",
      "        [ 0.,  0.]])\n"
     ],
     "output_type": "stream"
    }
   ],
   "source": [
    "import numpy as np\n",
    "import torch\n",
    "n = 5\n",
    "x0 = torch.tensor(torch.from_numpy(np.arange(n*2).reshape(n, 2)).float(),requires_grad=True)\n",
    "a_inds = torch.from_numpy(np.array([0, 3, 4]))\n",
    "b_inds = torch.from_numpy(np.array([i for i in range(n) if i not in a_inds]))\n",
    "a = x0[a_inds, :].detach()\n",
    "b = x0[b_inds, :]\n",
    "x = torch.cat([a, b], dim=0)[torch.sort(torch.cat([a_inds, b_inds]))[1]]\n",
    "print((x0 == x).all())\n",
    "y = x**2\n",
    "z = y.sum()\n",
    "z.backward()\n",
    "print(a.requires_grad, b.requires_grad, x.requires_grad)\n",
    "print(x0) \n",
    "print(x) \n",
    "print(y) \n",
    "print(y.grad)\n",
    "print(x.grad)\n",
    "print(a.grad)\n",
    "print(b.grad)\n",
    "print(x0.grad)"
   ],
   "metadata": {
    "collapsed": false,
    "pycharm": {
     "name": "#%% Pytorch grad of concatenation of grad-requiring tensor with detached one\n",
     "is_executing": false
    }
   }
  },
  {
   "cell_type": "code",
   "execution_count": 21,
   "metadata": {
    "collapsed": true,
    "pycharm": {
     "is_executing": false,
     "name": "#%% LIS\n"
    }
   },
   "outputs": [
    {
     "data": {
      "text/plain": "<Figure size 432x288 with 1 Axes>",
      "image/png": "[encoded data removed]"
     },
     "metadata": {
      "needs_background": "light"
     },
     "output_type": "display_data"
    }
   ],
   "source": [
    "import numpy as np\n",
    "from matplotlib import pyplot as plt\n",
    "\n",
    "n = 100\n",
    "x = np.arange(n + 1) / n\n",
    "\n",
    "w, k = 96, 10\n",
    "T = 1 + np.exp(k - w).item()\n",
    "y = T / (1 + np.exp(-(w * x - k)))\n",
    "\n",
    "plt.plot(x, y)\n",
    "plt.gca().set_xticks(np.arange(11) / 10)\n",
    "plt.grid()\n",
    "plt.show()\n"
   ]
  },
  {
   "cell_type": "code",
   "execution_count": 1,
   "outputs": [
    {
     "name": "stdout",
     "text": [
      "['tench', 'Tinca tinca']\n['goldfish', 'Carassius auratus']\n['ear', 'spike', 'capitulum']\n['toilet tissue', 'toilet paper', 'bathroom tissue']\n",
      "{0: '__background__', 1: 'person', 2: 'bicycle', 3: 'car', 4: 'motorcycle', 5: 'airplane', 6: 'bus', 7: 'train', 8: 'truck', 9: 'boat', 10: 'traffic light', 11: 'fire hydrant', 12: 'stop sign', 13: 'parking meter', 14: 'bench', 15: 'bird', 16: 'cat', 17: 'dog', 18: 'horse', 19: 'sheep', 20: 'cow', 21: 'elephant', 22: 'bear', 23: 'zebra', 24: 'giraffe', 25: 'backpack', 26: 'umbrella', 27: 'handbag', 28: 'tie', 29: 'suitcase', 30: 'frisbee', 31: 'skis', 32: 'snowboard', 33: 'sports ball', 34: 'kite', 35: 'baseball bat', 36: 'baseball glove', 37: 'skateboard', 38: 'surfboard', 39: 'tennis racket', 40: 'bottle', 41: 'wine glass', 42: 'cup', 43: 'fork', 44: 'knife', 45: 'spoon', 46: 'bowl', 47: 'banana', 48: 'apple', 49: 'sandwich', 50: 'orange', 51: 'broccoli', 52: 'carrot', 53: 'hot dog', 54: 'pizza', 55: 'donut', 56: 'cake', 57: 'chair', 58: 'couch', 59: 'potted plant', 60: 'bed', 61: 'dining table', 62: 'toilet', 63: 'tv', 64: 'laptop', 65: 'mouse', 66: 'remote', 67: 'keyboard', 68: 'cell phone', 69: 'microwave', 70: 'oven', 71: 'toaster', 72: 'sink', 73: 'refrigerator', 74: 'book', 75: 'clock', 76: 'vase', 77: 'scissors', 78: 'teddy bear', 79: 'hair drier', 80: 'toothbrush'}\n22\n"
     ],
     "output_type": "stream"
    }
   ],
   "source": [
    "with open('imagenet1000classes.txt', 'r') as f:\n",
    "    inet_categories = [' '.join(l.strip('{}, \\n').split()[1:]).strip(\"'\").split(', ') \n",
    "               for l in f.readlines()]\n",
    "print(inet_categories[0])\n",
    "print(inet_categories[1])\n",
    "print(inet_categories[-2])\n",
    "print(inet_categories[-1])\n",
    "\n",
    "from lib.detection.wrappers import COCO_CLASSES\n",
    "print(COCO_CLASSES)\n",
    "\n",
    "common = set(COCO_CLASSES.values()) & {c for cat in inet_categories for c in cat}\n",
    "print(len(common))   \n"
   ],
   "metadata": {
    "collapsed": false,
    "pycharm": {
     "name": "#%% Imagenet vs COCO classes\n",
     "is_executing": false
    }
   }
  },
  {
   "cell_type": "code",
   "execution_count": null,
   "outputs": [],
   "source": [
    "import pickle\n",
    "import numpy as np\n",
    "to_filter = [19, 25, 117, 144, 151, 152, 154, 163, 167, \n",
    "             190, 245, 258, 307, 326, 347, 366, 400, \n",
    "             433, 434, 466, 471, 476, 479, 523, 598]\n",
    "keep = set(range(600)) - set(to_filter)\n",
    "d = {'train': {'inter': np.array(sorted(keep))\n",
    "               }\n",
    "     }\n",
    "with open('zero-shot_inds/seen_inds_2.pkl.push', 'wb') as f:\n",
    "    pickle.dump(d, f)\n",
    "    "
   ],
   "metadata": {
    "collapsed": false,
    "pycharm": {
     "name": "#%% Seen file #2 (inter only)\n"
    }
   }
  },
  {
   "cell_type": "code",
   "execution_count": 14,
   "outputs": [
    {
     "name": "stdout",
     "text": [
      "Num seen: 94\n",
      "Num seen: 59\n",
      "Num seen: 39\n"
     ],
     "output_type": "stream"
    }
   ],
   "source": [
    "import pickle\n",
    "import numpy as np\n",
    "from lib.dataset.hico_hake import HicoHake\n",
    "\n",
    "hh = HicoHake()\n",
    "pacts = {a for p, a in hh.part_actions_pairs}\n",
    "acts = {a.replace('_', ' ') for a in hh.actions[1:]} | {hh.null_action}\n",
    "common = sorted((acts & pacts) - {hh.null_action})\n",
    "pacts_ex = sorted(pacts - acts)\n",
    "acts_ex = sorted(acts - pacts)\n",
    "\n",
    "words_in_pacts = {w for a in pacts for w in a.split()}\n",
    "possible_unseen_acts_inds = np.array([i for i, a in enumerate(hh.actions) \n",
    "                                      if a != hh.null_action and a.split('_')[0] not in words_in_pacts])\n",
    "possible_unseen_acts = [hh.actions[i] for i in possible_unseen_acts_inds]\n",
    "\n",
    "for i, perc_seen in enumerate([80, 50, 33]):\n",
    "    num_unseen = min(len(possible_unseen_acts_inds), \n",
    "                     (hh.num_actions * (100 - perc_seen)) // 100)\n",
    "    unseen_acts = np.random.choice(possible_unseen_acts_inds, \n",
    "                                   size=num_unseen,\n",
    "                                   replace=False)\n",
    "    seen_acts = np.setdiff1d(np.arange(hh.num_actions), unseen_acts)\n",
    "    print(f'Num seen: {seen_acts.size}')\n",
    "    d = {'train': {'obj': np.arange(hh.num_objects), \n",
    "                   'act': seen_acts\n",
    "                   }}\n",
    "    with open(f'zero-shot_inds/seen_inds_{3 + i}.pkl.push', 'wb') as f:\n",
    "        pickle.dump(d, f)"
   ],
   "metadata": {
    "collapsed": false,
    "pycharm": {
     "name": "#%% Seen file #3-5 (80%/50%/33%, no overlap with part actions)\n",
     "is_executing": false
    }
   }
  },
  {
   "cell_type": "code",
   "execution_count": 3,
   "outputs": [],
   "source": [
    "import pickle\n",
    "import numpy as np\n",
    "from lib.dataset.hico import Hico\n",
    "\n",
    "hico = Hico()\n",
    "d = {'train': {'obj': np.arange(hico.num_objects), 'act': np.arange(hico.num_actions)}}\n",
    "with open('zero-shot_inds/seen_inds_6.pkl.push', 'wb') as f:\n",
    "    pickle.dump(d, f)\n"
   ],
   "metadata": {
    "collapsed": false,
    "pycharm": {
     "name": "#%% Seen file #6 (fake)\n",
     "is_executing": false
    }
   }
  },
  {
   "cell_type": "code",
   "execution_count": 18,
   "outputs": [
    {
     "name": "stdout",
     "text": [
      "59 / 117 = 0.5042735042735043\n",
      "0.7447047770881968\n",
      "80 / 80\n"
     ],
     "output_type": "stream"
    }
   ],
   "source": [
    "import pickle\n",
    "from lib.dataset.hico import Hico, Splits\n",
    "import numpy as np\n",
    "\n",
    "hico = Hico()\n",
    "split = Splits.TRAIN\n",
    "\n",
    "fnum = 4\n",
    "d = pickle.load(open(f'zero-shot_inds/seen_inds_{fnum}.pkl.push', 'rb'))\n",
    "ainds = d['train']['act']\n",
    "oinds = d['train']['obj']\n",
    "\n",
    "labels = hico.split_annotations[split]\n",
    "act_labels = np.minimum(1, labels @ hico.interaction_to_action_mat)\n",
    "print(f'{len(set(ainds.tolist()))} / {hico.num_actions} = '\n",
    "      f'{len(set(ainds.tolist())) / hico.num_actions}')\n",
    "print(f'{act_labels[:, ainds].sum() / act_labels.sum()}')\n",
    "print(f'{len(set(oinds.tolist()))} / {hico.num_objects}')\n",
    "\n"
   ],
   "metadata": {
    "collapsed": false,
    "pycharm": {
     "name": "#%% Number seen (obj/pred)\n",
     "is_executing": false
    }
   }
  },
  {
   "cell_type": "code",
   "execution_count": 5,
   "outputs": [
    {
     "name": "stdout",
     "text": [
      "A young woman is seen standing in a room and leads into her dancing.\n[1.86528073 1.86528073]\n"
     ],
     "output_type": "stream"
    }
   ],
   "source": [
    "import json\n",
    "d = json.load(open('data/VideoCaptions/train.json', 'r'))\n",
    "captions = [s for v in d.values() for s in v['sentences']]\n",
    "print(captions[0])\n",
    " "
   ],
   "metadata": {
    "collapsed": false,
    "pycharm": {
     "name": "#%% VideoCaptions dataset captions\n",
     "is_executing": false
    }
   }
  },
  {
   "cell_type": "code",
   "execution_count": 9,
   "outputs": [
    {
     "name": "stdout",
     "text": [
      "10799\n4251\n15050\n"
     ],
     "output_type": "stream"
    }
   ],
   "source": [
    "with open('data/VG/Kato/VG_train_1A2B.csv', 'r') as f:\n",
    "    tr_fns = {l.strip().split(',')[0] for l in f.readlines() if l.strip()}\n",
    "\n",
    "with open('data/VG/Kato/VG_test.csv', 'r') as f:\n",
    "    te_fns = {l.strip().split(',')[0] for l in f.readlines() if l.strip()}\n",
    "\n",
    "print(len(tr_fns))\n",
    "print(len(te_fns))\n",
    "print(len(tr_fns | te_fns))"
   ],
   "metadata": {
    "collapsed": false,
    "pycharm": {
     "name": "#%%\n",
     "is_executing": false
    }
   }
  },
  {
   "cell_type": "code",
   "execution_count": 5,
   "outputs": [
    {
     "name": "stdout",
     "text": [
      "Train objects (80): [0, 1, 2, 3, 4, 5, 6, 7, 8, 9, 10, 11, 12, 13, 14, 15, 16, 17, 18, 19, 20, 21, 22, 23, 24, 25, 26, 27, 28, 29, 30, 31, 32, 33, 34, 35, 36, 37, 38, 39, 40, 41, 42, 43, 44, 45, 46, 47, 48, 49, 50, 51, 52, 53, 54, 55, 56, 57, 58, 59, 60, 61, 62, 63, 64, 65, 66, 67, 68, 69, 70, 71, 72, 73, 74, 75, 76, 77, 78, 79]\n",
      "Train actions (93): [0, 1, 2, 3, 4, 5, 6, 7, 8, 10, 11, 12, 13, 14, 15, 16, 17, 18, 19, 20, 21, 22, 24, 26, 27, 29, 30, 32, 33, 34, 36, 37, 38, 40, 42, 43, 44, 46, 47, 49, 50, 51, 52, 53, 54, 55, 56, 58, 60, 61, 63, 65, 66, 67, 68, 69, 70, 71, 73, 74, 75, 76, 77, 78, 80, 81, 82, 83, 85, 86, 88, 91, 92, 93, 94, 95, 97, 98, 99, 100, 101, 102, 103, 104, 105, 106, 107, 108, 109, 110, 113, 114, 115]\n",
      "Train interactions (474): [0, 1, 2, 4, 5, 6, 9, 11, 12, 13, 14, 16, 17, 18, 20, 21, 23, 24, 25, 26, 27, 28, 30, 31, 32, 33, 34, 35, 37, 38, 39, 42, 43, 45, 47, 48, 49, 50, 51, 52, 53, 54, 55, 56, 57, 58, 59, 60, 63, 64, 65, 66, 67, 69, 70, 71, 73, 75, 77, 78, 79, 80, 81, 82, 84, 85, 87, 88, 90, 91, 93, 95, 96, 98, 99, 100, 101, 102, 103, 104, 105, 106, 107, 109, 110, 113, 114, 115, 117, 118, 119, 120, 121, 122, 123, 124, 125, 127, 128, 129, 130, 131, 132, 133, 134, 135, 136, 137, 139, 140, 141, 142, 143, 145, 146, 147, 148, 149, 151, 153, 155, 156, 157, 159, 161, 162, 163, 164, 165, 166, 167, 168, 169, 171, 173, 175, 177, 178, 179, 180, 181, 182, 183, 185, 186, 187, 188, 189, 190, 193, 194, 195, 197, 198, 199, 200, 201, 202, 204, 207, 209, 210, 211, 212, 213, 214, 216, 217, 218, 219, 221, 223, 224, 226, 228, 229, 230, 231, 232, 233, 234, 235, 238, 239, 240, 242, 243, 244, 246, 248, 249, 250, 251, 252, 255, 256, 257, 258, 259, 263, 264, 266, 267, 268, 269, 270, 271, 272, 274, 275, 276, 277, 282, 284, 285, 286, 287, 288, 289, 290, 291, 292, 293, 294, 296, 297, 298, 299, 300, 304, 305, 307, 308, 309, 310, 312, 313, 314, 316, 317, 318, 319, 320, 321, 324, 325, 326, 327, 328, 329, 330, 331, 332, 333, 335, 336, 337, 338, 340, 341, 342, 343, 344, 345, 347, 348, 350, 351, 353, 354, 355, 357, 358, 359, 360, 361, 362, 364, 365, 366, 367, 368, 371, 372, 374, 375, 376, 377, 378, 380, 381, 382, 383, 384, 385, 386, 387, 388, 389, 390, 392, 393, 394, 395, 396, 397, 398, 399, 400, 401, 403, 404, 406, 407, 408, 409, 410, 411, 413, 414, 415, 416, 417, 418, 420, 421, 422, 423, 424, 425, 426, 428, 429, 430, 432, 433, 434, 435, 436, 437, 439, 440, 441, 442, 443, 444, 445, 446, 447, 448, 449, 450, 452, 454, 455, 456, 457, 458, 459, 461, 462, 463, 465, 466, 467, 468, 469, 470, 471, 472, 473, 474, 476, 477, 478, 479, 480, 481, 482, 483, 484, 486, 487, 488, 490, 491, 492, 493, 494, 496, 497, 500, 501, 502, 503, 504, 505, 507, 508, 509, 510, 511, 512, 513, 515, 517, 518, 519, 520, 521, 522, 523, 524, 527, 529, 530, 531, 532, 534, 535, 536, 537, 538, 539, 540, 541, 542, 543, 544, 545, 546, 548, 549, 550, 551, 552, 553, 555, 557, 558, 559, 561, 562, 563, 564, 565, 566, 567, 568, 569, 570, 571, 572, 575, 577, 578, 579, 580, 581, 582, 583, 584, 585, 586, 587, 589, 590, 591, 592, 594, 595, 596, 597, 599]\n",
      "0.004247032904002478\n",
      "0.003439865626653782\n"
     ],
     "output_type": "stream"
    }
   ],
   "source": [
    "import pickle\n",
    "from lib.dataset.hico_hake import HicoHakeSplit\n",
    "from lib.dataset.utils import Splits\n",
    "from sklearn.metrics import average_precision_score\n",
    "import numpy as np\n",
    "\n",
    "\n",
    "with open('zero-shot_inds/seen_inds_1.pkl.push', 'rb') as f:\n",
    "    d = pickle.load(f)\n",
    "    \n",
    "ainds = d['train']['act']\n",
    "oinds = d['train']['obj']\n",
    "\n",
    "s = HicoHakeSplit.get_splits(act_inds=ainds, obj_inds=oinds)\n",
    "ds = s[Splits.TEST]\n",
    "\n",
    "inds = np.setdiff1d(np.arange(ds.full_dataset.num_interactions), s[Splits.TRAIN].active_interactions)\n",
    "gt_scores = ds.full_dataset.split_annotations[ds._data_split]\n",
    "gt_scores[gt_scores < 0] = 0\n",
    "\n",
    "predict_hoi_scores = np.random.rand(*gt_scores.shape)\n",
    "map = average_precision_score(gt_scores, predict_hoi_scores, average=None)\n",
    "print(map[inds].mean())\n",
    "\n",
    "predict_hoi_scores = np.zeros_like(gt_scores)\n",
    "map = average_precision_score(gt_scores, predict_hoi_scores, average=None)\n",
    "print(map[inds].mean())\n"
   ],
   "metadata": {
    "collapsed": false,
    "pycharm": {
     "name": "#%% mAP of random guesses on HICO using seen file 1\n",
     "is_executing": false
    }
   }
  },
  {
   "cell_type": "code",
   "execution_count": 38,
   "outputs": [
    {
     "name": "stdout",
     "text": [
      "[[[15  0 13 15]\n",
      "  [10  4  4 15]\n",
      "  [ 3  2 14 19]]\n",
      "\n",
      " [[ 0 10 16 12]\n",
      "  [14  6 18 14]\n",
      "  [11  3  7 13]]]\n",
      "[[0 0 1]\n",
      " [1 1 1]]\n",
      "\n",
      "[[15 15 14]\n",
      " [16 18  7]]\n",
      "[[ True  True False]\n",
      " [False  True False]]\n",
      "\n",
      "[[15  0 13 15]\n",
      " [10  4  4 15]\n",
      " [14  6 18 14]]\n",
      "[0 0 1]\n",
      "[15 15 18]\n",
      "\n",
      "[[[15  0 13 -1]\n",
      "  [10  4  4 -1]\n",
      "  [ 3  2 14 19]]\n",
      "\n",
      " [[ 0 10 16 12]\n",
      "  [14  6 -1 14]\n",
      "  [11  3  7 13]]]\n",
      "3\n"
     ],
     "output_type": "stream"
    }
   ],
   "source": [
    "import numpy as np\n",
    "np.random.seed(10)\n",
    "\n",
    "a = np.round(np.random.rand(2, 3, 4) * 20).astype(np.int)\n",
    "# b = (np.random.rand(2, 3) > 0.5)\n",
    "k = np.round(np.random.rand(2, 3)).astype(np.int)\n",
    "print(a)\n",
    "print(k)\n",
    "print()\n",
    "\n",
    "all_rows, all_cols = np.mgrid[:a.shape[0], :a.shape[1]]\n",
    "print(a[all_rows, all_cols, 3 - k])\n",
    "b = (a[all_rows, all_cols, 3 - k] % 3 == 0)\n",
    "print(b)\n",
    "print()\n",
    "\n",
    "rows, cols = np.where(b)\n",
    "print(a[rows, cols])\n",
    "print(k[b])\n",
    "print(a[rows, cols, 3 - k[b]])\n",
    "print()\n",
    "\n",
    "a[rows, cols, 3 - k[b]] = -1\n",
    "print(a)\n",
    "print(a.ndim)"
   ],
   "metadata": {
    "collapsed": false,
    "pycharm": {
     "name": "#%% NumPy indexing\n",
     "is_executing": false
    }
   }
  },
  {
   "cell_type": "code",
   "execution_count": 52,
   "outputs": [
    {
     "name": "stdout",
     "text": [
      "[[3 3 5 9]\n",
      " [0 0 8 7]\n",
      " [1 0 9 6]\n",
      " [0 4 8 6]\n",
      " [4 1 6 7]]\n",
      "[[0 0 0 1 1 0 0 0 0 0]\n",
      " [1 1 1 1 1 1 1 1 0 0]\n",
      " [0 1 1 1 1 1 1 1 1 0]\n",
      " [1 1 1 1 1 1 1 1 0 0]\n",
      " [0 0 0 0 1 1 0 0 0 0]]\n",
      "\n",
      "[[0 0 0 1 1 1 1 1 1 0]\n",
      " [1 1 1 1 1 1 1 0 0 0]\n",
      " [1 1 1 1 1 1 0 0 0 0]\n",
      " [0 0 0 0 1 1 0 0 0 0]\n",
      " [0 1 1 1 1 1 1 0 0 0]]\n",
      "\n",
      "[[[0 0 0 0 0 0 0 0 0 0]\n",
      "  [0 0 0 0 0 0 0 0 0 0]\n",
      "  [0 0 0 0 0 0 0 0 0 0]\n",
      "  [0 0 0 1 1 0 0 0 0 0]\n",
      "  [0 0 0 1 1 0 0 0 0 0]\n",
      "  [0 0 0 1 1 0 0 0 0 0]\n",
      "  [0 0 0 1 1 0 0 0 0 0]\n",
      "  [0 0 0 1 1 0 0 0 0 0]\n",
      "  [0 0 0 1 1 0 0 0 0 0]\n",
      "  [0 0 0 0 0 0 0 0 0 0]]\n",
      "\n",
      " [[1 1 1 1 1 1 1 1 0 0]\n",
      "  [1 0 0 0 0 0 0 1 0 0]\n",
      "  [1 0 0 0 0 0 0 1 0 0]\n",
      "  [1 0 0 0 0 0 0 1 0 0]\n",
      "  [1 0 0 0 0 0 0 1 0 0]\n",
      "  [1 0 0 0 0 0 0 1 0 0]\n",
      "  [1 1 1 1 1 1 1 1 0 0]\n",
      "  [0 0 0 0 0 0 0 0 0 0]\n",
      "  [0 0 0 0 0 0 0 0 0 0]\n",
      "  [0 0 0 0 0 0 0 0 0 0]]\n",
      "\n",
      " [[0 1 1 1 1 1 1 1 1 0]\n",
      "  [0 1 0 0 0 0 0 0 1 0]\n",
      "  [0 1 0 0 0 0 0 0 1 0]\n",
      "  [0 1 0 0 0 0 0 0 1 0]\n",
      "  [0 1 0 0 0 0 0 0 1 0]\n",
      "  [0 1 1 1 1 1 1 1 1 0]\n",
      "  [0 0 0 0 0 0 0 0 0 0]\n",
      "  [0 0 0 0 0 0 0 0 0 0]\n",
      "  [0 0 0 0 0 0 0 0 0 0]\n",
      "  [0 0 0 0 0 0 0 0 0 0]]\n",
      "\n",
      " [[0 0 0 0 0 0 0 0 0 0]\n",
      "  [0 0 0 0 0 0 0 0 0 0]\n",
      "  [0 0 0 0 0 0 0 0 0 0]\n",
      "  [0 0 0 0 0 0 0 0 0 0]\n",
      "  [1 1 1 1 1 1 1 1 0 0]\n",
      "  [1 1 1 1 1 1 1 1 0 0]\n",
      "  [0 0 0 0 0 0 0 0 0 0]\n",
      "  [0 0 0 0 0 0 0 0 0 0]\n",
      "  [0 0 0 0 0 0 0 0 0 0]\n",
      "  [0 0 0 0 0 0 0 0 0 0]]\n",
      "\n",
      " [[0 0 0 0 0 0 0 0 0 0]\n",
      "  [0 0 0 0 1 1 0 0 0 0]\n",
      "  [0 0 0 0 1 1 0 0 0 0]\n",
      "  [0 0 0 0 1 1 0 0 0 0]\n",
      "  [0 0 0 0 1 1 0 0 0 0]\n",
      "  [0 0 0 0 1 1 0 0 0 0]\n",
      "  [0 0 0 0 1 1 0 0 0 0]\n",
      "  [0 0 0 0 0 0 0 0 0 0]\n",
      "  [0 0 0 0 0 0 0 0 0 0]\n",
      "  [0 0 0 0 0 0 0 0 0 0]]]\n"
     ],
     "output_type": "stream"
    }
   ],
   "source": [
    "import numpy as np\n",
    "\n",
    "np.random.seed(5)\n",
    "\n",
    "n = 5\n",
    "size = 10\n",
    "h=size \n",
    "w=size\n",
    "boxes = np.stack([np.random.randint(0, w//2, n),\n",
    "                  np.random.randint(0, h//2, n),\n",
    "                  np.random.randint(w//2, w, n),\n",
    "                  np.random.randint(h//2, h, n)], axis=1)\n",
    "print(boxes)\n",
    "range_v = np.arange(size).reshape((1, -1))\n",
    "\n",
    "mask_col = (boxes[:, 0, None] <= range_v) & (range_v < boxes[:, 2, None])\n",
    "print(mask_col.astype(np.int))\n",
    "print()\n",
    "\n",
    "mask_row = (boxes[:, 1, None] <= range_v) & (range_v < boxes[:, 3, None])\n",
    "print(mask_row.astype(np.int))\n",
    "print()\n",
    "\n",
    "mask = mask_col[:, None, :] & mask_row[:, :, None]\n",
    "\n",
    "if True:\n",
    "    mask_col = (boxes[:, 0, None] + 1 <= range_v) & (range_v < boxes[:, 2, None] - 1)\n",
    "    mask_row = (boxes[:, 1, None] + 1 <= range_v) & (range_v < boxes[:, 3, None] - 1)\n",
    "    mask = mask & ~(mask_col[:, None, :] & mask_row[:, :, None])\n",
    "patterns = mask.astype(np.int)\n",
    "print(patterns)"
   ],
   "metadata": {
    "collapsed": false,
    "pycharm": {
     "name": "#%% Creating box masks\n",
     "is_executing": false
    }
   }
  }
 ],
 "metadata": {
  "language_info": {
   "codemirror_mode": {
    "name": "ipython",
    "version": 2
   },
   "file_extension": ".py",
   "mimetype": "text/x-python",
   "name": "python",
   "nbconvert_exporter": "python",
   "pygments_lexer": "ipython2",
   "version": "2.7.6"
  },
  "kernelspec": {
   "name": "python3",
   "language": "python",
   "display_name": "Python 3"
  },
  "pycharm": {
   "stem_cell": {
    "cell_type": "raw",
    "source": [],
    "metadata": {
     "collapsed": false
    }
   }
  }
 },
 "nbformat": 4,
 "nbformat_minor": 0
}