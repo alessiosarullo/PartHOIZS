{
 "cells": [
  {
   "cell_type": "code",
   "execution_count": 1,
   "metadata": {
    "collapsed": true
   },
   "outputs": [],
   "source": [
    "from matplotlib import pyplot as plt\n",
    "import numpy as np\n"
   ]
  },
  {
   "cell_type": "code",
   "execution_count": 14,
   "outputs": [
    {
     "data": {
      "text/plain": "<Figure size 432x288 with 1 Axes>",
      "image/png": "[encoded data removed]"
     },
     "metadata": {
      "needs_background": "light"
     },
     "output_type": "display_data"
    }
   ],
   "source": [
    "r1 = 0.2  # 20%\n",
    "r2 = r1 + 0.4  # 40%\n",
    "\n",
    "# define some sizes of the scatter marker\n",
    "sizes = np.array([10000])\n",
    "\n",
    "# calculate the points of the first pie marker\n",
    "# these are just the origin (0, 0) + some (cos, sin) points on a circle\n",
    "x1 = np.cos(2 * np.pi * np.linspace(0, r1, num=2))\n",
    "y1 = np.sin(2 * np.pi * np.linspace(0, r1, num=2))\n",
    "xy1 = np.row_stack([[0, 0], np.column_stack([x1, y1])])\n",
    "s1 = np.abs(xy1).max()\n",
    "\n",
    "x2 = np.cos(2 * np.pi * np.linspace(r1, r2, num=5))\n",
    "y2 = np.sin(2 * np.pi * np.linspace(r1, r2, num=5))\n",
    "xy2 = np.row_stack([[0, 0], np.column_stack([x2, y2])])\n",
    "s2 = np.abs(xy2).max()\n",
    "\n",
    "x3 = np.cos(2 * np.pi * np.linspace(r2, 1))\n",
    "y3 = np.sin(2 * np.pi * np.linspace(r2, 1))\n",
    "xy3 = np.row_stack([[0, 0], np.column_stack([x3, y3])])\n",
    "s3 = np.abs(xy3).max()\n",
    "\n",
    "fig, ax = plt.subplots()\n",
    "ax.scatter(1, 1, marker=xy1, s=s1 ** 2 * sizes, facecolor='blue')\n",
    "ax.scatter(1, 1, marker=xy2, s=s2 ** 2 * sizes, facecolor='green')\n",
    "ax.scatter(1, 1, marker=xy3, s=s3 ** 2 * sizes, facecolor='red')\n",
    "\n",
    "plt.show()"
   ],
   "metadata": {
    "collapsed": false,
    "pycharm": {
     "name": "#%%\n"
    }
   }
  },
  {
   "cell_type": "code",
   "execution_count": 55,
   "outputs": [
    {
     "data": {
      "text/plain": "<Figure size 432x288 with 1 Axes>",
      "image/png": "[encoded data removed]"
     },
     "metadata": {
      "needs_background": "light"
     },
     "output_type": "display_data"
    }
   ],
   "source": [
    "def tr_marker(offset=(0,0)):\n",
    "    h = np.sin(np.deg2rad(60))\n",
    "    offset = np.array(offset) * np.array([1, h])\n",
    "    return offset + np.array([[-0.5, -h / 2],\n",
    "                              [+0.5, -h / 2],\n",
    "                              [0, h / 2]\n",
    "                              ])\n",
    "\n",
    "def sq_marker(offset=(0, 0)):\n",
    "    return np.array(offset) + np.array([[-0.5, -0.5],\n",
    "                                        [-0.5, +0.5],\n",
    "                                        [+0.5, +0.5],\n",
    "                                        [+0.5, -0.5],\n",
    "                                        ])\n",
    "\n",
    "s = 100\n",
    "trm = tr_marker(offset=[0, 0.5])\n",
    "sqm = sq_marker(offset=[0, -0.5])\n",
    "fig, ax = plt.subplots()\n",
    "ax.scatter(0, 0, marker=sqm, s=(s * np.abs(sqm).max()) ** 2, facecolor='red')\n",
    "ax.scatter(0, 0, marker=trm, s=(s * np.abs(trm).max()) ** 2, facecolor='blue')\n",
    "plt.show()"
   ],
   "metadata": {
    "collapsed": false,
    "pycharm": {
     "name": "#%%\n"
    }
   }
  },
  {
   "cell_type": "code",
   "execution_count": 349,
   "outputs": [
    {
     "name": "stdout",
     "output_type": "stream",
     "text": [
      "89913\n"
     ]
    },
    {
     "data": {
      "text/plain": "<Figure size 432x288 with 1 Axes>",
      "image/png": "[encoded data removed]"
     },
     "metadata": {},
     "output_type": "display_data"
    },
    {
     "data": {
      "text/plain": "<Figure size 432x288 with 1 Axes>",
      "image/png": "[encoded data removed]"
     },
     "metadata": {},
     "output_type": "display_data"
    }
   ],
   "source": [
    "size = 100\n",
    "X, Y = 2, 4\n",
    "n = 8\n",
    "seed = np.random.randint(100_000)\n",
    "# seed = 46274\n",
    "np.random.seed(seed)\n",
    "print(seed)\n",
    "\n",
    "def rand(n):\n",
    "    a = np.array([])\n",
    "    for i in range(n):\n",
    "        for j in range(20_000):\n",
    "            x = np.random.randn()\n",
    "            if np.all(abs(a - x) > 0.08):\n",
    "                a = np.append(a, x)\n",
    "                break\n",
    "        else:\n",
    "            raise ValueError\n",
    "    return a\n",
    "\n",
    "def rand_jitter(jscale=0):\n",
    "    arr = rand(n)\n",
    "    stdev = jscale*(max(arr)-min(arr))\n",
    "    return arr + np.random.randn(len(arr)) * stdev\n",
    "\n",
    "def rand_data(pscale=(1, 1)):\n",
    "    rdata = np.stack([rand_jitter(), rand_jitter()], axis=1)\n",
    "    return rdata / np.array([pscale])\n",
    "\n",
    "data = {\n",
    "    # 'blue': rand_data(),\n",
    "    'green': rand_data(),\n",
    "    'red': rand_data(),\n",
    "    # 'orange': rand_data(),\n",
    "}\n",
    "\n",
    "seen_idxs = {\n",
    "    'blue': np.random.choice(n, size=n//2, replace=False),\n",
    "    'green': np.random.choice(n, size=n//2, replace=False)\n",
    "}\n",
    "unseen_idxs = {k: np.setdiff1d(np.arange(n), v)\n",
    "               for k, v in seen_idxs.items()}\n",
    "\n",
    "settings = [\n",
    "    # 'ic',\n",
    "    # 'ig',\n",
    "    # 'tc',\n",
    "    'tg'\n",
    "]\n",
    "\n",
    "N = len(data) // 2\n",
    "scale = 0.5\n",
    "for name in settings:\n",
    "    ts = {k: data[k] for k in ['red', 'orange'] if k in data}\n",
    "    tr = {k: data[k][seen_idxs[k], :]\n",
    "          for k in ['blue', 'green'] if k in data}\n",
    "    if name[0] == 't':\n",
    "        tr.update(ts)\n",
    "    if name[1] == 'g':\n",
    "        ts.update({k: data[k][unseen_idxs[k], :]\n",
    "                   for k in ['blue', 'green'] if k in data})\n",
    "\n",
    "    for split_name, split in [('tr', tr),\n",
    "                              ('ts', ts)\n",
    "                              ]:\n",
    "        fig, ax = plt.subplots()\n",
    "        for j, c in enumerate(data.keys()):\n",
    "            if c not in split.keys():\n",
    "                continue\n",
    "            x, y = split[c].T\n",
    "            cls_offset_x = scale * (j // N)\n",
    "            cls_offset_y = scale * (j % N)\n",
    "\n",
    "            x = x + cls_offset_x\n",
    "            y = y + cls_offset_y\n",
    "            ax.scatter(x, y, marker='s', s=size, edgecolor=c,\n",
    "                       facecolor=c if (j < N and split_name == 'tr') else 'none')\n",
    "            if name == 'tg':\n",
    "                try:\n",
    "                    uinds = unseen_idxs[c]\n",
    "                    ux, uy = data[c][uinds, :].T\n",
    "                    ux = ux + cls_offset_x\n",
    "                    uy = uy + cls_offset_y\n",
    "                    ax.scatter(ux, uy, marker='s', s=size, edgecolor=c, facecolor='none')\n",
    "                except KeyError:\n",
    "                    pass\n",
    "\n",
    "        # ax.set_xlim([-0.1, 3.1])\n",
    "        # ax.set_ylim([-0.1, 3.1])\n",
    "        plt.tight_layout()\n",
    "        ax.axis('off')\n",
    "        ax.set_aspect('equal')\n",
    "        # plt.margins(0.02, 0.02)\n",
    "        ax.xaxis.set_major_locator(plt.NullLocator())\n",
    "        ax.yaxis.set_major_locator(plt.NullLocator())\n",
    "        fig.subplots_adjust(left=0, bottom=0, right=1, top=1, wspace=0, hspace=0)\n",
    "        fname = f'zsl-{name}-{split_name}'\n",
    "        fig.savefig(f'{fname}.png', bbox_inches = 'tight',\n",
    "                    pad_inches=0, dpi=300)"
   ],
   "metadata": {
    "collapsed": false,
    "pycharm": {
     "name": "#%%\n"
    }
   }
  },
  {
   "cell_type": "code",
   "execution_count": 261,
   "outputs": [
    {
     "data": {
      "text/plain": "<Figure size 432x288 with 1 Axes>",
      "image/png": "[encoded data removed]"
     },
     "metadata": {},
     "output_type": "display_data"
    }
   ],
   "source": [
    "from matplotlib import patches\n",
    "\n",
    "def draw(ax, coords, text, c, size=100, fsize=80, lw=4, **kwargs):\n",
    "    coords = np.array(coords)\n",
    "    x, y = coords  # center\n",
    "    ax.scatter(x, y,\n",
    "               marker='s',\n",
    "               s=size**2,\n",
    "               linewidths=lw,\n",
    "               edgecolor=c,\n",
    "               facecolor='none',\n",
    "               **kwargs\n",
    "               )\n",
    "    ax.text(x, y, text,\n",
    "            size=fsize,\n",
    "            verticalalignment='center',\n",
    "            horizontalalignment='center',\n",
    "        )\n",
    "\n",
    "settings = [\n",
    "    # 'is-tr',\n",
    "    'is-ts',\n",
    "    # 'ig-ts',\n",
    "    # 'ts-tr',\n",
    "]\n",
    "for setting in settings:\n",
    "    fig, ax = plt.subplots()\n",
    "\n",
    "    if setting == 'is-tr':\n",
    "        for p, cls in [(1, 'A'),\n",
    "                     (2, 'A'),\n",
    "                     (3, 'B')\n",
    "                     ]:\n",
    "            draw(ax, coords=(p, 1), text=cls,\n",
    "                 c='tab:green', linestyle='-')\n",
    "        plt.margins(0.15, .6)\n",
    "    elif setting == 'is-ts':\n",
    "        size = 100\n",
    "        fsize = 80\n",
    "        scale = 1.25\n",
    "        size, fsize = size * scale, fsize * scale\n",
    "        for p, cls in [(1, 'C'),\n",
    "                     (1.3, 'D'),\n",
    "                     ]:\n",
    "            draw(ax, coords=(p, 1), text=cls,\n",
    "                 size=size, fsize=fsize,\n",
    "                 c='tab:red', linestyle='--',\n",
    "                 lw=7,\n",
    "                 )\n",
    "        ax.set_xlim([0.8, 1.5])\n",
    "        ax.set_ylim([0.85, 1.15])\n",
    "        # plt.margins(0.15, .6)\n",
    "    elif setting == 'ig-ts':\n",
    "        size = 100\n",
    "        fsize = 80\n",
    "        scale = 0.7\n",
    "        size, fsize = size * scale, fsize * scale\n",
    "        y, c  = 1, 'tab:green'\n",
    "        for p, cls in [(1, 'A'),\n",
    "                     (3, 'B'),\n",
    "                     ]:\n",
    "            draw(ax, coords=(p, y), text=cls,\n",
    "                 size=size, fsize=fsize,\n",
    "                 c=c, linestyle='--')\n",
    "        y, c = 1, 'tab:red'\n",
    "        for p, cls in [(5, 'C'),\n",
    "                     (7, 'D'),\n",
    "                     ]:\n",
    "            draw(ax, coords=(p, y), text=cls,\n",
    "                 size=size, fsize=fsize,\n",
    "                 c=c, linestyle='--')\n",
    "        ax.set_xlim([0, 8])\n",
    "        ax.set_ylim([0.1, 2])\n",
    "        # plt.margins(0.15, .6)\n",
    "    elif setting == 'tg-tr':\n",
    "        size = 100\n",
    "        fsize = 80\n",
    "        scale = 0.9\n",
    "        size, fsize = size * scale, fsize * scale\n",
    "        y, c  = 3, 'tab:green'\n",
    "        for p, cls in [(1, 'A'),\n",
    "                     (3, 'A'),\n",
    "                     (5, 'B'),\n",
    "                     ]:\n",
    "            draw(ax, coords=(p, y), text=cls,\n",
    "                 size=size, fsize=fsize,\n",
    "                 c=c, linestyle='-')\n",
    "        y, c = 1, 'tab:red'\n",
    "        for p, cls in [(2, 'C'),\n",
    "                     (4, 'D'),\n",
    "                     ]:\n",
    "            draw(ax, coords=(p, y), text=cls,\n",
    "                 size=size, fsize=fsize,\n",
    "                 c=c, linestyle='--')\n",
    "        ax.set_xlim([0, 6])\n",
    "        ax.set_ylim([0.1, 4])\n",
    "        # plt.margins(0.15, .6)\n",
    "    else:\n",
    "        raise ValueError\n",
    "\n",
    "    # plt.tight_layout()\n",
    "    ax.axis('off')\n",
    "    ax.set_aspect('equal')\n",
    "    ax.xaxis.set_major_locator(plt.NullLocator())\n",
    "    ax.yaxis.set_major_locator(plt.NullLocator())\n",
    "    # fig.subplots_adjust(left=0, bottom=0, right=1, top=1, wspace=0, hspace=0)\n",
    "    # fname = f'zsl-{name}-{split_name}'\n",
    "    fig.savefig(f'zsl-{setting}.png', bbox_inches = 'tight',\n",
    "                pad_inches=0, dpi=300)"
   ],
   "metadata": {
    "collapsed": false,
    "pycharm": {
     "name": "#%%\n"
    }
   }
  },
  {
   "cell_type": "code",
   "execution_count": 266,
   "outputs": [
    {
     "name": "stdout",
     "output_type": "stream",
     "text": [
      "0.173, 0.627, 0.173\n",
      "0.839, 0.153, 0.157\n"
     ]
    }
   ],
   "source": [
    "import matplotlib.colors\n",
    "\n",
    "print(', '.join([f'{x:.3f}'\n",
    "       for x in matplotlib.colors.to_rgb('tab:green')]))\n",
    "print(', '.join([f'{x:.3f}'\n",
    "       for x in matplotlib.colors.to_rgb('tab:red')]))"
   ],
   "metadata": {
    "collapsed": false,
    "pycharm": {
     "name": "#%%\n"
    }
   }
  }
 ],
 "metadata": {
  "kernelspec": {
   "display_name": "Python 3",
   "language": "python",
   "name": "python3"
  },
  "language_info": {
   "codemirror_mode": {
    "name": "ipython",
    "version": 2
   },
   "file_extension": ".py",
   "mimetype": "text/x-python",
   "name": "python",
   "nbconvert_exporter": "python",
   "pygments_lexer": "ipython2",
   "version": "2.7.6"
  }
 },
 "nbformat": 4,
 "nbformat_minor": 0
}