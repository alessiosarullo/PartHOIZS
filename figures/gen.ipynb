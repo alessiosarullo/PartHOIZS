{
 "cells": [
  {
   "cell_type": "code",
   "execution_count": null,
   "outputs": [],
   "source": [
    "import matplotlib.pyplot as plt\n",
    "import matplotlib.patches as patches\n",
    "import matplotlib.colors\n",
    "import numpy as np\n",
    "\n",
    "colors = plt.rcParams['axes.prop_cycle'].by_key()['color']\n",
    "b = list(matplotlib.colors.to_rgba(colors[0]))\n",
    "g = list(matplotlib.colors.to_rgba(colors[2]))\n",
    "r = list(matplotlib.colors.to_rgba(colors[3]))\n",
    "# r[-1] = 0.7\n",
    "\n",
    "fig,ax = plt.subplots(1)\n",
    "\n",
    "union = False\n",
    "intersection = False\n",
    "\n",
    "ax.add_patch(\n",
    "    patches.Rectangle(xy=(1, 2), width=3, height=3,\n",
    "                      linewidth=3, edgecolor=b,\n",
    "                      facecolor=r if union else 'none',\n",
    "                      )\n",
    ")\n",
    "ax.add_patch(\n",
    "    patches.Rectangle(xy=(2, 1), width=3, height=2,\n",
    "                      linewidth=3, edgecolor=g,\n",
    "                      facecolor=r if union else'none',\n",
    "                      )\n",
    ")\n",
    "if intersection:\n",
    "    ax.add_patch(\n",
    "        patches.Rectangle(xy=(2, 2), width=2, height=1,\n",
    "                          linewidth=0, facecolor=r\n",
    "                          )\n",
    "    )\n",
    "\n",
    "lim = 6\n",
    "ax.set_xlim([0, lim])\n",
    "ax.set_ylim([0, lim])\n",
    "ax.set_xticks(np.arange(0, lim, 1))\n",
    "ax.set_yticks(np.arange(0, lim, 1))\n",
    "ax.set_xticklabels([])\n",
    "ax.set_yticklabels([])\n",
    "ax.grid()\n",
    "ax.set_aspect('equal')\n",
    "fig.savefig(f'iou{\"_i\" if intersection else \"\"}{\"_u\" if union else \"\"}.png')\n",
    "plt.show()\n"
   ],
   "metadata": {
    "collapsed": false,
    "pycharm": {
     "name": "#%% IoU\n"
    }
   }
  },
  {
   "cell_type": "code",
   "execution_count": 2,
   "outputs": [
    {
     "data": {
      "text/plain": "<Figure size 432x288 with 1 Axes>",
      "image/png": "[encoded data removed]"
     },
     "metadata": {
      "needs_background": "light"
     },
     "output_type": "display_data"
    }
   ],
   "source": [
    "import matplotlib.pyplot as plt\n",
    "import numpy as np\n",
    "\n",
    "size = 500\n",
    "fig, ax = plt.subplots(1)\n",
    "\n",
    "px, py = np.array([3, 3.0])\n",
    "sx, sy = np.array([6, 3.2])\n",
    "ux, uy = np.array([9, 2.8])\n",
    "d = 20\n",
    "\n",
    "ax.scatter([px, d+px], [py, py], s=size, c='xkcd:blue', marker='o', label='Prediction')\n",
    "ax.scatter(d+sx, sy, s=size, c='tab:green', marker='^', label='Seen class')\n",
    "ax.scatter(sx, sy, s=size, c='tab:green', alpha=0.3, marker='^')\n",
    "ax.scatter([ux, d+ux], [uy, uy], s=size, c='tab:red', marker='^', label='Unseen class')\n",
    "\n",
    "# ax.arrow(px,\n",
    "#          py,\n",
    "#          ux - px - 1,\n",
    "#          uy - py,\n",
    "#          width=0.01,\n",
    "#          color='k',\n",
    "#          head_length=1,\n",
    "#          length_includes_head=True,\n",
    "#          # head_width=0.1,\n",
    "#          )\n",
    "\n",
    "start = np.array([px, py])\n",
    "end = np.array([ux, uy])\n",
    "start += (end - start) * 0.17\n",
    "end -= (end - start) * 0.14\n",
    "ax.annotate(\"\",\n",
    "            xy=end,\n",
    "            xytext=start,\n",
    "            arrowprops=dict(\n",
    "                # arrowstyle='-|>',\n",
    "                width=1,\n",
    "                color='k',\n",
    "            ))\n",
    "\n",
    "start = np.array([px + d, py])\n",
    "end = np.array([sx + d, sy])\n",
    "start += (end - start) * 0.2\n",
    "end -= (end - start) * 0.3\n",
    "ax.annotate(\"\",\n",
    "            xy=end,\n",
    "            xytext=start,\n",
    "            arrowprops=dict(\n",
    "                # arrowstyle='-|>',\n",
    "                width=1,\n",
    "                color='k',\n",
    "            ))\n",
    "\n",
    "\n",
    "# ax.set_xlim([0.2, 1])\n",
    "ax.set_ylim([2.6, 3.3])\n",
    "\n",
    "\n",
    "ax.legend(loc='lower center',\n",
    "          # bbox_to_anchor=(0.5, -0.2),\n",
    "          ncol=3,\n",
    "          markerscale=0.5,\n",
    "          prop={'size': 12})\n",
    "plt.axis('off')\n",
    "plt.tight_layout()\n",
    "fig.savefig(f'zsl_vs_gzsl.png', dpi=300)\n",
    "plt.show()"
   ],
   "metadata": {
    "collapsed": false,
    "pycharm": {
     "name": "#%% GZSL\n"
    }
   }
  },
  {
   "cell_type": "code",
   "execution_count": 193,
   "outputs": [
    {
     "data": {
      "text/plain": "<Figure size 432x288 with 1 Axes>",
      "image/png": "[encoded data removed]"
     },
     "metadata": {
      "needs_background": "light"
     },
     "output_type": "display_data"
    }
   ],
   "source": [
    "import numpy as np\n",
    "from matplotlib import pyplot as plt\n",
    "\n",
    "n = 1000\n",
    "x = np.arange(n + 1) / n\n",
    "\n",
    "w, k = 96, 10\n",
    "T = 1 + np.exp(k - w).item()\n",
    "y = T / (1 + np.exp(-(w * x - k)))\n",
    "\n",
    "fig, ax = plt.subplots(1)\n",
    "ax.plot(x, y)\n",
    "# ax.set_xticks(np.arange(11) / 10)\n",
    "ax.set_xticks(list(np.arange(0, 0.25, 0.05)))\n",
    "ax.set_xlim([0, 0.2])\n",
    "ax.tick_params(labelsize=14)\n",
    "plt.grid()\n",
    "fig.savefig(f'lis.png', dpi=300)\n",
    "plt.tight_layout()\n",
    "plt.show()"
   ],
   "metadata": {
    "collapsed": false,
    "pycharm": {
     "name": "#%% LIS\n"
    }
   }
  }
 ],
 "metadata": {
  "kernelspec": {
   "display_name": "Python 3",
   "language": "python",
   "name": "python3"
  },
  "language_info": {
   "codemirror_mode": {
    "name": "ipython",
    "version": 3
   },
   "file_extension": ".py",
   "mimetype": "text/x-python",
   "name": "python",
   "nbconvert_exporter": "python",
   "pygments_lexer": "ipython3",
   "version": "3.7.4"
  }
 },
 "nbformat": 4,
 "nbformat_minor": 1
}