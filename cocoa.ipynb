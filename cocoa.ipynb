{
 "cells": [
  {
   "cell_type": "code",
   "execution_count": 1,
   "metadata": {},
   "outputs": [],
   "source": [
    "%load_ext autoreload\n",
    "%autoreload 2\n",
    "\n",
    "import lib.dataset.cocoa\n",
    "import numpy as np\n",
    "from matplotlib import pyplot as plt\n",
    "import os\n",
    "from PIL import Image"
   ]
  },
  {
   "cell_type": "markdown",
   "metadata": {},
   "source": [
    "# Driver"
   ]
  },
  {
   "cell_type": "code",
   "execution_count": 2,
   "metadata": {},
   "outputs": [],
   "source": [
    "cad = lib.dataset.cocoa.CocoaDriver()\n",
    "image_ids = list(cad.image_infos.keys())"
   ]
  },
  {
   "cell_type": "code",
   "execution_count": 3,
   "metadata": {},
   "outputs": [
    {
     "data": {
      "text/plain": [
       "{'file_name': 'COCO_train2014_000000392136.jpg', 'height': 347, 'width': 500}"
      ]
     },
     "execution_count": 3,
     "metadata": {},
     "output_type": "execute_result"
    }
   ],
   "source": [
    "cad.image_infos[image_ids[0]]"
   ]
  },
  {
   "cell_type": "code",
   "execution_count": 12,
   "metadata": {},
   "outputs": [
    {
     "data": {
      "text/plain": [
       "['__no_interaction__',\n",
       " 'call',\n",
       " 'shout',\n",
       " 'signal',\n",
       " 'talk',\n",
       " 'whistle',\n",
       " 'wink',\n",
       " 'avoid',\n",
       " 'bite',\n",
       " 'bump',\n",
       " 'caress',\n",
       " 'hit',\n",
       " 'hold',\n",
       " 'hug',\n",
       " 'kick',\n",
       " 'kiss',\n",
       " 'lick',\n",
       " 'lift',\n",
       " 'massage',\n",
       " 'pet',\n",
       " 'pinch',\n",
       " 'poke',\n",
       " 'pull',\n",
       " 'punch',\n",
       " 'push',\n",
       " 'reach',\n",
       " 'slap',\n",
       " 'squeeze',\n",
       " 'tickle',\n",
       " 'chew',\n",
       " 'cook',\n",
       " 'devour',\n",
       " 'drink',\n",
       " 'eat',\n",
       " 'prepare',\n",
       " 'spread',\n",
       " 'bend_object',\n",
       " 'break',\n",
       " 'brush',\n",
       " 'build',\n",
       " 'carry',\n",
       " 'catch',\n",
       " 'clear',\n",
       " 'cut',\n",
       " 'disassemble',\n",
       " 'drive',\n",
       " 'drop',\n",
       " 'exchange',\n",
       " 'fill',\n",
       " 'get',\n",
       " 'lay',\n",
       " 'light',\n",
       " 'mix',\n",
       " 'pour',\n",
       " 'put',\n",
       " 'read',\n",
       " 'remove',\n",
       " 'repair',\n",
       " 'ride',\n",
       " 'row',\n",
       " 'sail',\n",
       " 'separate',\n",
       " 'show',\n",
       " 'spill',\n",
       " 'spray',\n",
       " 'steal',\n",
       " 'throw',\n",
       " 'use',\n",
       " 'wash',\n",
       " 'wear',\n",
       " 'listen',\n",
       " 'look',\n",
       " 'sniff',\n",
       " 'taste',\n",
       " 'touch',\n",
       " 'balance',\n",
       " 'bend',\n",
       " 'bow',\n",
       " 'climb',\n",
       " 'crouch',\n",
       " 'fall',\n",
       " 'float',\n",
       " 'fly',\n",
       " 'hang',\n",
       " 'jump',\n",
       " 'kneel',\n",
       " 'lean',\n",
       " 'lie',\n",
       " 'perch',\n",
       " 'recline',\n",
       " 'roll',\n",
       " 'run',\n",
       " 'sit',\n",
       " 'squat',\n",
       " 'stand',\n",
       " 'straddle',\n",
       " 'swim',\n",
       " 'walk',\n",
       " 'accompany',\n",
       " 'be_with',\n",
       " 'chase',\n",
       " 'dance',\n",
       " 'dine',\n",
       " 'dress',\n",
       " 'feed',\n",
       " 'fight',\n",
       " 'follow',\n",
       " 'give',\n",
       " 'groom',\n",
       " 'help',\n",
       " 'hunt',\n",
       " 'kill',\n",
       " 'meet',\n",
       " 'pay',\n",
       " 'play_baseball',\n",
       " 'play_basketball',\n",
       " 'play_frisbee',\n",
       " 'play_soccer',\n",
       " 'play_tennis',\n",
       " 'precede',\n",
       " 'shake_hands',\n",
       " 'teach',\n",
       " 'blow',\n",
       " 'clap',\n",
       " 'cry',\n",
       " 'draw',\n",
       " 'groan',\n",
       " 'laugh',\n",
       " 'paint',\n",
       " 'photograph',\n",
       " 'play',\n",
       " 'play_baseball_solo',\n",
       " 'play_basketball_solo',\n",
       " 'play_frisbee_solo',\n",
       " 'play_instrument',\n",
       " 'play_soccer_solo',\n",
       " 'play_tennis_solo',\n",
       " 'pose',\n",
       " 'sing',\n",
       " 'skate',\n",
       " 'ski',\n",
       " 'sleep',\n",
       " 'smile',\n",
       " 'snowboard',\n",
       " 'surf',\n",
       " 'write']"
      ]
     },
     "execution_count": 12,
     "metadata": {},
     "output_type": "execute_result"
    }
   ],
   "source": [
    "cad.actions"
   ]
  },
  {
   "cell_type": "code",
   "execution_count": 5,
   "metadata": {},
   "outputs": [
    {
     "name": "stdout",
     "output_type": "stream",
     "text": [
      "376838\n",
      "\n",
      "{'obj': 'person', 'acts': ['talk', 'look', 'be_with']}\n",
      "{'obj': 'NULL', 'acts': ['stand']}\n",
      "{'obj': 'person', 'acts': ['talk', 'look', 'be_with']}\n",
      "{'obj': 'person', 'acts': ['talk', 'look', 'accompany', 'be_with']}\n",
      "{'obj': 'NULL', 'acts': ['stand']}\n",
      "{'obj': 'person', 'acts': ['talk', 'accompany', 'be_with']}\n",
      "{'obj': 'person', 'acts': ['look', 'listen', 'be_with']}\n",
      "{'obj': 'person', 'acts': ['accompany', 'be_with']}\n",
      "{'obj': 'NULL', 'acts': ['stand']}\n",
      "{'obj': 'person', 'acts': ['talk', 'look', 'be_with']}\n",
      "{'obj': 'NULL', 'acts': ['stand']}\n",
      "{'obj': 'person', 'acts': ['be_with']}\n",
      "{'obj': 'person', 'acts': ['talk', 'look', 'be_with']}\n",
      "{'obj': 'NULL', 'acts': ['stand']}\n",
      "{'obj': 'person', 'acts': ['be_with']}\n",
      "{'obj': 'person', 'acts': ['look', 'be_with']}\n",
      "{'obj': 'person', 'acts': ['accompany', 'be_with']}\n",
      "{'obj': 'NULL', 'acts': ['stand']}\n",
      "{'obj': 'person', 'acts': ['talk', 'be_with']}\n",
      "{'obj': 'NULL', 'acts': ['stand']}\n",
      "{'obj': 'person', 'acts': ['be_with']}\n",
      "{'obj': 'person', 'acts': ['look']}\n",
      "{'obj': 'NULL', 'acts': ['stand']}\n",
      "{'obj': 'person', 'acts': []}\n",
      "{'obj': 'person', 'acts': ['look', 'be_with']}\n",
      "{'obj': 'person', 'acts': ['be_with']}\n",
      "{'obj': 'NULL', 'acts': ['stand']}\n"
     ]
    }
   ],
   "source": [
    "img_id = 376838\n",
    "# img_id = image_ids[2]\n",
    "print(img_id)\n",
    "print()\n",
    "\n",
    "img_anns = [\n",
    "    {'obj': cad.objects[cad.object_annotations[x['object_id']]['obj']] if x['object_id'] >= 0 else 'NULL',\n",
    "     'acts': [cad.actions[a] for a in x['actions']]\n",
    "    }\n",
    "    for x in cad.hoi_annotations[img_id]]\n",
    "print('\\n'.join([str(x) for x in img_anns]))\n",
    "\n",
    "# I = Image.open(os.path.join(cad.coco_dir, 'images', 'train2014', cad.image_infos[img_id]['file_name']))\n",
    "# I = np.asarray(I).clip(0, 255).astype(np.uint8)\n",
    "# plt.imshow(I)\n",
    "# plt.show()"
   ]
  },
  {
   "cell_type": "code",
   "execution_count": 6,
   "metadata": {},
   "outputs": [
    {
     "name": "stdout",
     "output_type": "stream",
     "text": [
      "__no_interaction__\n",
      "bow\n",
      "crouch\n",
      "cry\n",
      "draw\n",
      "fall\n",
      "float\n",
      "groan\n",
      "hang\n",
      "paint\n",
      "perch\n",
      "play_basketball_solo\n",
      "play_frisbee_solo\n",
      "play_instrument\n",
      "recline\n",
      "roll\n",
      "sing\n",
      "sleep\n",
      "spray\n",
      "squat\n",
      "swim\n",
      "write\n"
     ]
    }
   ],
   "source": [
    "# Check actions without objects\n",
    "e_str = sorted(set(cad.actions) -\n",
    "               {cad.actions[a]\n",
    "                for y in cad.hoi_annotations.values() \n",
    "                for x in y\n",
    "                if x['object_id'] >= 0\n",
    "                for a in x['actions']\n",
    "               })\n",
    "print('\\n'.join(e_str))"
   ]
  },
  {
   "cell_type": "code",
   "execution_count": 7,
   "metadata": {},
   "outputs": [
    {
     "name": "stdout",
     "output_type": "stream",
     "text": [
      "bend_object\n",
      "be_with\n",
      "play_baseball\n",
      "play_basketball\n",
      "play_frisbee\n",
      "play_soccer\n",
      "play_tennis\n",
      "shake_hands\n",
      "play_baseball_solo\n",
      "play_basketball_solo\n",
      "play_frisbee_solo\n",
      "play_instrument\n",
      "play_soccer_solo\n",
      "play_tennis_solo\n"
     ]
    }
   ],
   "source": [
    "# Check actions without objects\n",
    "print('\\n'.join([a for a in cad.actions[1:] if len(a.split('_')) > 1]))"
   ]
  },
  {
   "cell_type": "markdown",
   "metadata": {},
   "source": [
    "# COCO-A"
   ]
  },
  {
   "cell_type": "code",
   "execution_count": 2,
   "metadata": {},
   "outputs": [
    {
     "name": "stdout",
     "output_type": "stream",
     "text": [
      "COCO-a: eliminating duplicates.\n"
     ]
    }
   ],
   "source": [
    "cocoa = lib.dataset.cocoa.Cocoa()"
   ]
  },
  {
   "cell_type": "code",
   "execution_count": 3,
   "metadata": {},
   "outputs": [
    {
     "data": {
      "text/plain": "(146, 1759)"
     },
     "execution_count": 3,
     "metadata": {},
     "output_type": "execute_result"
    }
   ],
   "source": [
    "cocoa.num_actions, cocoa.num_interactions"
   ]
  },
  {
   "cell_type": "code",
   "execution_count": 5,
   "metadata": {},
   "outputs": [
    {
     "name": "stdout",
     "output_type": "stream",
     "text": [
      "3385\n",
      "993\n"
     ]
    }
   ],
   "source": [
    "split = cocoa.get_img_data('train')\n",
    "print(len(split))\n",
    "\n",
    "split = cocoa.get_img_data('test')\n",
    "print(len(split))"
   ]
  },
  {
   "cell_type": "code",
   "execution_count": 11,
   "metadata": {},
   "outputs": [
    {
     "data": {
      "text/plain": [
       "GTImgData(filename='COCO_train2014_000000331746.jpg', img_size=array([480, 640]), labels=array([ 22,  12,  74,  71,  82,  40,  67,  94, 130,  12,  71,  82,  67,\n",
       "        94,  94]), boxes=array([[ 70.72, 365.64, 125.23, 546.54],\n",
       "       [294.47,  32.44, 405.35, 175.32]]), box_classes=array([ 0, 33]), ho_pairs=array([[ 0.,  1.],\n",
       "       [ 0.,  1.],\n",
       "       [ 0.,  1.],\n",
       "       [ 0.,  1.],\n",
       "       [ 0.,  1.],\n",
       "       [ 0.,  1.],\n",
       "       [ 0.,  1.],\n",
       "       [ 0., nan],\n",
       "       [ 0., nan],\n",
       "       [ 0.,  1.],\n",
       "       [ 0.,  1.],\n",
       "       [ 0.,  1.],\n",
       "       [ 0.,  1.],\n",
       "       [ 0., nan],\n",
       "       [ 0., nan]]), ps_labels=None)"
      ]
     },
     "execution_count": 11,
     "metadata": {},
     "output_type": "execute_result"
    }
   ],
   "source": [
    "split[0]"
   ]
  }
 ],
 "metadata": {
  "kernelspec": {
   "display_name": "Python 3",
   "language": "python",
   "name": "python3"
  },
  "language_info": {
   "codemirror_mode": {
    "name": "ipython",
    "version": 3
   },
   "file_extension": ".py",
   "mimetype": "text/x-python",
   "name": "python",
   "nbconvert_exporter": "python",
   "pygments_lexer": "ipython3",
   "version": "3.6.8"
  }
 },
 "nbformat": 4,
 "nbformat_minor": 1
}