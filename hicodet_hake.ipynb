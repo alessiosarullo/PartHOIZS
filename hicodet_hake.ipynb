{
 "cells": [
  {
   "cell_type": "code",
   "execution_count": 5,
   "metadata": {},
   "outputs": [
    {
     "name": "stdout",
     "output_type": "stream",
     "text": [
      "The autoreload extension is already loaded. To reload it, use:\n",
      "  %reload_ext autoreload\n"
     ]
    }
   ],
   "source": [
    "%load_ext autoreload\n",
    "%autoreload 2\n",
    "\n",
    "import lib.dataset.hicodet_hake\n",
    "import numpy as np\n",
    "import json"
   ]
  },
  {
   "cell_type": "markdown",
   "metadata": {},
   "source": [
    "# HICODET-HAKE"
   ]
  },
  {
   "cell_type": "code",
   "execution_count": 3,
   "metadata": {},
   "outputs": [],
   "source": [
    "hh = lib.dataset.hicodet_hake.HicoDetHake()"
   ]
  },
  {
   "cell_type": "code",
   "execution_count": 7,
   "metadata": {},
   "outputs": [],
   "source": [
    "f = json.load(open('data/HICO-DET/HAKE/hico-det-training-set-instance-level.json', 'r'))"
   ]
  },
  {
   "cell_type": "code",
   "execution_count": 14,
   "metadata": {
    "scrolled": true
   },
   "outputs": [
    {
     "name": "stdout",
     "output_type": "stream",
     "text": [
      "38118\n"
     ]
    },
    {
     "data": {
      "text/plain": [
       "{'dataset': 'hico-det',\n",
       " 'labels': [{'action_labels': [{'human_part': 6, 'partstate': 0},\n",
       "    {'human_part': 9, 'partstate': 0},\n",
       "    {'human_part': 4, 'partstate': 0},\n",
       "    {'human_part': 0, 'partstate': 0},\n",
       "    {'human_part': 3, 'partstate': 0}],\n",
       "   'height': 480,\n",
       "   'hoi_id': 153,\n",
       "   'human_bbox': [208, 33, 427, 300],\n",
       "   'object_bbox': [59, 98, 572, 405],\n",
       "   'width': 640},\n",
       "  {'action_labels': [{'human_part': 4, 'partstate': 0},\n",
       "    {'human_part': 1, 'partstate': 6},\n",
       "    {'human_part': 2, 'partstate': 6}],\n",
       "   'height': 480,\n",
       "   'hoi_id': 156,\n",
       "   'human_bbox': [209, 26, 444, 317],\n",
       "   'object_bbox': [59, 99, 579, 395],\n",
       "   'width': 640},\n",
       "  {'action_labels': [{'human_part': 6, 'partstate': 0},\n",
       "    {'human_part': 9, 'partstate': 0},\n",
       "    {'human_part': 4, 'partstate': 0},\n",
       "    {'human_part': 0, 'partstate': 0},\n",
       "    {'human_part': 3, 'partstate': 0}],\n",
       "   'height': 480,\n",
       "   'hoi_id': 154,\n",
       "   'human_bbox': [213, 20, 438, 357],\n",
       "   'object_bbox': [77, 115, 583, 396],\n",
       "   'width': 640},\n",
       "  {'action_labels': [{'human_part': 4, 'partstate': 0}],\n",
       "   'height': 480,\n",
       "   'hoi_id': 155,\n",
       "   'human_bbox': [206, 33, 427, 306],\n",
       "   'object_bbox': [61, 100, 571, 401],\n",
       "   'width': 640}],\n",
       " 'path_prefix': 'hico_20160224_det/images/train2015'}"
      ]
     },
     "execution_count": 14,
     "metadata": {},
     "output_type": "execute_result"
    }
   ],
   "source": [
    "print(len(f))\n",
    "fnames = [k for k in f]\n",
    "f[fnames[0]]"
   ]
  },
  {
   "cell_type": "code",
   "execution_count": 22,
   "metadata": {},
   "outputs": [
    {
     "data": {
      "text/plain": [
       "102450"
      ]
     },
     "execution_count": 22,
     "metadata": {},
     "output_type": "execute_result"
    }
   ],
   "source": [
    "sum(['action_labels' in y for x in f.values() for y in x['labels']])"
   ]
  },
  {
   "cell_type": "code",
   "execution_count": 23,
   "metadata": {},
   "outputs": [
    {
     "data": {
      "text/plain": [
       "117654"
      ]
     },
     "execution_count": 23,
     "metadata": {},
     "output_type": "execute_result"
    }
   ],
   "source": [
    "sum([1 for x in f.values() for y in x['labels']])"
   ]
  },
  {
   "cell_type": "code",
   "execution_count": 30,
   "metadata": {},
   "outputs": [
    {
     "data": {
      "text/plain": [
       "False"
      ]
     },
     "execution_count": 30,
     "metadata": {},
     "output_type": "execute_result"
    }
   ],
   "source": [
    "all([bool(x['labels']) in x for x in f.values()])"
   ]
  }
 ],
 "metadata": {
  "kernelspec": {
   "display_name": "Python 3",
   "language": "python",
   "name": "python3"
  },
  "language_info": {
   "codemirror_mode": {
    "name": "ipython",
    "version": 3
   },
   "file_extension": ".py",
   "mimetype": "text/x-python",
   "name": "python",
   "nbconvert_exporter": "python",
   "pygments_lexer": "ipython3",
   "version": "3.6.8"
  }
 },
 "nbformat": 4,
 "nbformat_minor": 1
}
