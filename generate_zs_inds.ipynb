{
 "cells": [
  {
   "cell_type": "code",
   "execution_count": 4,
   "metadata": {
    "pycharm": {
     "name": "#%% Seen file #3-5 (80%/50%/33%, no overlap with part actions)\n"
    }
   },
   "outputs": [],
   "source": [
    "%load_ext autoreload\n",
    "%autoreload 2\n",
    "\n",
    "import pickle\n",
    "import numpy as np\n",
    "\n",
    "from lib.dataset.hicodet_hake import HicoDetHake\n",
    "from lib.dataset.vcoco import VCoco\n",
    "from lib.dataset.cocoa import Cocoa\n",
    "from lib.dataset.hico_cocoa import HicoCocoa"
   ]
  },
  {
   "cell_type": "code",
   "execution_count": 2,
   "metadata": {},
   "outputs": [],
   "source": [
    "hh = HicoDetHake()\n",
    "vcoco = VCoco()\n",
    "cocoa = Cocoa()"
   ]
  },
  {
   "cell_type": "code",
   "execution_count": 2,
   "metadata": {
    "pycharm": {
     "is_executing": false,
     "name": "#%% Seen file #3-5 (80%/50%/33%, no overlap with part actions)\n"
    }
   },
   "outputs": [
    {
     "name": "stdout",
     "output_type": "stream",
     "text": [
      "__no_interaction__, be_close_to, be_close_with, blow, carry, catch_with_something, cut_with_something, dribble, drink_with, eat, feed, gesture_to, hold, hold_in_both_hands, hug, inspect, is_close_with, jump_down, jump_with, kick, kiss, lick, lift, pinch, point_to, point_with, pour_into, press, pull, pull_with_something, push, put_on, put_something_over_head, raise, reach_for, run_to, run_with, scratch, shoulder_carry, sit_beside, sit_in, sit_on, smell, squeeze, stand_on, straddle, swing, talk_to, talk_with_something, throw, throw_out, touch, tread_on, twist, use_something_to_point_to, walk_away, walk_to, walk_with, wash, wash_with_something, wear, write_on \n",
      "\n",
      "__no_interaction__, adjust, assemble, block, blow, board, break, brush, buy, carry, catch, chase, check, clean, control, cook, cut, cut, direct, drag, dribble, drink, drive, dry, eat, eat, exit, feed, fill, flip, flush, fly, greet, grind, groom, herd, hit, hold, hop, hose, hug, hunt, inspect, install, jump, kick, kiss, lasso, launch, lick, lie, lift, light, load, lose, make, milk, move, open, operate, pack, paint, park, pay, peel, pet, pick, pick, point, pour, pull, push, race, read, release, repair, ride, row, run, sail, scratch, serve, set, shear, sign, sip, sit, sit, slide, smell, spin, squeeze, stab, stand, stand, stick, stir, stop, straddle, swing, tag, talk, teach, text, throw, tie, toast, train, turn, type, walk, wash, watch, wave, wear, wield, zip \n",
      "\n",
      "__no_interaction__, carry, catch, cut, cut, drink, eat, eat, hit, hit, hold, jump, kick, lay, look, point, read, ride, run, sit, skateboard, ski, smile, snowboard, stand, surf, talk, throw, walk, work \n",
      "\n",
      "__no_interaction__, carry, catch, cut, cut, drink, eat, eat, hit, hit, hold, inspect, jump, kick, lie, point, read, ride, ride, ride, ride, ride, run, sit, smile, stand, talk, throw, type, walk \n",
      "\n",
      "smile \n",
      "\n",
      "away, be, beside, blow, both, carry, catch, close, cut, down, dribble, drink, eat, feed, for, gesture, hands, head, hold, hug, in, inspect, into, is, jump, kick, kiss, lick, lift, on, out, over, pinch, point, pour, press, pull, push, put, raise, reach, run, scratch, shoulder, sit, smell, something, squeeze, stand, straddle, swing, talk, throw, to, touch, tread, twist, use, walk, wash, wear, with, write \n",
      "\n",
      "hit_instr, hit_obj, lay_instr, read_obj, ride_instr, skateboard_instr, ski_instr, smile_agent, snowboard_instr, surf_instr, work_on_computer_instr \n",
      "\n",
      "hit, lay, read, ride, skateboard, ski, smile, snowboard, surf, work_on_computer \n",
      "\n"
     ]
    }
   ],
   "source": [
    "# Generate V-COCO unseen actions. Note: this is deterministic, as \n",
    "# all unseen actions are used.\n",
    "\n",
    "pacts = sorted({hh.get_action_from_state(x) for x in hh.states})\n",
    "print(', '.join(sorted(pacts)), '\\n')\n",
    "\n",
    "hacts = [hh.actions[0]] + [a.split('_')[0] for a in hh.actions[1:]]\n",
    "print(', '.join(sorted(hacts)), '\\n')\n",
    "\n",
    "v_to_h_mapping = {'lay': 'lie', \n",
    "                  'look': 'inspect',\n",
    "                  'skateboard': 'ride', \n",
    "                  'ski': 'ride',\n",
    "                  'snowboard': 'ride',\n",
    "                  'surf': 'ride',\n",
    "                  'work': 'type'\n",
    "                 }\n",
    "vacts = [vcoco.actions[0]] + [a.split('_')[0] for a in vcoco.actions[1:]]\n",
    "print(', '.join(sorted(vacts)), '\\n')\n",
    "vacts = [v_to_h_mapping.get(a, a) for a in vacts]\n",
    "print(', '.join(sorted(vacts)), '\\n')\n",
    "\n",
    "new_v = set(vacts) - set(hacts)\n",
    "print(', '.join(sorted(new_v)), '\\n')\n",
    "\n",
    "words_in_pacts = {w for a in pacts for w in a.split('_') if a != hh.null_action}\n",
    "print(', '.join(sorted(words_in_pacts)), '\\n')\n",
    "\n",
    "possible_unseen_acts_inds = np.array([i for i, a in enumerate(vacts) \n",
    "                                      if a != hh.null_action and a not in words_in_pacts])\n",
    "possible_unseen_acts = [vcoco.actions[i] for i in possible_unseen_acts_inds]\n",
    "print(', '.join(sorted(possible_unseen_acts)), '\\n')\n",
    "print(', '.join(sorted({'_'.join(a.split('_')[:-1]) for a in possible_unseen_acts})), '\\n')\n",
    "\n",
    "with open(f'zero-shot_inds/vcoco_seen_inds_0.pkl.push', 'wb') as f:  # Fake one to use for test (no actual unseen)\n",
    "    pickle.dump({'train': {'act': np.arange(vcoco.num_actions)}},\n",
    "                f)\n",
    "\n",
    "with open(f'zero-shot_inds/vcoco_seen_inds_1.pkl.push', 'wb') as f:\n",
    "    seen_acts = np.setdiff1d(np.arange(vcoco.num_actions), possible_unseen_acts_inds)\n",
    "    pickle.dump({'train': {'act': seen_acts}},\n",
    "                f)"
   ]
  },
  {
   "cell_type": "code",
   "execution_count": 9,
   "metadata": {},
   "outputs": [
    {
     "name": "stdout",
     "output_type": "stream",
     "text": [
      "600 / 2071 = 0.28971511347175277\n",
      "520 / 2071 = 0.2510864316755191\n",
      "1471 / 2071 = 0.7102848865282472\n"
     ]
    }
   ],
   "source": [
    "# Check seen classes file\n",
    "\n",
    "ds = HicoCocoa()\n",
    "name = 'hc'\n",
    "fnum = 1\n",
    "\n",
    "d = pickle.load(open(f'zero-shot_inds/{name}_seen_inds_{fnum}.pkl.push', 'rb'))\n",
    "\n",
    "try:\n",
    "    ainds = d['train']['act']\n",
    "    oinds = d['train'].get('obj', np.arange(ds.num_objects))\n",
    "\n",
    "    print(f'{len(set(ainds.tolist()))} / {ds.num_actions} = '\n",
    "          f'{len(set(ainds.tolist())) / ds.num_actions}')\n",
    "    print(f'{len(set(oinds.tolist()))} / {ds.num_objects} = '\n",
    "          f'{len(set(oinds.tolist())) / ds.num_objects}')\n",
    "\n",
    "    fg_hois = [(a, o) for a, o in ds.interactions if a > 0]\n",
    "    print(f'{len(fg_hois)} / {ds.num_interactions} = '\n",
    "          f'{len(fg_hois) / ds.num_interactions}')\n",
    "\n",
    "    seen_hois_inds = [i for i, (a, o) in enumerate(ds.interactions)\n",
    "                      if a in ainds]\n",
    "except KeyError:\n",
    "    seen_hois_inds = d['train']['hoi']\n",
    "\n",
    "seen_hois = [ds.interactions[i] for i in seen_hois_inds]\n",
    "print(f'{len(seen_hois)} / {ds.num_interactions} = '\n",
    "      f'{len(seen_hois) / ds.num_interactions}')\n",
    "seen_fg_hois = [ds.interactions[i] for i in seen_hois_inds\n",
    "                if ds.interactions[i, 0] > 0]\n",
    "print(f'{len(seen_fg_hois)} / {ds.num_interactions} = '\n",
    "      f'{len(seen_fg_hois) / ds.num_interactions}')\n",
    "\n",
    "unseen_hois_inds = np.setdiff1d(np.arange(ds.num_interactions), seen_hois_inds)\n",
    "unseen_fg_hois = [ds.interactions[i] for i in unseen_hois_inds\n",
    "                if ds.interactions[i, 0] > 0]\n",
    "print(f'{len(unseen_fg_hois)} / {ds.num_interactions} = '\n",
    "      f'{len(unseen_fg_hois) / ds.num_interactions}')"
   ]
  },
  {
   "cell_type": "code",
   "execution_count": 21,
   "metadata": {},
   "outputs": [
    {
     "name": "stdout",
     "output_type": "stream",
     "text": [
      "1681 1048\n",
      "146 104 83 0 21\n",
      "146 83 63\n"
     ]
    }
   ],
   "source": [
    "# Generate COCO-A unseen actions. Note: this is deterministic, as all unseen actions are used.\n",
    "\n",
    "unseen_acts_str = set(cocoa.actions) - set(hh.actions[1:])\n",
    "interactions = [(a, o) for (a, o) in cocoa.interactions if a > 0]\n",
    "oov_interactions = [(a, o) for (a, o) in interactions if cocoa.actions[a] in unseen_acts_str]\n",
    "print(len(interactions), len(oov_interactions))\n",
    "\n",
    "oov_acts = {a for a, o in oov_interactions}\n",
    "oov_acts_str = {cocoa.actions[a] for a in oov_acts}\n",
    "print(cocoa.num_actions, len(unseen_acts_str), len(oov_acts), \n",
    "      len(oov_acts_str - unseen_acts_str), len(unseen_acts_str - oov_acts_str))\n",
    "\n",
    "seen_act_inds = np.array(sorted(set(range(cocoa.num_actions)) - oov_acts))\n",
    "print(cocoa.num_actions, len(oov_acts), seen_act_inds.size)\n",
    "assert 0 in seen_act_inds\n",
    "\n",
    "with open(f'zero-shot_inds/cocoa_seen_inds_0.pkl.push', 'wb') as f:  # Fake one to use for test (no actual unseen)\n",
    "    pickle.dump({'train': {'act': np.arange(cocoa.num_actions)}},\n",
    "                f)\n",
    "\n",
    "with open(f'zero-shot_inds/cocoa_seen_inds_1.pkl.push', 'wb') as f:\n",
    "    pickle.dump({'train': {'act': seen_act_inds}},\n",
    "                f)"
   ]
  },
  {
   "cell_type": "code",
   "execution_count": 6,
   "outputs": [
    {
     "name": "stdout",
     "output_type": "stream",
     "text": [
      "Done.\n"
     ]
    }
   ],
   "source": [
    "\n",
    "hc = HicoCocoa()\n",
    "\n",
    "seen_interactions = hc.hico_interaction_mapping\n",
    "\n",
    "assert [hc.interactions_str[i] for i in seen_interactions] == hc.hico.interactions_str\n",
    "\n",
    "with open(f'zero-shot_inds/hc_seen_inds_0.pkl.push', 'wb') as f:  # Fake one to use for test (no actual unseen)\n",
    "    pickle.dump({'train': {'hoi': np.arange(hc.num_interactions)}},\n",
    "                f)\n",
    "with open(f'zero-shot_inds/hc_seen_inds_1.pkl.push', 'wb') as f:\n",
    "    pickle.dump({'train': {'hoi': seen_interactions}},\n",
    "                f)\n",
    "print('Done.')"
   ],
   "metadata": {
    "collapsed": false,
    "pycharm": {
     "name": "#%% HICO+COCO-a\n"
    }
   }
  }
 ],
 "metadata": {
  "kernelspec": {
   "display_name": "Python 3",
   "language": "python",
   "name": "python3"
  },
  "language_info": {
   "codemirror_mode": {
    "name": "ipython",
    "version": 3
   },
   "file_extension": ".py",
   "mimetype": "text/x-python",
   "name": "python",
   "nbconvert_exporter": "python",
   "pygments_lexer": "ipython3",
   "version": "3.6.8"
  }
 },
 "nbformat": 4,
 "nbformat_minor": 1
}