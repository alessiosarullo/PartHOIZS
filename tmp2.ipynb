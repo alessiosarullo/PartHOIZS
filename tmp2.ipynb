{
 "cells": [
  {
   "cell_type": "code",
   "execution_count": 3,
   "metadata": {},
   "outputs": [
    {
     "name": "stdout",
     "output_type": "stream",
     "text": [
      "The autoreload extension is already loaded. To reload it, use:\n",
      "  %reload_ext autoreload\n"
     ]
    }
   ],
   "source": [
    "%load_ext autoreload\n",
    "%autoreload 2\n",
    "\n",
    "import lib.dataset.vcoco\n",
    "import numpy as np"
   ]
  },
  {
   "cell_type": "markdown",
   "metadata": {},
   "source": [
    "# V-COCO Driver"
   ]
  },
  {
   "cell_type": "code",
   "execution_count": 4,
   "metadata": {},
   "outputs": [],
   "source": [
    "vcoco = lib.dataset.vcoco.VCocoDriver()"
   ]
  },
  {
   "cell_type": "code",
   "execution_count": 5,
   "metadata": {},
   "outputs": [
    {
     "name": "stdout",
     "output_type": "stream",
     "text": [
      "['image_id', 'ann_id', 'role_object_id', 'label', 'action_name', 'role_name', 'include']\n",
      "{'image_id': 3932, 'ann_id': 3932, 'role_object_id': 11796, 'label': 3932, 'action_name': 3, 'role_name': 3, 'include': 3}\n",
      "{'image_id': 2533, 'ann_id': 3932, 'role_object_id': 4190, 'label': 2, 'action_name': 1, 'role_name': 3, 'include': 3}\n",
      "[[226162, 210751, 433398, 54995, 78578], [183192, 183193, 183205, 183272, 183314], [183192, 183193, 183205, 183272, 183314], [1, 1, 1, 1, 1]]\n",
      "[[], [], [647240, 673832, 0, 1516215, 694458], []]\n",
      "[5385, 4923]\n",
      "\n",
      "{'file_name': 'COCO_train2014_000000226162.jpg', 'height': 427, 'width': 640}\n",
      "{'ann_id': 183192, 'role_object_id': [647240], 'action': 0}\n",
      "{'ann_id': 183192, 'role_object_id': [], 'action': 1}\n",
      "{'ann_id': 183192, 'role_object_id': [], 'action': 4}\n",
      "{'ann_id': 183192, 'role_object_id': [0], 'action': 5}\n",
      "{'ann_id': 183192, 'role_object_id': [647240], 'action': 11}\n",
      "{'image_id': 226162, 'bbox': [154.49, 71.25, 158.32, 324.32], 'obj': 0}\n",
      "{'image_id': 226162, 'bbox': [35.3, 143.39, 355.59, 102.12], 'obj': 37}\n"
     ]
    }
   ],
   "source": [
    "# This is to understand how these annotations work\n",
    "\n",
    "data = vcoco.all_hoi_data_per_split\n",
    "\n",
    "print([k for k in data['train'][0]])\n",
    "\n",
    "print({k: len(v) for k, v in data['train'][6].items()})\n",
    "print({k: len(np.unique(v)) for k, v in data['train'][6].items()})\n",
    "print([data['train'][0][k][:5] for k in ['image_id', 'ann_id', 'role_object_id', 'label']])\n",
    "print([data['train'][0][k][3932:3937] for k in ['image_id', 'ann_id', 'role_object_id', 'label']])\n",
    "print([len(v) for k, v in vcoco.hoi_annotations_per_split.items()])\n",
    "print()\n",
    "\n",
    "print(vcoco.image_infos[226162])\n",
    "print('\\n'.join([str(x) for x in vcoco.hoi_annotations_per_split['train'][226162]]))\n",
    "print(vcoco.object_annotations[183192])\n",
    "print(vcoco.object_annotations[647240])"
   ]
  },
  {
   "cell_type": "code",
   "execution_count": 6,
   "metadata": {},
   "outputs": [
    {
     "name": "stdout",
     "output_type": "stream",
     "text": [
      " 0 {'supercategory': 'person', 'id': 1, 'name': 'person'}\n",
      " 1 {'supercategory': 'vehicle', 'id': 2, 'name': 'bicycle'}\n",
      " 2 {'supercategory': 'vehicle', 'id': 3, 'name': 'car'}\n",
      " 3 {'supercategory': 'vehicle', 'id': 4, 'name': 'motorcycle'}\n",
      " 4 {'supercategory': 'vehicle', 'id': 5, 'name': 'airplane'}\n",
      " 5 {'supercategory': 'vehicle', 'id': 6, 'name': 'bus'}\n",
      " 6 {'supercategory': 'vehicle', 'id': 7, 'name': 'train'}\n",
      " 7 {'supercategory': 'vehicle', 'id': 8, 'name': 'truck'}\n",
      " 8 {'supercategory': 'vehicle', 'id': 9, 'name': 'boat'}\n",
      " 9 {'supercategory': 'outdoor', 'id': 10, 'name': 'traffic light'}\n",
      "10 {'supercategory': 'outdoor', 'id': 11, 'name': 'fire hydrant'}\n",
      "11 {'supercategory': 'outdoor', 'id': 13, 'name': 'stop sign'}\n",
      "12 {'supercategory': 'outdoor', 'id': 14, 'name': 'parking meter'}\n",
      "13 {'supercategory': 'outdoor', 'id': 15, 'name': 'bench'}\n",
      "14 {'supercategory': 'animal', 'id': 16, 'name': 'bird'}\n",
      "15 {'supercategory': 'animal', 'id': 17, 'name': 'cat'}\n",
      "16 {'supercategory': 'animal', 'id': 18, 'name': 'dog'}\n",
      "17 {'supercategory': 'animal', 'id': 19, 'name': 'horse'}\n",
      "18 {'supercategory': 'animal', 'id': 20, 'name': 'sheep'}\n",
      "19 {'supercategory': 'animal', 'id': 21, 'name': 'cow'}\n",
      "20 {'supercategory': 'animal', 'id': 22, 'name': 'elephant'}\n",
      "21 {'supercategory': 'animal', 'id': 23, 'name': 'bear'}\n",
      "22 {'supercategory': 'animal', 'id': 24, 'name': 'zebra'}\n",
      "23 {'supercategory': 'animal', 'id': 25, 'name': 'giraffe'}\n",
      "24 {'supercategory': 'accessory', 'id': 27, 'name': 'backpack'}\n",
      "25 {'supercategory': 'accessory', 'id': 28, 'name': 'umbrella'}\n",
      "26 {'supercategory': 'accessory', 'id': 31, 'name': 'handbag'}\n",
      "27 {'supercategory': 'accessory', 'id': 32, 'name': 'tie'}\n",
      "28 {'supercategory': 'accessory', 'id': 33, 'name': 'suitcase'}\n",
      "29 {'supercategory': 'sports', 'id': 34, 'name': 'frisbee'}\n",
      "30 {'supercategory': 'sports', 'id': 35, 'name': 'skis'}\n",
      "31 {'supercategory': 'sports', 'id': 36, 'name': 'snowboard'}\n",
      "32 {'supercategory': 'sports', 'id': 37, 'name': 'sports ball'}\n",
      "33 {'supercategory': 'sports', 'id': 38, 'name': 'kite'}\n",
      "34 {'supercategory': 'sports', 'id': 39, 'name': 'baseball bat'}\n",
      "35 {'supercategory': 'sports', 'id': 40, 'name': 'baseball glove'}\n",
      "36 {'supercategory': 'sports', 'id': 41, 'name': 'skateboard'}\n",
      "37 {'supercategory': 'sports', 'id': 42, 'name': 'surfboard'}\n",
      "38 {'supercategory': 'sports', 'id': 43, 'name': 'tennis racket'}\n",
      "39 {'supercategory': 'kitchen', 'id': 44, 'name': 'bottle'}\n",
      "40 {'supercategory': 'kitchen', 'id': 46, 'name': 'wine glass'}\n",
      "41 {'supercategory': 'kitchen', 'id': 47, 'name': 'cup'}\n",
      "42 {'supercategory': 'kitchen', 'id': 48, 'name': 'fork'}\n",
      "43 {'supercategory': 'kitchen', 'id': 49, 'name': 'knife'}\n",
      "44 {'supercategory': 'kitchen', 'id': 50, 'name': 'spoon'}\n",
      "45 {'supercategory': 'kitchen', 'id': 51, 'name': 'bowl'}\n",
      "46 {'supercategory': 'food', 'id': 52, 'name': 'banana'}\n",
      "47 {'supercategory': 'food', 'id': 53, 'name': 'apple'}\n",
      "48 {'supercategory': 'food', 'id': 54, 'name': 'sandwich'}\n",
      "49 {'supercategory': 'food', 'id': 55, 'name': 'orange'}\n",
      "50 {'supercategory': 'food', 'id': 56, 'name': 'broccoli'}\n",
      "51 {'supercategory': 'food', 'id': 57, 'name': 'carrot'}\n",
      "52 {'supercategory': 'food', 'id': 58, 'name': 'hot dog'}\n",
      "53 {'supercategory': 'food', 'id': 59, 'name': 'pizza'}\n",
      "54 {'supercategory': 'food', 'id': 60, 'name': 'donut'}\n",
      "55 {'supercategory': 'food', 'id': 61, 'name': 'cake'}\n",
      "56 {'supercategory': 'furniture', 'id': 62, 'name': 'chair'}\n",
      "57 {'supercategory': 'furniture', 'id': 63, 'name': 'couch'}\n",
      "58 {'supercategory': 'furniture', 'id': 64, 'name': 'potted plant'}\n",
      "59 {'supercategory': 'furniture', 'id': 65, 'name': 'bed'}\n",
      "60 {'supercategory': 'furniture', 'id': 67, 'name': 'dining table'}\n",
      "61 {'supercategory': 'furniture', 'id': 70, 'name': 'toilet'}\n",
      "62 {'supercategory': 'electronic', 'id': 72, 'name': 'tv'}\n",
      "63 {'supercategory': 'electronic', 'id': 73, 'name': 'laptop'}\n",
      "64 {'supercategory': 'electronic', 'id': 74, 'name': 'mouse'}\n",
      "65 {'supercategory': 'electronic', 'id': 75, 'name': 'remote'}\n",
      "66 {'supercategory': 'electronic', 'id': 76, 'name': 'keyboard'}\n",
      "67 {'supercategory': 'electronic', 'id': 77, 'name': 'cell phone'}\n",
      "68 {'supercategory': 'appliance', 'id': 78, 'name': 'microwave'}\n",
      "69 {'supercategory': 'appliance', 'id': 79, 'name': 'oven'}\n",
      "70 {'supercategory': 'appliance', 'id': 80, 'name': 'toaster'}\n",
      "71 {'supercategory': 'appliance', 'id': 81, 'name': 'sink'}\n",
      "72 {'supercategory': 'appliance', 'id': 82, 'name': 'refrigerator'}\n",
      "73 {'supercategory': 'indoor', 'id': 84, 'name': 'book'}\n",
      "74 {'supercategory': 'indoor', 'id': 85, 'name': 'clock'}\n",
      "75 {'supercategory': 'indoor', 'id': 86, 'name': 'vase'}\n",
      "76 {'supercategory': 'indoor', 'id': 87, 'name': 'scissors'}\n",
      "77 {'supercategory': 'indoor', 'id': 88, 'name': 'teddy bear'}\n",
      "78 {'supercategory': 'indoor', 'id': 89, 'name': 'hair drier'}\n",
      "79 {'supercategory': 'indoor', 'id': 90, 'name': 'toothbrush'}\n"
     ]
    }
   ],
   "source": [
    "print('\\n'.join([f'{i:2d} {str(c)}' for i, c in enumerate(vcoco.object_class_data)]))"
   ]
  },
  {
   "cell_type": "code",
   "execution_count": 7,
   "metadata": {},
   "outputs": [
    {
     "data": {
      "text/plain": [
       "[{'action_name': 'hold', 'role_name': ['agent', 'obj'], 'include': [[], []]},\n",
       " {'action_name': 'stand', 'role_name': ['agent'], 'include': [[]]},\n",
       " {'action_name': 'sit',\n",
       "  'role_name': ['agent', 'instr'],\n",
       "  'include': [[],\n",
       "   ['bicycle',\n",
       "    'motorcycle',\n",
       "    'horse',\n",
       "    'elephant',\n",
       "    'bench',\n",
       "    'chair',\n",
       "    'couch',\n",
       "    'bed',\n",
       "    'toilet',\n",
       "    'dining table',\n",
       "    'suitcase',\n",
       "    'handbag',\n",
       "    'backpack']]},\n",
       " {'action_name': 'ride',\n",
       "  'role_name': ['agent', 'instr'],\n",
       "  'include': [[],\n",
       "   ['bicycle',\n",
       "    'motorcycle',\n",
       "    'bus',\n",
       "    'truck',\n",
       "    'boat',\n",
       "    'train',\n",
       "    'airplane',\n",
       "    'car',\n",
       "    'horse',\n",
       "    'elephant']]},\n",
       " {'action_name': 'walk', 'role_name': ['agent'], 'include': [[]]},\n",
       " {'action_name': 'look', 'role_name': ['agent', 'obj'], 'include': [[], []]},\n",
       " {'action_name': 'hit',\n",
       "  'role_name': ['agent', 'instr', 'obj'],\n",
       "  'include': [[], ['tennis racket', 'baseball bat'], ['sports ball']]},\n",
       " {'action_name': 'eat',\n",
       "  'role_name': ['agent', 'obj', 'instr'],\n",
       "  'include': [[],\n",
       "   ['banana',\n",
       "    'apple',\n",
       "    'sandwich',\n",
       "    'orange',\n",
       "    'carrot',\n",
       "    'broccoli',\n",
       "    'hot dog',\n",
       "    'pizza',\n",
       "    'cake',\n",
       "    'donut'],\n",
       "   ['fork', 'knife', 'spoon']]},\n",
       " {'action_name': 'jump',\n",
       "  'role_name': ['agent', 'instr'],\n",
       "  'include': [[], ['snowboard', 'skis', 'skateboard', 'surfboard']]},\n",
       " {'action_name': 'lay',\n",
       "  'role_name': ['agent', 'instr'],\n",
       "  'include': [[],\n",
       "   ['bench', 'dining table', 'toilet', 'bed', 'couch', 'chair']]},\n",
       " {'action_name': 'talk_on_phone',\n",
       "  'role_name': ['agent', 'instr'],\n",
       "  'include': [[], ['cell phone']]},\n",
       " {'action_name': 'carry', 'role_name': ['agent', 'obj'], 'include': [[], []]},\n",
       " {'action_name': 'throw',\n",
       "  'role_name': ['agent', 'obj'],\n",
       "  'include': [[], ['sports ball', 'frisbee']]},\n",
       " {'action_name': 'catch',\n",
       "  'role_name': ['agent', 'obj'],\n",
       "  'include': [[], ['sports ball', 'frisbee']]},\n",
       " {'action_name': 'cut',\n",
       "  'role_name': ['agent', 'instr', 'obj'],\n",
       "  'include': [[], ['scissors', 'fork', 'knife'], []]},\n",
       " {'action_name': 'run', 'role_name': ['agent'], 'include': [[]]},\n",
       " {'action_name': 'work_on_computer',\n",
       "  'role_name': ['agent', 'instr'],\n",
       "  'include': [[], ['laptop']]},\n",
       " {'action_name': 'ski',\n",
       "  'role_name': ['agent', 'instr'],\n",
       "  'include': [[], ['skis']]},\n",
       " {'action_name': 'surf',\n",
       "  'role_name': ['agent', 'instr'],\n",
       "  'include': [[], ['surfboard']]},\n",
       " {'action_name': 'skateboard',\n",
       "  'role_name': ['agent', 'instr'],\n",
       "  'include': [[], ['skateboard']]},\n",
       " {'action_name': 'smile', 'role_name': ['agent'], 'include': [[]]},\n",
       " {'action_name': 'drink',\n",
       "  'role_name': ['agent', 'instr'],\n",
       "  'include': [[], ['wine glass', 'bottle', 'cup', 'bowl']]},\n",
       " {'action_name': 'kick',\n",
       "  'role_name': ['agent', 'obj'],\n",
       "  'include': [[], ['sports ball']]},\n",
       " {'action_name': 'point',\n",
       "  'role_name': ['agent', 'instr'],\n",
       "  'include': [[], []]},\n",
       " {'action_name': 'read',\n",
       "  'role_name': ['agent', 'obj'],\n",
       "  'include': [[], ['book']]},\n",
       " {'action_name': 'snowboard',\n",
       "  'role_name': ['agent', 'instr'],\n",
       "  'include': [[], ['snowboard']]}]"
      ]
     },
     "execution_count": 7,
     "metadata": {},
     "output_type": "execute_result"
    }
   ],
   "source": [
    "vcoco.interaction_class_data"
   ]
  },
  {
   "cell_type": "code",
   "execution_count": 8,
   "metadata": {},
   "outputs": [
    {
     "name": "stdout",
     "output_type": "stream",
     "text": [
      "10346\n",
      "{'file_name': 'COCO_train2014_000000161919.jpg', 'height': 612, 'width': 612}\n"
     ]
    }
   ],
   "source": [
    "print(len(vcoco.image_infos))\n",
    "keys = [k for k in vcoco.image_infos]\n",
    "print(vcoco.image_infos[keys[0]])"
   ]
  },
  {
   "cell_type": "code",
   "execution_count": 9,
   "metadata": {},
   "outputs": [
    {
     "name": "stdout",
     "output_type": "stream",
     "text": [
      "90422 80\n",
      "{'image_id': 50518, 'bbox': [245.54, 208.17, 40.14, 19.1], 'obj': 52}\n",
      "['person', 'bicycle', 'car', 'motorcycle', 'airplane']\n"
     ]
    }
   ],
   "source": [
    "print(len(vcoco.object_annotations), len(vcoco.objects))\n",
    "keys = [k for k in vcoco.object_annotations]\n",
    "print(vcoco.object_annotations[keys[0]])\n",
    "print(vcoco.objects[:5])"
   ]
  },
  {
   "cell_type": "code",
   "execution_count": 10,
   "metadata": {},
   "outputs": [
    {
     "name": "stdout",
     "output_type": "stream",
     "text": [
      "5385 26\n",
      "{'ann_id': 443487, 'role_object_id': [1158284], 'action': 0}\n",
      "{'ann_id': 487235, 'role_object_id': [293955], 'action': 0}\n",
      "{'ann_id': 443487, 'role_object_id': [], 'action': 1}\n",
      "{'ann_id': 487235, 'role_object_id': [], 'action': 1}\n",
      "{'ann_id': 443487, 'role_object_id': [293955], 'action': 5}\n",
      "{'ann_id': 443487, 'role_object_id': [1158284, 293955], 'action': 14}\n",
      "{'ann_id': 443487, 'role_object_id': [], 'action': 20}\n",
      "{'ann_id': 487235, 'role_object_id': [], 'action': 20}\n",
      "{'image_id': 165, 'bbox': [6.02, 24.09, 354.12, 504.68], 'obj': 0}\n",
      "{'image_id': 165, 'bbox': [160.71, 173.45, 90.68, 217.18], 'obj': 27}\n",
      "['hold', 'stand', 'sit', 'ride', 'walk']\n"
     ]
    }
   ],
   "source": [
    "hoidata = vcoco.hoi_annotations_per_split['train']\n",
    "print(len(hoidata), len(vcoco.actions))\n",
    "keys = [k for k in hoidata]\n",
    "print('\\n'.join([str(x) for x in hoidata[keys[0]]]))\n",
    "y = hoidata[keys[0]][1]\n",
    "print(vcoco.object_annotations[y['ann_id']])\n",
    "print(vcoco.object_annotations[y['role_object_id'][0]])\n",
    "print(vcoco.actions[:5])"
   ]
  },
  {
   "cell_type": "code",
   "execution_count": 11,
   "metadata": {},
   "outputs": [
    {
     "data": {
      "text/plain": [
       "['COCO_train2014_000000000165.jpg',\n",
       " 'COCO_train2014_000000000368.jpg',\n",
       " 'COCO_train2014_000000000436.jpg',\n",
       " 'COCO_train2014_000000000531.jpg',\n",
       " 'COCO_train2014_000000000625.jpg',\n",
       " 'COCO_train2014_000000000965.jpg',\n",
       " 'COCO_train2014_000000001011.jpg',\n",
       " 'COCO_train2014_000000001102.jpg',\n",
       " 'COCO_train2014_000000001108.jpg',\n",
       " 'COCO_train2014_000000001183.jpg']"
      ]
     },
     "execution_count": 11,
     "metadata": {},
     "output_type": "execute_result"
    }
   ],
   "source": [
    "fnames_per_split = {k: [vcoco.image_infos[fid]['file_name'] for fid in v.keys()] \n",
    "                    for k, v in vcoco.hoi_annotations_per_split.items()}\n",
    "fnames_per_split['train'][:10]"
   ]
  },
  {
   "cell_type": "markdown",
   "metadata": {},
   "source": [
    "# V-COCO"
   ]
  },
  {
   "cell_type": "code",
   "execution_count": null,
   "metadata": {},
   "outputs": [],
   "source": []
  }
 ],
 "metadata": {
  "kernelspec": {
   "display_name": "Python 3",
   "language": "python",
   "name": "python3"
  },
  "language_info": {
   "codemirror_mode": {
    "name": "ipython",
    "version": 3
   },
   "file_extension": ".py",
   "mimetype": "text/x-python",
   "name": "python",
   "nbconvert_exporter": "python",
   "pygments_lexer": "ipython3",
   "version": "3.6.8"
  }
 },
 "nbformat": 4,
 "nbformat_minor": 1
}
