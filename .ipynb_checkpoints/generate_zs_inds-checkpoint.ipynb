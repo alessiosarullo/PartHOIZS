{
 "cells": [
  {
   "cell_type": "code",
   "execution_count": 14,
   "metadata": {
    "pycharm": {
     "is_executing": false,
     "name": "#%% Seen file #3-5 (80%/50%/33%, no overlap with part actions)\n"
    }
   },
   "outputs": [
    {
     "name": "stdout",
     "output_type": "stream",
     "text": [
      "Num seen: 94\n",
      "Num seen: 59\n",
      "Num seen: 39\n"
     ]
    }
   ],
   "source": [
    "import pickle\n",
    "import numpy as np\n",
    "from lib.dataset.hicodet_hake import HicoDetHake\n",
    "from lib.dataset.vcoco import VCoco\n",
    "\n",
    "hh = HicoHake()\n",
    "pacts = {a for p, a in hh.part_actions_pairs}\n",
    "acts = {a.replace('_', ' ') for a in hh.actions[1:]} | {hh.null_action}\n",
    "common = sorted((acts & pacts) - {hh.null_action})\n",
    "pacts_ex = sorted(pacts - acts)\n",
    "acts_ex = sorted(acts - pacts)\n",
    "\n",
    "words_in_pacts = {w for a in pacts for w in a.split()}\n",
    "possible_unseen_acts_inds = np.array([i for i, a in enumerate(hh.actions) \n",
    "                                      if a != hh.null_action and a.split('_')[0] not in words_in_pacts])\n",
    "possible_unseen_acts = [hh.actions[i] for i in possible_unseen_acts_inds]\n",
    "\n",
    "for i, perc_seen in enumerate([80, 50, 33]):\n",
    "    num_unseen = min(len(possible_unseen_acts_inds), \n",
    "                     (hh.num_actions * (100 - perc_seen)) // 100)\n",
    "    unseen_acts = np.random.choice(possible_unseen_acts_inds, \n",
    "                                   size=num_unseen,\n",
    "                                   replace=False)\n",
    "    seen_acts = np.setdiff1d(np.arange(hh.num_actions), unseen_acts)\n",
    "    print(f'Num seen: {seen_acts.size}')\n",
    "    d = {'train': {'obj': np.arange(hh.num_objects), \n",
    "                   'act': seen_acts\n",
    "                   }}\n",
    "    with open(f'zero-shot_inds/seen_inds_{3 + i}.pkl.push', 'wb') as f:\n",
    "        pickle.dump(d, f)"
   ]
  }
 ],
 "metadata": {
  "kernelspec": {
   "display_name": "Python 3",
   "language": "python",
   "name": "python3"
  },
  "language_info": {
   "codemirror_mode": {
    "name": "ipython",
    "version": 3
   },
   "file_extension": ".py",
   "mimetype": "text/x-python",
   "name": "python",
   "nbconvert_exporter": "python",
   "pygments_lexer": "ipython3",
   "version": "3.6.8"
  },
  "pycharm": {
   "stem_cell": {
    "cell_type": "raw",
    "metadata": {
     "collapsed": false
    },
    "source": []
   }
  }
 },
 "nbformat": 4,
 "nbformat_minor": 1
}
